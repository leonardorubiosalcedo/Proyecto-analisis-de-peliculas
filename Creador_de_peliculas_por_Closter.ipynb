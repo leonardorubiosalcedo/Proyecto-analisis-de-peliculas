{
  "nbformat": 4,
  "nbformat_minor": 0,
  "metadata": {
    "colab": {
      "name": "Creador de peliculas_por_Closter.ipynb",
      "provenance": [],
      "collapsed_sections": []
    },
    "kernelspec": {
      "name": "python3",
      "display_name": "Python 3"
    }
  },
  "cells": [
    {
      "cell_type": "code",
      "metadata": {
        "id": "zVwKcBO7yInJ"
      },
      "source": [
        "from __future__ import absolute_import, division, print_function, unicode_literals\n",
        "import os\n",
        "import re\n",
        "import time\n",
        "import numpy as np\n",
        "import pandas as pd"
      ],
      "execution_count": null,
      "outputs": []
    },
    {
      "cell_type": "code",
      "metadata": {
        "id": "rCNmVsOToT5x"
      },
      "source": [
        "import tensorflow as tf"
      ],
      "execution_count": null,
      "outputs": []
    },
    {
      "cell_type": "code",
      "metadata": {
        "id": "2roD1QHG4dJB",
        "colab": {
          "base_uri": "https://localhost:8080/",
          "height": 552
        },
        "outputId": "8d9552f7-bbcf-40ff-b89d-3eb2506511fe"
      },
      "source": [
        "df2 = pd.read_excel('data_final_consolidada_movies.xlsx')\n",
        "df=df2[df2['Nombre_closter'].isin([\"Cluster_3\",\"Cluster_4\"])]\n",
        "df.head()"
      ],
      "execution_count": null,
      "outputs": [
        {
          "output_type": "execute_result",
          "data": {
            "text/html": [
              "<div>\n",
              "<style scoped>\n",
              "    .dataframe tbody tr th:only-of-type {\n",
              "        vertical-align: middle;\n",
              "    }\n",
              "\n",
              "    .dataframe tbody tr th {\n",
              "        vertical-align: top;\n",
              "    }\n",
              "\n",
              "    .dataframe thead th {\n",
              "        text-align: right;\n",
              "    }\n",
              "</style>\n",
              "<table border=\"1\" class=\"dataframe\">\n",
              "  <thead>\n",
              "    <tr style=\"text-align: right;\">\n",
              "      <th></th>\n",
              "      <th>name</th>\n",
              "      <th>promedio_ganancia_x</th>\n",
              "      <th>calificacion1_dec_x</th>\n",
              "      <th>calificacion2_dec_x</th>\n",
              "      <th>cluster</th>\n",
              "      <th>pp</th>\n",
              "      <th>Nombre_closter</th>\n",
              "      <th>budget</th>\n",
              "      <th>company</th>\n",
              "      <th>country</th>\n",
              "      <th>director</th>\n",
              "      <th>genre</th>\n",
              "      <th>gross</th>\n",
              "      <th>rating</th>\n",
              "      <th>day_released</th>\n",
              "      <th>month_released</th>\n",
              "      <th>year_released</th>\n",
              "      <th>released</th>\n",
              "      <th>runtime</th>\n",
              "      <th>score</th>\n",
              "      <th>star</th>\n",
              "      <th>votes</th>\n",
              "      <th>writer</th>\n",
              "      <th>year</th>\n",
              "      <th>hashtag</th>\n",
              "      <th>name_roten</th>\n",
              "      <th>calificacion1</th>\n",
              "      <th>calificacion2</th>\n",
              "      <th>synopsis</th>\n",
              "      <th>ruta</th>\n",
              "      <th>promedio_ganancia_y</th>\n",
              "      <th>calificacion1_dec_y</th>\n",
              "      <th>calificacion2_dec_y</th>\n",
              "      <th>max_sentimiento</th>\n",
              "      <th>min_sentimiento</th>\n",
              "      <th>mean_sentimiento</th>\n",
              "      <th>sentimiento</th>\n",
              "      <th>prueba</th>\n",
              "    </tr>\n",
              "  </thead>\n",
              "  <tbody>\n",
              "    <tr>\n",
              "      <th>0</th>\n",
              "      <td>The Wolf of Wall Street</td>\n",
              "      <td>1</td>\n",
              "      <td>4.0</td>\n",
              "      <td>4.0</td>\n",
              "      <td>2</td>\n",
              "      <td>['jordan', 'belfort', 'leonardo', 'dicaprio', ...</td>\n",
              "      <td>Cluster_3</td>\n",
              "      <td>100000000</td>\n",
              "      <td>Red Granite Pictures</td>\n",
              "      <td>USA</td>\n",
              "      <td>Martin Scorsese</td>\n",
              "      <td>Biography</td>\n",
              "      <td>116900694</td>\n",
              "      <td>R</td>\n",
              "      <td>25</td>\n",
              "      <td>12</td>\n",
              "      <td>2013</td>\n",
              "      <td>2013-12-25</td>\n",
              "      <td>180</td>\n",
              "      <td>8.2</td>\n",
              "      <td>Leonardo DiCaprio</td>\n",
              "      <td>895552</td>\n",
              "      <td>Terence Winter</td>\n",
              "      <td>2013</td>\n",
              "      <td>#TheWolfofWallStreet</td>\n",
              "      <td>the_wolf_of_wall_street</td>\n",
              "      <td>80.0</td>\n",
              "      <td>83.0</td>\n",
              "      <td>in 1987  jordan belfort  leonardo dicaprio  ta...</td>\n",
              "      <td>https://www.rottentomatoes.com/m/the_wolf_of_w...</td>\n",
              "      <td>1</td>\n",
              "      <td>4.0</td>\n",
              "      <td>4.0</td>\n",
              "      <td>0.8271</td>\n",
              "      <td>-0.8458</td>\n",
              "      <td>0.017757</td>\n",
              "      <td>Neutro</td>\n",
              "      <td>['wolf', 'wall', 'street']</td>\n",
              "    </tr>\n",
              "    <tr>\n",
              "      <th>1</th>\n",
              "      <td>The Conjuring</td>\n",
              "      <td>0</td>\n",
              "      <td>4.0</td>\n",
              "      <td>4.0</td>\n",
              "      <td>2</td>\n",
              "      <td>['paranormal', 'investigators', 'demonologists...</td>\n",
              "      <td>Cluster_3</td>\n",
              "      <td>20000000</td>\n",
              "      <td>New Line Cinema</td>\n",
              "      <td>USA</td>\n",
              "      <td>James Wan</td>\n",
              "      <td>Horror</td>\n",
              "      <td>137400141</td>\n",
              "      <td>R</td>\n",
              "      <td>19</td>\n",
              "      <td>7</td>\n",
              "      <td>2013</td>\n",
              "      <td>2013-07-19</td>\n",
              "      <td>112</td>\n",
              "      <td>7.5</td>\n",
              "      <td>Patrick Wilson</td>\n",
              "      <td>342870</td>\n",
              "      <td>Chad Hayes</td>\n",
              "      <td>2013</td>\n",
              "      <td>#TheConjuring</td>\n",
              "      <td>the_conjuring</td>\n",
              "      <td>86.0</td>\n",
              "      <td>83.0</td>\n",
              "      <td>in 1970  paranormal investigators and demonolo...</td>\n",
              "      <td>https://www.rottentomatoes.com/m/the_conjuring</td>\n",
              "      <td>0</td>\n",
              "      <td>4.0</td>\n",
              "      <td>4.0</td>\n",
              "      <td>0.8658</td>\n",
              "      <td>-0.8664</td>\n",
              "      <td>0.025267</td>\n",
              "      <td>Neutro</td>\n",
              "      <td>['conjuring']</td>\n",
              "    </tr>\n",
              "    <tr>\n",
              "      <th>2</th>\n",
              "      <td>Prisoners</td>\n",
              "      <td>1</td>\n",
              "      <td>4.0</td>\n",
              "      <td>4.0</td>\n",
              "      <td>2</td>\n",
              "      <td>['keller', 'dover', 'hugh', 'jackman', 'faces'...</td>\n",
              "      <td>Cluster_3</td>\n",
              "      <td>46000000</td>\n",
              "      <td>Alcon Entertainment</td>\n",
              "      <td>USA</td>\n",
              "      <td>Denis Villeneuve</td>\n",
              "      <td>Crime</td>\n",
              "      <td>61002302</td>\n",
              "      <td>R</td>\n",
              "      <td>20</td>\n",
              "      <td>9</td>\n",
              "      <td>2013</td>\n",
              "      <td>2013-09-20</td>\n",
              "      <td>153</td>\n",
              "      <td>8.1</td>\n",
              "      <td>Hugh Jackman</td>\n",
              "      <td>449489</td>\n",
              "      <td>Aaron Guzikowski</td>\n",
              "      <td>2013</td>\n",
              "      <td>#Prisoners</td>\n",
              "      <td>prisoners</td>\n",
              "      <td>81.0</td>\n",
              "      <td>87.0</td>\n",
              "      <td>keller dover  hugh jackman  faces a parent s w...</td>\n",
              "      <td>https://www.rottentomatoes.com/m/prisoners_2013</td>\n",
              "      <td>1</td>\n",
              "      <td>4.0</td>\n",
              "      <td>4.0</td>\n",
              "      <td>0.9405</td>\n",
              "      <td>-0.8494</td>\n",
              "      <td>-0.074207</td>\n",
              "      <td>Neutro</td>\n",
              "      <td>['prisoners']</td>\n",
              "    </tr>\n",
              "    <tr>\n",
              "      <th>4</th>\n",
              "      <td>Now You See Me</td>\n",
              "      <td>1</td>\n",
              "      <td>3.0</td>\n",
              "      <td>4.0</td>\n",
              "      <td>2</td>\n",
              "      <td>['charismatic', 'magician', 'atlas', 'jesse', ...</td>\n",
              "      <td>Cluster_3</td>\n",
              "      <td>75000000</td>\n",
              "      <td>Summit Entertainment</td>\n",
              "      <td>USA</td>\n",
              "      <td>Louis Leterrier</td>\n",
              "      <td>Crime</td>\n",
              "      <td>117723989</td>\n",
              "      <td>PG-13</td>\n",
              "      <td>31</td>\n",
              "      <td>5</td>\n",
              "      <td>2013</td>\n",
              "      <td>2013-05-31</td>\n",
              "      <td>115</td>\n",
              "      <td>7.3</td>\n",
              "      <td>Jesse Eisenberg</td>\n",
              "      <td>505432</td>\n",
              "      <td>Ed Solomon</td>\n",
              "      <td>2013</td>\n",
              "      <td>#NowYouSeeMe</td>\n",
              "      <td>now_you_see_me</td>\n",
              "      <td>51.0</td>\n",
              "      <td>70.0</td>\n",
              "      <td>charismatic magician atlas  jesse eisenberg  l...</td>\n",
              "      <td>https://www.rottentomatoes.com/m/now_you_see_me</td>\n",
              "      <td>1</td>\n",
              "      <td>3.0</td>\n",
              "      <td>4.0</td>\n",
              "      <td>0.9455</td>\n",
              "      <td>-0.7345</td>\n",
              "      <td>0.359890</td>\n",
              "      <td>Neutro</td>\n",
              "      <td>['see']</td>\n",
              "    </tr>\n",
              "    <tr>\n",
              "      <th>7</th>\n",
              "      <td>We're the Millers</td>\n",
              "      <td>0</td>\n",
              "      <td>2.0</td>\n",
              "      <td>4.0</td>\n",
              "      <td>2</td>\n",
              "      <td>['small', 'time', 'pot', 'dealer', 'david', 'j...</td>\n",
              "      <td>Cluster_3</td>\n",
              "      <td>37000000</td>\n",
              "      <td>New Line Cinema</td>\n",
              "      <td>USA</td>\n",
              "      <td>Rawson Marshall Thurber</td>\n",
              "      <td>Comedy</td>\n",
              "      <td>150394119</td>\n",
              "      <td>R</td>\n",
              "      <td>7</td>\n",
              "      <td>8</td>\n",
              "      <td>2013</td>\n",
              "      <td>2013-08-7</td>\n",
              "      <td>110</td>\n",
              "      <td>7.0</td>\n",
              "      <td>Jason Sudeikis</td>\n",
              "      <td>342500</td>\n",
              "      <td>Bob Fisher</td>\n",
              "      <td>2013</td>\n",
              "      <td>#We'retheMillers</td>\n",
              "      <td>we're_the_millers</td>\n",
              "      <td>48.0</td>\n",
              "      <td>72.0</td>\n",
              "      <td>small time pot dealer david  jason sudeikis  l...</td>\n",
              "      <td>https://www.rottentomatoes.com/m/were_the_millers</td>\n",
              "      <td>0</td>\n",
              "      <td>2.0</td>\n",
              "      <td>4.0</td>\n",
              "      <td>NaN</td>\n",
              "      <td>NaN</td>\n",
              "      <td>NaN</td>\n",
              "      <td>Negativo</td>\n",
              "      <td>[\"we're\", 'millers']</td>\n",
              "    </tr>\n",
              "  </tbody>\n",
              "</table>\n",
              "</div>"
            ],
            "text/plain": [
              "                      name  ...                      prueba\n",
              "0  The Wolf of Wall Street  ...  ['wolf', 'wall', 'street']\n",
              "1            The Conjuring  ...               ['conjuring']\n",
              "2                Prisoners  ...               ['prisoners']\n",
              "4           Now You See Me  ...                     ['see']\n",
              "7        We're the Millers  ...        [\"we're\", 'millers']\n",
              "\n",
              "[5 rows x 38 columns]"
            ]
          },
          "metadata": {
            "tags": []
          },
          "execution_count": 48
        }
      ]
    },
    {
      "cell_type": "code",
      "metadata": {
        "id": "PAKdwYbQ4dMJ"
      },
      "source": [
        "text = df.synopsis.str.cat(sep=\" \")"
      ],
      "execution_count": null,
      "outputs": []
    },
    {
      "cell_type": "code",
      "metadata": {
        "colab": {
          "base_uri": "https://localhost:8080/"
        },
        "id": "uqpl9grron52",
        "outputId": "1e3776d7-f23f-4b15-9312-63d4c9d253a3"
      },
      "source": [
        "vocab = sorted(set(text))\n",
        "print(f'{len(vocab):,.0f} caracteres únicos')"
      ],
      "execution_count": null,
      "outputs": [
        {
          "output_type": "stream",
          "text": [
            "40 caracteres únicos\n"
          ],
          "name": "stdout"
        }
      ]
    },
    {
      "cell_type": "code",
      "metadata": {
        "colab": {
          "base_uri": "https://localhost:8080/",
          "height": 121
        },
        "id": "Yd3qFcQqyDSy",
        "outputId": "ca05b0ec-ec63-4d8e-82e3-4fb309009050"
      },
      "source": [
        "text"
      ],
      "execution_count": null,
      "outputs": [
        {
          "output_type": "execute_result",
          "data": {
            "application/vnd.google.colaboratory.intrinsic+json": {
              "type": "string"
            },
            "text/plain": [
              "'in 1987  jordan belfort  leonardo dicaprio  takes an entry level job at a wall street brokerage firm  by the early 1990s  while still in his 20s  belfort founds his own firm  stratton oakmont  together with his trusted lieutenant  jonah hill  and a merry band of brokers  belfort makes a huge fortune by defrauding wealthy investors out of millions  however  while belfort and his cronies partake in a hedonistic brew of sex  drugs and thrills  the sec and the fbi close in on his empire of excess in 1970  paranormal investigators and demonologists lorraine  vera farmiga  and ed  patrick wilson  warren are summoned to the home of carolyn  lili taylor  and roger  ron livingston  perron  the perrons and their five daughters have recently moved into a secluded farmhouse  where a supernatural presence has made itself known  though the manifestations are relatively benign at first  events soon escalate in horrifying fashion  especially after the warrens discover the house s macabre history keller dover  hugh jackman  faces a parent s worst nightmare when his 6 year old daughter  anna  and her friend go missing  the only lead is an old motorhome that had been parked on their street  the head of the investigation  detective loki  jake gyllenhaal  arrests the driver  paul dano  but a lack of evidence forces loki to release his only suspect  dover  knowing that his daughter s life is at stake  decides that he has no choice but to take matters into his own hands charismatic magician atlas  jesse eisenberg  leads a team of talented illusionists called the four horsemen  atlas and his comrades mesmerize audiences with a pair of amazing magic shows that drain the bank accounts of the corrupt and funnel the money to audience members  a federal agent  mark ruffalo  and an interpol detective  m lanie laurent  intend to rein in the horsemen before their next caper  and they turn to thaddeus  morgan freeman  a famous debunker  for help small time pot dealer david  jason sudeikis  learns the hard way that no good deed goes unpunished  trying to help some teens  he is jumped by thugs and loses his cash and stash  now  david s in big debt to his supplier and   to wipe the slate clean   he must go to mexico to pick up the guy s latest shipment  to accomplish his mission  dave devises a foolproof plan  he packs a fake family into a huge rv and heads south of the border for a wild weekend that is sure to end with a bang long ago  legions of monstrous creatures called kaiju arose from the sea  bringing with them all consuming war  to fight the kaiju  mankind developed giant robots called jaegers  designed to be piloted by two humans locked together in a neural bridge  however  even the jaegers are not enough to defeat the kaiju  and humanity is on the verge of defeat  mankind s last hope now lies with a washed up ex pilot  charlie hunnam  an untested trainee  rinko kikuchi  and an old  obsolete jaeger irving rosenfeld  christian bale  dabbles in forgery and loan sharking  but when he falls for fellow grifter sydney prosser  amy adams  things change in a big way  caught red handed by fbi agent richie dimaso  bradley cooper  irv and sydney are forced to work under cover as part of dimaso s sting operation to nail a new jersey mayor  jeremy renner  meanwhile  irv s jealous wife  jennifer lawrence  may be the one to bring everyone s world crashing down  based on the 1970s abscam case the unthinkable happens when heavily armed and highly trained terrorists launch a bold daytime attack on the white house  the building is overrun  and president benjamin asher  aaron eckhart  and his staff are taken hostage  luckily for asher  former presidential security officer mike banning  gerard butler  is on the scene  with time running out  it s up to banning to locate asher s son before the extremists do and rescue the president before his captors unleash their ultimate plan in the year 2077  jack harper  tom cruise  works as a security repairman on an earth left empty and devastated after a war with aliens  jack has two weeks left before his mission ends and he joins his fellow survivors on a faraway colony  however  jack s concept of reality comes crashing down after he rescues a beautiful stranger  olga kurylenko  from a downed spacecraft  the woman s arrival triggers a chain of events that culminates in jack s nearly single handed battle to save mankind ruthless  brooklyn born mobster mickey cohen  sean penn  has 1949 los angeles in an iron fist  as he accumulates a fortune from drugs  prostitution and gambling  cohen has an army of paid goons at his disposal  but he also has certain policemen and politicians in his pocket  it s enough to intimidate even the bravest cop  until los angeles police department mavericks  sgts  john o mara  josh brolin  and jerry wooters  ryan gosling  form a secret crew to bring cohen to justice in 2005 afghanistan  navy seals marcus luttrell  mark wahlberg  michael murphy  taylor kitsch  danny dietz  emile hirsch  and matthew  axe  axelson  ben foster  deploy on a mission of surveillance and to take out taliban leader ahmad shah  though spotted by goatherds  luttrell and his team decide not to kill them  but one of the afghans alerts a group of taliban fighters to the invaders  and a terrible battle ensues  in which the seals find themselves hopelessly outnumbered and outgunned in hollywood  actor james franco is throwing a party with a slew of celebrity pals  among those in attendance are his buddies jonah hill  seth rogen  jay baruchel  danny mcbride and craig robinson  suddenly  an apocalypse of biblical proportions erupts  causing untold carnage among tinseltown s elite and trapping franco s party in his home  as the world they knew disintegrates outside  cabin fever and dwindling supplies threaten to tear the six friends apart lenny feder  adam sandler  moves his family back to his hometown to be with his friends  but he finds   what with old bullies  new bullies  party crashers and more   that he hasn t left the crazy life behind in los angeles  lenny s friends must also cope with their own challenges  eric  kevin james  must face his ultimate fear  kurt  chris rock  has gone back to work as a cable repairman  and marcus  david spade  learns that he has an 18 year old son walter mitty  ben stiller  an employee at life magazine  spends day after monotonous day developing photos for the publication  to escape the tedium  walter inhabits a world of exciting daydreams in which he is the undeniable hero  walter fancies a fellow employee named cheryl  kristen wiig  and would love to date her  but he feels unworthy  however  he gets a chance to have a real adventure when life s new owners send him on a mission to obtain the perfect photo for the final print issue Sin Datos fbi special agent sarah ashburn  sandra bullock  is a methodical investigator with a long standing reputation for excellence   and arrogance  in contrast  foul mouthed  hot tempered detective shannon mullins  melissa mccarthy  goes with her gut instincts and street smarts to remove criminals from the streets of boston  sparks fly when these polar opposites have to work together to capture a drug lord  but in the process  they become the last thing anyone expected   buddies in the continuing adventures of the g i  joe team  duke  channing tatum  second in command roadblock  dwayne johnson  and the rest of the joes  d j  cotrona  byung hun lee  face a two fold threat  not only is their mortal enemy cobra rearing its ugly head again  but there is also a threat from within the u s  government  there might be an impostor in the white house  meanwhile  snake eyes  ray park  is on a search for inner peace but learns that his nemesis  storm shadow  is still alive when hostile aliens called the formics attack earth  only the legendary heroics of mazer rackham  ben kingsley  manage to attain a victory  to prepare for the next attack  col  hyrum graff  harrison ford  and his cohorts initiate a military program to find the next mazer  recruit ender wiggin  asa butterfield  exhibits an unusual gift for the training  easily mastering all of the challenges thrown at him  mazer rackham  himself  takes ender as a protege to prepare him for the oncoming war lured to a japan he hasn t seen since world war ii  century old mutant wolverine  hugh jackman  finds himself in a shadowy realm of yakuza and samurai  wolverine is pushed to his physical and emotional brink when he is forced to go on the run with a powerful industrialist s daughter  tao okamoto  and is confronted   for the first time   with the prospect of death  as he struggles to rediscover the hero within himself  he must grapple with powerful foes and the ghosts of his own haunted past a terrible plague has left the planet s population divided between zombies and humans  an unusual zombie named r  nicholas hoult  sees his walking dead brethren attacking a living woman named julie  teresa palmer  and rescues her  julie sees that r is different from the other zombies  and the pair embark on an unusual relationship  as their bond grows and r becomes more and more human  a chain of events unfolds that could transform the entire lifeless world in april 2009  the u s  containership maersk alabama sails toward its destination on a day that seems like any other  suddenly  somali pirates race toward the vessel  climb aboard and take everyone hostage  the captain of the ship  richard phillips  tom hanks  looks to protect his crew from the hostile invaders  and their leader  muse  barkhad abdi  the pirates are after millions of dollars  and phillips must use his wits to make sure everyone survives and returns home safely it s been two years since the gang known as the wolfpack narrowly escaped disaster in bangkok  now  phil  bradley cooper  stu  ed helms  and doug  justin bartha  have happy lives at home   but alan  zach galifianakis  doesn t  still lacking contentment and a sense of purpose  alan has gone off his meds and surrendered to his natural impulses  it s up to the other members of the wolfpack to get him through his personal crisis by embarking on a road trip to the place it all began  las vegas in 1933 a boy discovers an ancient native american in a sideshow carnival tent  the indian is tonto  johnny depp  the old companion of john reid  armie hammer  a lawman more famously known as the lone ranger  with this opportunity to set the record straight about his and reid s adventures  tonto recalls the day in 1869 when he first encountered the man who would be his trusted friend and tells of their teamwork bringing down butch cavendish  william fichtner  and other old west outlaws capitol police officer john cale  channing tatum  has just been denied his dream job of protecting president james sawyer  jamie foxx  as a member of the secret service  not wanting to disappoint his young daughter with the bad news  cale takes her on a tour of the white house  while he and his daughter are there  a heavily armed paramilitary group attacks and seizes control  as the nation s government dissolves in chaos  only cale can save his daughter  the president and the country though percy  logan lerman  the half human son of greek god poseidon  once saved the world  lately he s been feeling less than heroic  however  he doesn t have much time to brood   the enchanted borders that protect camp half blood are dissolving  and a horde of mythical beasts threatens the demigods  sanctuary  in order to save camp half blood  percy and his friends embark on a journey to the sea of monsters   aka the bermuda triangle   to find the magical golden fleece former cia black ops agent frank moses  bruce willis  and his old partner  marvin boggs  john malkovich  are caught in the grip of retirement   but that soon changes when a powerful cold war weapon known as nightshade resurfaces decades after its disappearance  with assassins hot on their trail  frank and his team set out to find the one scientist  anthony hopkins  who can unravel the mystery of nightshade and help them save themselves   and the world a drug addled  manipulative misanthrope  james mcavoy  begins to experience increasingly severe hallucinations as he tries to solve the murder of a japanese student new york city cop john mcclane  bruce willis  arrives in moscow to track down his estranged son  jack  jai courtney  mcclane thinks his son is a criminal  so it comes as a shock when he learns that jack is actually working undercover to protect komarov  sebastian koch  a russian government whistleblower  with their own lives on the line  mcclane and jack must overcome their differences in order to get komarov to safety and thwart a potentially disastrous crime in the chernobyl region people were forced to leave earth a millennium ago to establish a new home on nova prime  now  gen  cypher raige  will smith  heads nova prime s most prominent family  cypher s teenage son  kitai  jaden smith  feels enormous pressure to follow in his father s legendary footsteps   which strains their relationship  cypher and kitai set out on a trip to mend their bond  but when their craft crashes on earth s hostile surface  each must trust the other greatly   or perish Sin Datos after leaving the south as a young man and finding employment at an elite hotel in washington  d c  cecil gaines  forest whitaker  gets the opportunity of a lifetime when he is hired as a butler at the white house  over the course of three decades  cecil has a front row seat to history and the inner workings of the oval office  however  his commitment to his  first family  leads to tension at home  alienating his wife  oprah winfrey  and causing conflict with his anti establishment son when young farmhand jack  nicholas hoult  unwittingly opens a portal between his realm and a race of giants  it rekindles an ancient war  roaming earth for the first time in centuries  the fearsome giants seek to reclaim the land they lost long ago  jack has to face an army of foes that he thought existed only in legend  but through his arduous fight for the kingdom and its people  he may win the love of a brave princess  perhaps becoming a legend himself veteran lawman roy pulsifer  jeff bridges  works for the r i p d  a legendary police force charged with finding monstrous spirits who are disguised as ordinary people but are trying to avoid their final judgment by hiding out among the living  when roy and his new partner  nick walker  ryan reynolds  uncover a plot that could end all life  they must discover a way to restore the cosmic balance or else watch the tunnel to the afterlife start sending angry souls back to the world of the living spurred on by a promise he made to his daughters  walt disney  tom hanks  embarks on what would become a 20 year quest to obtain the movie rights to  mary poppins  the author  p l  travers  emma thompson  proves to be an uncompromising curmudgeon who has no intention of letting her beloved characters become mangled in the hollywood machine  however  when the books stop selling and she finds herself in need of money  travers reluctantly agrees to consider disney s proposition florida resident diana  melissa mccarthy  has a luxurious lifestyle as the queen of retail  buying whatever strikes her fancy   and it s all free  thanks to sandy patterson  jason bateman  a guy from denver whose identity she stole  with just one week to track down diana before his world implodes  the real sandy heads south to confront the unapologetic con artist and bring her back to denver so that he can clear his name and restore his shattered credit rating for the past year  dea agent bobby trench  denzel washington  and u s  navy intelligence officer marcus stigman  mark wahlberg  have been working under cover as members of a narcotics syndicate  the twist  neither man knows that the other is an undercover agent  when their attempt to infiltrate a mexican drug cartel and recover millions goes haywire  the men are disavowed by their superiors  trench and stigman must go on the run lest they wind up in jail or in a grave seven years after capturing the heart of co anchor veronica corningstone  christina applegate  newsman ron burgundy  will ferrell  is offered the chance of a lifetime  a spot on the world s first 24 hour global cable news network  ron quickly assembles his team  champ kind  david koechner  brian fantana  paul rudd  and brick tamland  steve carell  challenged by his tough female boss  a network owner and a popular anchor  ron and his pals must find their own way to the top of the ratings hoping to harness the magical smurf essence  evil wizard gargamel creates a pair of smurflike creatures  called naughties  however  only a real smurf can give gargamel what he wants  so he kidnaps smurfette to force her to cast a spell that will transform the naughties into smurfs  papa  clumsy and the rest of the smurfs reunite with their human friends patrick  neil patrick harris  and grace  jayma mays  to rescue smurfette from the wizard s clutches mary katherine  amanda seyfried  or m k  is a headstrong  spirited teenager who has a strained relationship with her father  jason sudeikis  she loses patience with her dad s tales of unseen people who live in the woods  but when she is magically transported to that mythic realm  she gains new perspective  m k  joins a race of beings known as the leafmen in their battle to protect their queen  beyonc  knowles  from their enemies  evil mandrake  christoph waltz  and his crew of boggans his genius finally recognized by his idol chester v  inventor flint lockwood  bill hader  gets to join chester s company  where he can work full time on technologies to help mankind  however  flint soon discovers that his most famous machine  which turns water into food  is still operating but now creates animal vegetable hybrids  with the fate of humanity in flint s hands  he and his friends set out to save the world from tacodiles  shrimpanzees and other deliciously dangerous creatures turbo  ryan reynolds  is a speed obsessed snail with an unusual dream  to become the world s greatest racer  this odd snail gets a chance to leave his slow paced life behind when a freak accident gives him the power of superspeed  newly revved up  turbo embarks on an extraordinary quest to enter and win the indianapolis 500  accompanied by a dedicated pit crew of trash talking adrenaline junkies  turbo becomes the ultimate underdog by refusing to let his limitations get in the way of his dreams dusty is a small town plane who dreams of one day competing as a high flying air racer  however  poor dusty has two strikes against him  he s not built for racing  and he s terribly afraid of heights  to achieve his dream  dusty turns to naval aviator skipper  skipper helps dusty qualify to take on ripslinger  the race circuit s defending champion  dusty s courage faces the ultimate test  as he takes aim at heights he never dreamed were possible irascible irving zisman  johnny knoxville  and his young and impressionable grandson  billy  jackson nicoll  set out on a road trip across america  hidden cameras capture their insane and shocking encounters with a diverse set of unsuspecting citizens  including male strippers  disgruntled contestants  and their mothers  from a children s beauty pageant  mourners at a funeral home  patrons at a biker bar and more  based on the  jackass  tv series gary  eggsy  unwin  taron egerton  whose late father secretly worked for a spy organization  lives in a south london housing estate and seems headed for a life behind bars  however  dapper agent harry hart  colin firth  recognizes potential in the youth and recruits him to be a trainee in the secret service  meanwhile  villainous richmond valentine  samuel l  jackson  launches a diabolical plan to solve the problem of climate change via a worldwide killing spree in carthage  mo  former new york based writer nick dunne  ben affleck  and his glamorous wife amy  rosamund pike  present a portrait of a blissful marriage to the public  however  when amy goes missing on the couple s fifth wedding anniversary  nick becomes the prime suspect in her disappearance  the resulting police pressure and media frenzy cause the dunnes  image of a happy union to crumble  leading to tantalizing questions about who nick and amy truly are thomas  dylan o brien  a teenager  arrives in a glade at the center of a giant labyrinth  like the other youths dumped there before him  he has no memory of his previous life  thomas quickly becomes part of the group and soon after demonstrates a unique perspective that scores him a promotion to runner status   those who patrol the always changing maze to find an escape route  together with teresa  kaya scodelario  the only female  thomas tries to convince his cohorts that he knows a way out tris prior  shailene woodley  lives in a futuristic world in which society is divided into five factions  as each person enters adulthood  he or she must choose a faction and commit to it for life  tris chooses dauntless   those who pursue bravery above all else  however  her initiation leads to the discovery that she is a divergent and will never be able to fit into just one faction  warned that she must conceal her status  tris uncovers a looming war which threatens everyone she loves in 1939  newly created british intelligence agency mi6 recruits cambridge mathematics alumnus alan turing  benedict cumberbatch  to crack nazi codes  including enigma   which cryptanalysts had thought unbreakable  turing s team  including joan clarke  keira knightley  analyze enigma messages while he builds a machine to decipher them  turing and team finally succeed and become heroes  but in 1952  the quiet genius encounters disgrace when authorities reveal he is gay and send him to prison when earth falls under attack from invincible aliens  no military unit in the world is able to beat them  maj  william cage  tom cruise  an officer who has never seen combat  is assigned to a suicide mission  killed within moments  cage finds himself thrown into a time loop  in which he relives the same brutal fight   and his death   over and over again  however  cage s fighting skills improve with each encore  bringing him and a comrade  emily blunt  ever closer to defeating the aliens robert mccall  denzel washington  a man of mysterious origin who believes he has put the past behind him  dedicates himself to creating a quiet new life  however  when he meets teri  chlo  grace moretz  a teenager who has been manhandled by violent russian mobsters  he simply cannot walk away  with his set of formidable skills  mccall comes out of self imposed retirement and emerges as an avenging angel  ready to take down anyone who brutalizes the helpless although they made their way through high school successfully  an investigation at a local college brings big changes for undercover officers jenko  channing tatum  and schmidt  jonah hill  when jenko meets a kindred spirit on the football team and schmidt infiltrates the bohemian art major scene  both men begin to question their partnership  not only do they have to crack the case  but now the two overgrown adolescents must learn how to behave like adults Sin Datos hazel grace lancaster  shailene woodley  a 16 year old cancer patient  meets and falls in love with gus waters  ansel elgort  a similarly afflicted teen from her cancer support group  hazel feels that gus really understands her  they both share the same acerbic wit and a love of books  especially grace s touchstone   an imperial affliction  by peter van houten  when gus scores an invitation to meet the reclusive author  he and hazel embark on the adventure of their brief lives Sin Datos when god decides that mankind has become too sinful and must be wiped off the earth  he chooses noah  russell crowe  a pious man  for a great task  noah must build an ark large enough to hold his wife  jennifer connelly  adopted daughter  emma watson  sons  logan lerman  douglas booth  leo mchugh carroll  and their wives   plus breeding pairs of every animal  when the task is completed  noah and his family witness god s wrath in the form of an apocalyptic flood disney tackles greek mythology in this animated feature  hercules  tate donovan  a son of gods  was snatched as a baby by hades  james woods  and forced to live among mortals as a half man  half god  now a teenager  hercules needs to perform a rite of passage on earth to prove himself worthy of living with the gods on mount olympus  with his plucky satyr sidekick  philoctetes  danny devito  along for the ride  hercules must learn how to use his strength to defeat a series of evil creatures years ago  barney ross  sylvester stallone  co founded the expendables with conrad stonebanks  mel gibson  after stonebanks became an arms dealer  ross was forced to kill him   or so he thought  now  stonebanks is back and he s on a mission to end the expendables  ross decides that the way to fight old blood is with new blood  so he assembles a team of younger  faster  more tech savvy recruits  the battle to topple stonebanks becomes a clash of old school methods vs  high tech expertise while king leonidas and his 300 spartans have their date with destiny at thermopylae  another battle against the persians is brewing  this time at sea  themistocles  sullivan stapleton  a greek general  sees the threat posed by the god king xerxes of persia  he knows that he must unite all of greece if he is to stand any chance of repelling the persian invasion  even if he accomplishes his mission  themistocles must still face artemisia  eva green  the ruthless leader of the persian armada new york lawyer carly whitten  cameron diaz  lives by strict rules when it comes to romantic relationships  but when she falls for suave  handsome mark king  nikolaj coster waldau  she begins an affair with him  a surprise visit to mark s home reveals that he is married to devoted housewife kate  leslie mann  carly and kate direct their hurt and anger toward mark  and when they discover yet a third woman  kate upton  caught in his web of lies  the three join forces for revenge as the result of the curse of a once beautiful witch  meryl streep  a baker  james corden  and his wife  emily blunt  are childless  three days before the rise of a blue moon  they venture into the forest to find the ingredients that will reverse the spell and restore the witch s beauty  a milk white cow  hair as yellow as corn  a blood red cape  and a slipper of gold  during their journey  they meet cinderella  little red riding hood  rapunzel and jack  each one on a quest to fulfill a wish egyptian princes moses  christian bale  and ramses  joel edgerton  are raised together as brothers  when ramses becomes pharaoh  moses is his most trusted adviser  however moses soon discovers his hebrew parentage  and ramses banishes him to the desert   often a death sentence  but god has a mission for moses  free the israelites from slavery  moses returns from exile and demands that ramses let his people go  but the arrogant ruler is unmoved  leading to a battle of divine wills in 15th century transylvania  vlad iii  luke evans  prince of wallachia  is known as a just ruler  with his beloved wife  mirena  sarah gadon  vlad has brokered a prolonged period of peace and ensured that his people are protected  especially from the ottoman empire  however  when sultan mehmed ii  dominic cooper  demands 1 000 of the country s boys  including vlad s son  for his army  vlad makes a deal with a monster that will enable him to defeat the turks   but cost him his humanity as a boy  louis  louie  zamperini is always in trouble  but with the help of his older brother  he turns his life around and channels his energy into running  later qualifying for the 1936 olympics  when world war ii breaks out  louie enlists in the military  after his plane crashes in the pacific  he survives an incredible 47 days adrift in a raft  until his capture by the japanese navy  sent to a pow camp  louie becomes the favorite target of a particularly cruel prison commander centuries ago  a supernatural champion named master gregory  jeff bridges  defeated mother malkin  julianne moore  a malevolent witch  now  she has escaped imprisonment and thirsts for vengeance  she summons her followers and prepares to unleash her wrath on humanity  only one thing stands in her way  master gregory  gregory takes tom ward  ben barnes  as his new apprentice  but he has only until the next full moon to teach tom what usually takes years  how to prevail against dark magic ex covert operative bryan mills  liam neeson  and his ex wife  lenore  famke janssen  are enjoying a reconciliation when lenore is brutally murdered  bryan is framed for the crime and flees  with the cia  fbi and police all in hot pursuit  for the last time  he channels his rage and particular set of skills into hunting down lenore s real killers  taking his revenge and protecting the one important thing left in his life  his daughter  kim  maggie grace an orphan in a facility run by the mean miss hannigan  carol burnett  annie  aileen quinn  believes that her parents left her there by mistake  when a rich man named oliver  daddy  warbucks  albert finney  decides to let an orphan live at his home to promote his image  annie is selected  while annie gets accustomed to living in warbucks  mansion  she still longs to meet her parents  so warbucks announces a search for them and a reward  which brings out many frauds to his friends and loved ones  young jack ryan  chris pine  appears to be an ordinary executive  however  he has secretly worked for the cia for years  ryan was originally brought in to crunch global data  but when he uncovers a carefully planned scheme to crash the u s  economy and spark global chaos  he becomes the only man with the skills to stop it  now a full operative  ryan finds himself caught between his secretive handler  his clueless fiancee and a brilliant russian leader tobey marshall  aaron paul  a mechanic  races muscle cars in an underground circuit  struggling to keep his business afloat  he reluctantly partners with wealthy but treacherous dino brewster  dominic cooper  however  dino frames tobey for a crime that sends him to prison  two years later  tobey is out and bent on revenge  his only chance to take down dino is to beat him in a high stakes race  but to get there in time  he must successfully evade an army of cops and bounty hunters new parents mac  seth rogen  and kelly  rose byrne  move to the suburbs when they welcome an infant daughter into their lives  all goes well with the couple  until the delta psi beta fraternity moves in next door  mac and kelly don t want to seem uncool  and they try their best to get along with frat president teddy  zac efron  and the rest of the guys  however  when the couple finally call the cops during a particularly raucous frat party  a full scale war erupts in 2028  omnicorp is at the center of robot technology  while its drones have long been used by the military overseas  their use is forbidden in american law enforcement  however  omnicorp gets a golden opportunity to crack that market when detroit cop alex murphy  joel kinnaman  is critically injured in the line of duty  by transforming murphy into a cyborg  omnicorp executives hope to rake in billions for their shareholders  but they forget one thing  there s still a man inside the machine when the exhibits at new york s natural history museum start behaving strangely  larry daley  ben stiller    now the director of nighttime operations   must find out the cause  he learns that the tablet  which magically brings teddy roosevelt  robin williams  jedediah  owen wilson  and the other exhibits to life at night  has started to decay  larry  along with his son and museum friends  must travel to london s british museum to learn how to prevent the tablet s magic from disappearing dr  will caster  johnny depp  the world s foremost authority on artificial intelligence  is conducting highly controversial experiments to create a sentient machine  when extremists try to kill the doctor  they inadvertently become the catalyst for him to succeed  will s wife  evelyn  rebecca hall  and best friend  max  paul bettany  can only watch as his thirst for knowledge evolves to an omnipresent quest for power  and his loved ones soon realize that it may be impossible to stop him alcoholic and world weary  u s  air marshal bill marks  liam neeson  lost his passion for his work long ago  even though lives are potentially at stake during every flight  he sees the assignment as just a desk job  however  his  ordinary day at the office  becomes a high stakes crisis during a flight to london  marks receives a series of text messages demanding that he instruct the airline to transfer  150 million into an offshore account  or a passenger will die every 20 minutes in need of a new kidney and having learned that he has a long lost daughter  dimwit harry dunne  jeff daniels  snaps his equally cretinous pal  lloyd christmas  jim carrey  out of an apparent fugue state to accompany him on a journey to find her  the witless wonders criss cross the country using whatever mode of transportation they can find  ultimately arriving at the one place on earth where they least belong  a summit of the world s most brilliant minds during world war ii  the nazis steal countless pieces of art and hide them away  some over the hill art scholars  historians  architects and other experts form a unit to retrieve as many of the stolen masterpieces as possible  the mission becomes even more urgent when the team learns about hitler s  nero decree  which orders destruction of the artworks if the third reich falls  caught in a race against time  the men risk their lives to protect some of mankind s greatest achievements after a deadly earthquake destroys his home in peruvian rainforest  a young bear  ben whishaw  makes his way to england in search of a new home  the bear  dubbed  paddington  for the london train station  finds shelter with the family of henry  hugh bonneville  and mary brown  sally hawkins  although paddington s amazement at urban living soon endears him to the browns  someone else has her eye on him  taxidermist millicent clyde  nicole kidman  has designs on the rare bear and his hide plucky penguins skipper  tom mcgrath  kowalski  chris miller  rico  conrad vernon  and private  christopher knights    the most elite spies ever hatched   join forces with a chic undercover organization known as the north wind  led by highly trained  handsome and arrogant agent classified  benedict cumberbatch  this special inter species task force must stop a many tentacled villain  dr  octavius brine  john malkovich  from destroying the world mr  peabody  ty burrell  the most accomplished canine in the world  and his boy  sherman  max charles  use a time machine called the wabac to embark on outrageous adventures  however  when sherman takes the wabac without permission to impress his friend penny  ariel winter  he accidentally rips a hole in the universe and causes havoc with world history  it s up to mr  peabody to mount a rescue and prevent the past  present and future from being permanently altered blue macaws blu  jesse eisenberg  jewel  anne hathaway  and their three children are comfortably settled in the city   perhaps too comfortably  jewel fears that the children are becoming more like humans than birds  after learning that she and blu may not be the last blue macaws after all  jewel decides that their little family should visit the amazon jungle  it s there that blu meets his formidable father in law  andy garcia  and goes beak to beak with archnemesis nigel  jemaine clement for tammy  melissa mccarthy  a burger joint waitress  a bad day keeps getting worse  she wrecks her car  loses her job and finds her husband in a compromising position with their neighbor  it s time for tammy to hit the road  but without money or transportation  her options are limited  her only choice is a road trip with her grandmother  pearl  susan sarandon  who has a car  cash and an itch to see niagara falls  it s not the escape tammy had in mind  but it may be what she needs for two years  security guard ben  kevin hart  has tried to convince james  ice cube  a veteran cop  that he is worthy of james  sister  angela  when ben is finally accepted into the police academy  james decides to test his mettle by inviting him along on a shift deliberately designed to scare the trainee  however  events take an unexpected turn when their wild night leads to atlanta s most notorious criminal and ben s rapid fire mouth proves as dangerous as the bullets whizzing by them eggs  isaac hempstead wright  an orphan  lives with the boxtrolls   a community of quirky  mischievous creatures who inhabit a cavern beneath the city of cheesebridge  when villainous archibald snatcher  ben kingsley  hatches a plan to get rid of the pretty harmless beings  eggs decides to go above ground  where he meets and befriends feisty winnifred  elle fanning  together  eggs and winnifred devise a daring plan to save the boxtrolls from extermination small town businessman  pastor and volunteer firefighter todd burpo  greg kinnear  and his wife  sonja  kelly reilly  are struggling to make ends meet during a tough year  after their young son  colton  connor corum  undergoes emergency surgery  todd and sonja are overjoyed at the child s miraculous recovery  however  the burpos are unprepared for what happens next   colton says that he went to heaven and back  and tells his parents things that he couldn t possibly know thirty years after the defeat of the galactic empire  the galaxy faces a new threat from the evil kylo ren  adam driver  and the first order  when a defector named finn crash lands on a desert planet  he meets rey  daisy ridley  a tough scavenger whose droid contains a top secret map  together  the young duo joins forces with han solo  harrison ford  to make sure the resistance receives the intelligence concerning the whereabouts of luke skywalker  mark hamill  the last of the jedi knights a seemingly ideal day turns disastrous when california s notorious san andreas fault triggers a devastating  magnitude 9 earthquake  the largest in recorded history  as the earth cracks open and buildings start to crumble  ray gaines  dwayne johnson  an lafd search and rescue helicopter pilot  must navigate the destruction from los angeles to san francisco to bring his estranged wife  carla gugino  and their only daughter  alexandra daddario  to safety when college senior anastasia steele  dakota johnson  steps in for her sick roommate to interview prominent businessman christian grey  jamie dornan  for their campus paper  little does she realize the path her life will take  christian  as enigmatic as he is rich and powerful  finds himself strangely drawn to ana  and she to him  though sexually inexperienced  ana plunges headlong into an affair   and learns that christian s true sexual proclivities push the boundaries of pain and pleasure when john connor  jason clarke  leader of the human resistance against skynet  sends kyle reese  jai courtney  back to 1984 to protect his mother  sarah  emilia clarke  from a terminator assassin  an unexpected turn of events creates an altered timeline  instead of a scared waitress  sarah is a skilled fighter and has a terminator guardian  arnold schwarzenegger  by her side  faced with unlikely allies and dangerous new enemies  reese sets out on an unexpected new mission  reset the future transported to a remote fortified outpost  thomas and his fellow teenage gladers find themselves in trouble after uncovering a diabolical plot from the mysterious and powerful organization wckd  with help from a new ally  the gladers stage a daring escape into the scorch  a desolate landscape filled with dangerous obstacles and crawling with the virus infected cranks  the gladers only hope may be to find the right hand  a group of resistance fighters who can help them battle wckd located off the coast of costa rica  the jurassic world luxury resort provides a habitat for an array of genetically engineered dinosaurs  including the vicious and intelligent indominus rex  when the massive creature escapes  it sets off a chain reaction that causes the other dinos to run amok  now  it s up to a former military man and animal expert  chris pratt  to use his special skills to save two young brothers and the rest of the tourists from an all out  prehistoric assault Sin Datos when tony stark  robert downey jr  jump starts a dormant peacekeeping program  things go terribly awry  forcing him  thor  chris hemsworth  the incredible hulk  mark ruffalo  and the rest of the avengers to reassemble  as the fate of earth hangs in the balance  the team is put to the ultimate test as they battle ultron  a technological terror hell bent on human extinction  along the way  they encounter two mysterious and powerful newcomers  pietro and wanda maximoff whenever casey newton  britt robertson  touches a lapel pin with the letter t on it  she finds herself transported to tomorrowland  a city filled with huge robots and sleek buildings  the gifted young woman recruits the help of scientist frank walker  george clooney  a previous visitor to tomorrowland  who years ago made a startling discovery about the future  together  the two adventurers travel to the metropolis to uncover its mysterious secrets at the height of the cold war  a mysterious criminal organization plans to use nuclear weapons and technology to upset the fragile balance of power between the united states and soviet union  cia agent napoleon solo  henry cavill  and kgb agent illya kuryakin  armie hammer  are forced to put aside their hostilities and work together to stop the evildoers in their tracks  the duo s only lead is the daughter of a missing german scientist  whom they must find soon to prevent a global catastrophe jupiter jones  mila kunis  was born under signs that predicted future greatness  but her reality as a woman consists of cleaning other people s houses and endless bad breaks  caine  channing tatum  a genetically engineered hunter  arrives on earth to locate her  making jupiter finally aware of the great destiny that awaits her  jupiter s genetic signature marks her as the next in line for an extraordinary inheritance that could alter the balance of the cosmos it s been three years since the barden bellas  anna kendrick  rebel wilson  became the first all female group to win a national title  all seems well until a botched lincoln center performance for the president leads to a scandal that strips them of their performing duties  causing internal tension and strife  with the world championships on the horizon in copenhagen  denmark  the women must get their act together for their one and only shot at redemption in 1988  a groundbreaking new group revolutionizes music and pop culture  changing and influencing hip hop forever  n w a s first studio album   straight outta compton  stirs controversy with its brutally honest depiction of life in southern los angeles  with guidance from veteran manager jerry heller  band members ice cube  o shea jackson jr  dr  dre  corey hawkins  eazy e  dj yella and mc ren navigate their way through the industry  acquiring fame  fortune and a place in history Sin Datos adonis johnson  michael b  jordan  never knew his famous father  boxing champion apollo creed  who died before adonis was born  however  boxing is in his blood  so he seeks out rocky balboa  sylvester stallone  and asks the retired champ to be his trainer  rocky sees much of apollo in adonis  and agrees to mentor him  even as he battles an opponent deadlier than any in the ring  with rocky s help  adonis soon gets a title shot  but whether he has the true heart of a fighter remains to be seen now on the run from jeanine  kate winslet  and the rest of the power hungry erudites  tris  shailene woodley  and four  theo james  search for allies and answers in the ruins of chicago  they must find out what tris  family sacrificed their lives to protect and why the erudites will do anything to stop them  side by side  tris and four face one seemingly insurmountable challenge after another  as they unravel the secrets of the past and   ultimately   the future of their world now that dracula  adam sandler  has opened the hotel transylvania s doors to humans  things are changing for the better  however  drac is secretly worried that his half human grandson  dennis  isn t showing his vampire side  so  while mavis and johnny are away  drac enlists his friends to help him put the boy through a  monster in training  boot camp  but things really get batty when drac s cantankerous  old school dad  mel brooks  pays an unexpected visit brad whitaker  will ferrell  is a kindhearted radio executive who wants to be the best possible stepfather to his wife s  linda cardellini  two children  when her freewheeling ex husband  dusty  mark wahlberg  breezes back into town  brad s feeling of insecurity quickly develops into an inferiority complex  as dusty demonstrates his flair for athletics  home repair and bad boy charisma  whitaker finds himself in a no holds barred battle to one up his rival and win the approval of his family during the cold war  the soviet union captures u s  pilot francis gary powers after shooting down his u 2 spy plane  sentenced to 10 years in prison  powers  only hope is new york lawyer james donovan  tom hanks  recruited by a cia operative to negotiate his release  donovan boards a plane to berlin  hoping to win the young man s freedom through a prisoner exchange  if all goes well  the russians would get rudolf abel  mark rylance  the convicted spy who donovan defended in court the modern world holds many secrets  the most astounding being that witches still live among us  centuries ago  kaulder  vin diesel  managed to slay the all powerful witch queen  decimating her followers in the process  before her death  she cursed the valiant warrior with her own immortality  separating him from his beloved wife and daughter in the afterlife  her resurrection now threatens the survival of the human race as kaulder  the only one of his kind remaining  faces her vengeful wrath scientist reed richards  ioan gruffudd  persuades his arrogant former classmate  victor von doom  julian mcmahon  to fund his experiments with cosmic energy  on von doom s space station  the crew   including astronaut ben grimm  michael chiklis  researcher sue storm  jessica alba  and pilot johnny storm  chris evans    are exposed to a mysterious cosmic storm that bestows super powers upon them  as they cope with their transformations  von doom vows his revenge lawrence newman  william h  macy  is an ordinary man who doesn t want to stand out in a dangerous world  then  unassuming newman and his sexy  outspoken newlywed wife  laura dern  become caught up in a case of mistaken identity  suddenly the unwitting focus of his neighbors  prejudice  newman is faced with a choice   to go down as a coward or take a long shot at becoming the unlikeliest of heroes   and tell the truth starting a new job can be a difficult challenge  especially if you re already retired  looking to get back into the game  70 year old widower ben whittaker  robert de niro  seizes the opportunity to become a senior intern at an online fashion site  ben soon becomes popular with his younger co workers  including jules ostin  anne hathaway  the boss and founder of the company  whittaker s charm  wisdom and sense of humor help him develop a special bond and growing friendship with jules in 1820  crewmen  chris hemsworth  benjamin walker  cillian murphy  aboard the new england vessel essex face a harrowing battle for survival when a whale of mammoth size and strength attacks with force  crippling their ship and leaving them adrift in the ocean  pushed to their limits and facing storms  starvation  panic and despair  the survivors must resort to the unthinkable to stay alive  their incredible tale ultimately inspires author herman melville to write  moby dick Sin Datos when aliens intercept video feeds of classic arcade games and misinterpret them as a declaration of war  they attack earth  using the games as models  knowing that he must employ a similar strategy  president will cooper  kevin james  recruits his childhood pal  former video game champ and home theater installer sam brenner  adam sandler  to lead a team of old school arcade players and a military specialist  michelle monaghan  in an all out battle to save the planet when obscenely rich hedge fund manager james  will ferrell  is convicted of fraud and sentenced to a stretch in san quentin  the judge gives him one month to get his affairs in order  knowing that he won t survive more than a few minutes in prison on his own  james desperately turns to darnell  kevin hart    a black businessman who s never even had a parking ticket   for help  as darnell puts james through the wringer  both learn that they were wrong about many things  including each other life has changed drastically for thunder buddies john  mark wahlberg  now a bachelor  and best pal ted  seth macfarlane  now married to the woman  jessica barth  of his dreams  problems arise when the couple decide to adopt a child  but the law declares ted to be property and not a person  angry and dejected  the lovably foulmouthed teddy bear must now seek legal help from a young lawyer  amanda seyfried  and a legendary  civil rights attorney  morgan freeman  to get the justice he deserves upset about moving from the big city to a small town  young zach cooper  dylan minnette  finds a silver lining when he meets his beautiful neighbor hannah  odeya rush  the teen is surprised to learn that hannah s mysterious father is r l  stine  jack black  the famous author of the best selling  goosebumps  series  when zach accidentally unleashes the monsters from the fantastic tales  it s up to stine  his daughter and cooper to return the beasts back to the books where they belong living a bleak existence at a london orphanage  12 year old peter  levi miller  finds himself whisked away to the fantastical world of neverland  adventure awaits as he meets new friend james hook  garrett hedlund  and the warrior tiger lily  rooney mara  they must band together to save neverland from the ruthless pirate blackbeard  hugh jackman  along the way  the rebellious and mischievous boy discovers his true destiny  becoming the hero forever known as peter pan luckily for young arlo  his parents  jeffrey wright  frances mcdormand  and his two siblings  the mighty dinosaurs were not wiped out 65 million years ago  when a rainstorm washes poor arlo  raymond ochoa  downriver  he ends up bruised  battered and miles away from home  good fortune shines on the frightened dino when he meets spot  jack bright  a neanderthal boy who offers his help and friendship  together  the unlikely duo embark on an epic adventure to reunite arlo with his beloved family when their parents decide to sell their home  siblings maura  amy poehler  and kate  tina fey  learn that they have one weekend to clean out the junk from their old bedroom  unhappy with the news  the recently divorced maura and her hotheaded sister make plans to throw one final bash to recapture their glory days with their former classmates  as the raging party begins to spiral out of control  the gals soon realize that there may not be a house left once the dust settles life is dandy in bikini bottom for spongebob squarepants  tom kenny  and his friends patrick  bill fagerbakke  squidward  rodger bumpass  mr  krabs  clancy brown  and sandy  carolyn lawrence  however  when the top secret recipe for krabby patties is stolen  spongebob finds that he must join forces with perpetual adversary plankton  mr  lawrence  and come ashore to battle a fiendish pirate named burger beard  antonio banderas  who has his own plans for the delicious delicacies music manager dave  jason lee  is not only enjoying a burgeoning career  but a blossoming romance with samantha  kimberly williams paisley  a beautiful doctor who works in the emergency room  through a series of misunderstandings  the chipmunks start to believe that a marriage proposal is on the horizon  dreading the thought of an antagonistic stepbrother  josh green  alvin  justin long  theodore and simon embark on a cross country odyssey to prevent their best pal from ruining their lives life always seems complicated for good ol  charlie brown  noah schnapp  the boy who always tries his best against seemingly impossible odds  when the little red haired girl moves into his neighborhood  charlie brown develops a crush on her  meanwhile  his best friend snoopy embarks on an epic adventure in a fantasy world  as a world war i flying ace  the lovable beagle pursues his nemesis  the red baron  while also trying to win the heart of a beautiful poodle named fifi  kristin chenoweth six years after he saved the day at his beloved new jersey shopping mall  security guard paul blart  kevin james  is taking a well deserved vacation  in recognition for his hard work  he s won an all expenses paid trip to a security convention in las vegas  and decides to take his teenage daughter  maya  raini rodriguez  with him  true to form  however  paul just can t relax and take it easy  so when he uncovers a criminal threat to the hotel  he springs into action cal lynch travels back in time to 15th century spain through a revolutionary technology that unlocks the genetic memories contained in his dna  there  he lives out the experiences of aguilar de nerha  a distant relative who s also a member of the assassins  a secret society that fights to protect free will from the power hungry templar order  transformed by the past  cal begins to gain the knowledge and physical skills necessary to battle the oppressive organization in the present sebastian  ryan gosling  and mia  emma stone  are drawn together by their common desire to do what they love  but as success mounts they are faced with decisions that begin to fray the fragile fabric of their love affair  and the dreams they worked so hard to maintain in each other threaten to rip them apart looking to mine for gold  greedy industrialist bartholomew bogue seizes control of the old west town of rose creek  with their lives in jeopardy  emma cullen and other desperate residents turn to bounty hunter sam chisolm  denzel washington  for help  chisolm recruits an eclectic group of gunslingers to take on bogue and his ruthless henchmen  with a deadly showdown on the horizon  the seven mercenaries soon find themselves fighting for more than just money once the bullets start to fly christian wolff  ben affleck  is a mathematics savant with more affinity for numbers than people  using a small town cpa office as a cover  he makes his living as a freelance accountant for dangerous criminal organizations  with a treasury agent  j k  simmons  hot on his heels  christian takes on a state of the art robotics company as a legitimate client  as wolff gets closer to the truth about a discrepancy that involves millions of dollars  the body count starts to rise three brilliant african american women at nasa   katherine johnson  taraji p  henson  dorothy vaughan  octavia spencer  and mary jackson  janelle mon e    serve as the brains behind one of the greatest operations in history  the launch of astronaut john glenn  glen powell  into orbit  a stunning achievement that restored the nation s confidence  turned around the space race and galvanized the world Sin Datos after the bergens invade troll village  poppy  anna kendrick  the happiest troll ever born  and the overly cautious  curmudgeonly branch  justin timberlake  set off on a journey to rescue her friends  their mission is full of adventure and mishaps  as this mismatched duo try to tolerate each other long enough to get the job done former scientist galen erso lives on a farm with his wife and young daughter  jyn  his peaceful existence comes crashing down when the evil orson krennic takes him away from his beloved family  many years later  galen becomes the empire s lead engineer for the most powerful weapon in the galaxy  the death star  knowing that her father holds the key to its destruction  jyn joins forces with a spy and other resistance fighters to steal the space station s plans for the rebel alliance Sin Datos a young woman  milie dequenne  causes an uproar when she falsely claims to be the victim of an anti semitic attack max vatan  brad pitt  and marianne beaus jour  marion cotillard  are world war ii operatives who never reveal their true identities  after falling in love during a risky mission  they hope to leave all that double dealing behind them and start new lives  instead  suspicion and danger envelop their marriage as both husband and wife become pitted against each other in an escalating  potentially lethal test that has global consequences rocky  jane levy  alex and money are three detroit thieves who get their kicks by breaking into the houses of wealthy people  money gets word about a blind veteran who won a major cash settlement following the death of his only child  figuring he s an easy target  the trio invades the man s secluded home in an abandoned neighborhood  finding themselves trapped inside  the young intruders must fight for their lives after making a shocking discovery about their supposedly helpless victim on the eve of his unit s deployment to iraq  an officer  seth gabel  learns that one of his men plans to go awol to visit his sick child when his beloved grandfather leaves jake clues to a mystery that spans different worlds and times  he finds a magical place known as miss peregrine s school for peculiar children  but the mystery and danger deepen as he gets to know the residents and learns about their special powers   and their terrifying enemies  ultimately  jake discovers that only his own special peculiarity can save his new friends  based on the novel  miss peregrine s home for peculiar children  written by ransom riggs it s been 10 years since jason bourne  matt damon  walked away from the agency that trained him to become a deadly weapon  hoping to draw him out of the shadows  cia director robert dewey assigns hacker and counterinsurgency expert heather lee to find him  lee suspects that former operative nicky parsons is also looking for him  as she begins tracking the duo  bourne finds himself back in action battling a sinister network that utilizes terror and technology to maintain unchecked power it s been nearly a decade since tarzan  alexander skarsg rd  also known as john clayton iii  left africa to live in victorian england with his wife jane  danger lurks on the horizon as leon rom  christoph waltz  a treacherous envoy for king leopold  devises a scheme that lures the couple to the congo  rom plans to capture tarzan and deliver him to an old enemy in exchange for diamonds  when jane becomes a pawn in his devious plot  tarzan must return to the jungle to save the woman he loves on jan  15  2009  capt  chesley  sully  sullenberger  tom hanks  tries to make an emergency landing in new york s hudson river after us airways flight 1549 strikes a flock of geese  miraculously  all of the 155 passengers and crew survive the harrowing ordeal  and sullenberger becomes a national hero in the eyes of the public and the media  despite the accolades  the famed pilot now faces an investigation that threatens to destroy his career and reputation amy  mila kunis  has a great husband  overachieving children  beautiful home and successful career  unfortunately  she s also overworked  exhausted and ready to snap  fed up  she joins forces with two other stressed out mothers  kristen bell  kathryn hahn  to get away from daily life and conventional responsibilities  as the gals go wild with their newfound freedom  they set themselves up for the ultimate showdown with pta queen bee gwendolyn and her clique of seemingly perfect moms when a mercenary warrior  matt damon  is imprisoned within the great wall  he discovers the mystery behind one of the greatest wonders of the world  as wave after wave of marauding beasts besiege the massive structure  his quest for fortune turns into a journey toward heroism as he joins a huge army of elite warriors to confront the unimaginable and seemingly unstoppable force it s the roaring `20s and prohibition hasn t stopped the flow of booze in an underground network of gangster run speakeasies  the opportunity to gain power and money is there for any man with enough ambition and nerve  and joe coughlin  the son of the boston police superintendent  long ago turned his back on his strict upbringing for the spoils of being an outlaw  but even among criminals there are rules  and joe breaks a big one  crossing a powerful mob boss by stealing his money and his moll the survival of mankind hangs in the balance when set  gerard butler  the merciless god of darkness  usurps egypt s throne and plunges the prosperous empire into chaos and conflict  hoping to save the world and rescue his true love  a defiant mortal named bek  brenton thwaites  forms an unlikely alliance with the powerful god horus  nikolaj coster waldau  their battle against set and his henchmen takes them into the afterlife and across the heavens for an epic confrontation life is good for all the food items that occupy the shelves at the local supermarket  frank  seth rogen  the sausage  brenda  kristen wiig  the hot dog bun  teresa taco and sammy bagel jr   edward norton  can t wait to go home with a happy customer  soon  their world comes crashing down as poor frank learns the horrifying truth that he will eventually become a meal  after warning his pals about their similar fate  the panicked perishables devise a plan to escape from their human enemies famous symbologist robert langdon  tom hanks  follows a trail of clues tied to dante  the great medieval poet  when langdon wakes up in an italian hospital with amnesia  he teams up with sienna brooks  felicity jones  a doctor he hopes will help him recover his memories  together  they race across europe and against the clock to stop a madman  ben foster  from unleashing a virus that could wipe out half of the world s population after the members of a team of scientists  harold ramis  dan aykroyd  bill murray  lose their cushy positions at a university in new york city  they decide to become  ghostbusters  to wage a high tech battle with the supernatural for money  they stumble upon a gateway to another dimension  a doorway that will release evil upon the city  the ghostbusters must now save new york from complete destruction after fleeing from a stage show  the illusionists  jesse eisenberg  woody harrelson  known as the four horsemen find themselves in more trouble in macau  china  devious tech wizard walter mabry  daniel radcliffe  forces the infamous magicians to steal a powerful chip that can control all of the world s computers  meanwhile  vengeful fbi agent dylan rhodes  mark ruffalo  hatches his own plot against thaddeus bradley  morgan freeman  the man he blames for the death of his father dory  ellen degeneres  is a wide eyed  blue tang fish who suffers from memory loss every 10 seconds or so  the one thing she can remember is that she somehow became separated from her parents as a child  with help from her friends nemo and marlin  dory embarks on an epic adventure to find them  her journey brings her to the marine life institute  a conservatory that houses diverse ocean species  dory now knows that her family reunion will only happen if she can save mom and dad from captivity betrayed by her evil sister ravenna  charlize theron  heartbroken freya  emily blunt  retreats to a northern kingdom to raise an army of huntsmen as her protectors  gifted with the ability to freeze her enemies in ice  freya teaches her young soldiers to never fall in love  when eric  chris hemsworth  and fellow warrior sara defy this rule  the angry queen does whatever she can to stop them  as war between the siblings escalates  eric and sara try to end ravenna s wicked reign as the fourth of july nears  satellite engineer david levinson  jeff goldblum  investigates a 3 000 mile wide mother ship that s approaching earth  fortunately  20 years earlier  nations across the world started to use recovered extraterrestrial technology to develop an immense defense program  when the alien invaders attack with unprecedented force  the u s  president  teams of scientists and brave fighter pilots spring into action to save the planet from a seemingly invincible enemy bullied as a teen for being overweight  bob stone  dwayne johnson  shows up to his high school reunion looking fit and muscular  while there  he finds calvin joyner  kevin hart  a fast talking accountant who misses his glory days as a popular athlete  stone is now a lethal cia agent who needs calvin s number skills to help him save the compromised u s  spy satellite system  together  the former classmates encounter shootouts  espionage and double crosses while trying to prevent worldwide chaos judah ben hur  jack huston  loses everything after his adopted brother messala  toby kebbell  now an officer in the roman army  returns to jerusalem and accuses the young prince of treason  stripped of his title and separated from his wife  nazanin boniadi  and family  ben hur must endure years of slavery on a galley at sea  when fate brings the estranged brothers to an epic and deadly chariot race  ben hur finally gets the chance to exact vengeance on the man who destroyed his life storks deliver babies   or at least they used to  now  they deliver packages for a global internet retail giant  junior  andy samberg  the company s top delivery stork  lands in hot water when the baby factory produces an adorable but wholly unauthorized girl  desperate to deliver this bundle of trouble  junior and his friend tulip  katie crown  the only human on stork mountain  race against time to make their first baby drop before the boss  kelsey grammer  finds out the turtles face a new challenge when shredder escapes from custody and joins forces with baxter stockman  a mad scientist who plans to use a serum to take over the world  along for the ride are bebop and rocksteady  two dimwitted henchmen who provide plenty of muscle  luckily  the turtles have their own allies in april o neil  vernon fenwick and casey jones  a hockey masked vigilante  as the pizza loving heroes prepare for battle  the notorious krang also emerges to pose an even greater threat after the death of the british prime minister  the world s most powerful leaders gather in london to pay their respects  without warning  terrorists unleash a devastating attack that leaves the city in chaos and ruins  secret service agent mike banning  gerard butler  springs into action to bring u s  president benjamin asher  aaron eckhart  to safety  when asher falls into the hands of the sinister organization  it s up to banning to save his commander in chief from a horrible fate young kubo s  art parkinson  peaceful existence comes crashing down when he accidentally summons a vengeful spirit from the past  now on the run  kubo joins forces with monkey  charlize theron  and beetle  matthew mcconaughey  to unlock a secret legacy  armed with a magical instrument  kubo must battle the moon king  ralph fiennes  and other gods and monsters to save his family and solve the mystery of his fallen father  the greatest samurai warrior the world has ever known manny the mammoth starts to worry when his daughter peaches announces her engagement  still unlucky in love  sid the sloth volunteers to plan the couple s wedding  to manny s dismay  nothing can stop the upcoming nuptials  except maybe the end of the world  when scrat accidentally launches himself into outer space  he sets off a chain reaction that sends an asteroid hurtling toward earth  now  the entire herd must leave home to explore new lands and save itself from scrat s cosmic blunder looking for any way to get away from the life and town he was born into  tripp  lucas till  a high school senior  builds a monster truck from bits and pieces of scrapped cars  after an accident at a nearby oil drilling site displaces a strange and subterranean creature with a taste and a talent for speed  tripp may have just found the key to getting out of town with a most unlikely friend Sin Datos on feb  18  1952  a massive storm splits the ss pendleton in two  trapping more than 30 sailors inside the tanker s sinking stern  engineer ray sybert bravely takes charge to organize a strategy for his fellow survivors  as word of the disaster reaches the coast guard in chatham  mass  chief warrant officer daniel cluff orders a daring rescue mission  despite the ferocious weather  coxswain bernie webber takes three men on a lifeboat to try and save the crew against seemingly impossible odds mr  meacham  robert redford  a woodcarver  delights local children with stories of a mysterious dragon that lives deep in the woods of the pacific northwest  his daughter grace  bryce dallas howard  believes these are just tall tales  until she meets pete  oakes fegley  a 10 year old orphan who says he lives in the woods with a giant  friendly dragon  with help from a young girl named natalie  oona laurence  grace sets out to investigate if this fantastic claim can be true'"
            ]
          },
          "metadata": {
            "tags": []
          },
          "execution_count": 55
        }
      ]
    },
    {
      "cell_type": "code",
      "metadata": {
        "id": "8TlbSYXSyMss"
      },
      "source": [
        "char2idx = {u:i for i, u in enumerate(vocab)}\n",
        "idx2char = np.array(vocab)"
      ],
      "execution_count": null,
      "outputs": []
    },
    {
      "cell_type": "code",
      "metadata": {
        "id": "Pbkk-ovtqdeA"
      },
      "source": [
        "# Length of the vocabulary in chars\n",
        "vocab_size = len(vocab)\n",
        "\n",
        "# The embedding dimension\n",
        "embedding_dim = 64\n",
        "\n",
        "# Number of RNN units\n",
        "rnn_units = 512"
      ],
      "execution_count": null,
      "outputs": []
    },
    {
      "cell_type": "code",
      "metadata": {
        "id": "oLq_ZBkAq7SB"
      },
      "source": [
        "def split_input_target(chunk):\n",
        "    input_text = chunk[:-1]\n",
        "    target_text = chunk[1:]\n",
        "    return input_text, target_text"
      ],
      "execution_count": null,
      "outputs": []
    },
    {
      "cell_type": "code",
      "metadata": {
        "id": "YHu5iQcCrRAL"
      },
      "source": [
        "text_as_int = np.array([char2idx[c] for c in text])"
      ],
      "execution_count": null,
      "outputs": []
    },
    {
      "cell_type": "code",
      "metadata": {
        "id": "Wutze6msrZCo"
      },
      "source": [
        "seq_length = 100\n",
        "examples_per_epoch = len(text)//(seq_length+1) # división entera"
      ],
      "execution_count": null,
      "outputs": []
    },
    {
      "cell_type": "code",
      "metadata": {
        "id": "jnDA2E95rMy1"
      },
      "source": [
        "char_dataset = tf.data.Dataset.from_tensor_slices(text_as_int)\n",
        "sequences = char_dataset.batch(seq_length+1, drop_remainder=True)"
      ],
      "execution_count": null,
      "outputs": []
    },
    {
      "cell_type": "code",
      "metadata": {
        "id": "sDdOEEHAq7WQ"
      },
      "source": [
        "dataset = sequences.map(split_input_target)"
      ],
      "execution_count": null,
      "outputs": []
    },
    {
      "cell_type": "code",
      "metadata": {
        "id": "RDU_Qe7Eqdh6"
      },
      "source": [
        "def build_model(vocab_size, embedding_dim, rnn_units, batch_size):\n",
        "    model = tf.keras.Sequential([\n",
        "    tf.keras.layers.Embedding(vocab_size, embedding_dim,\n",
        "                              batch_input_shape=[batch_size, None]),\n",
        "    tf.keras.layers.GRU(rnn_units,\n",
        "                        return_sequences=True,\n",
        "                        stateful=True,\n",
        "                        recurrent_initializer='glorot_uniform'),\n",
        "    tf.keras.layers.GRU(rnn_units,\n",
        "                        return_sequences=True,\n",
        "                        stateful=True,\n",
        "                        recurrent_initializer='glorot_uniform'),\n",
        "    tf.keras.layers.Dense(vocab_size)\n",
        "  ])\n",
        "    return model"
      ],
      "execution_count": null,
      "outputs": []
    },
    {
      "cell_type": "code",
      "metadata": {
        "colab": {
          "base_uri": "https://localhost:8080/"
        },
        "id": "fvzhD4giqxa9",
        "outputId": "cc67f94f-814c-4cd8-ce32-68506c88806a"
      },
      "source": [
        "BATCH_SIZE = 256\n",
        "\n",
        "BUFFER_SIZE = 10000\n",
        "\n",
        "dataset = dataset.shuffle(BUFFER_SIZE).batch(BATCH_SIZE, drop_remainder=True)\n",
        "\n",
        "dataset"
      ],
      "execution_count": null,
      "outputs": [
        {
          "output_type": "execute_result",
          "data": {
            "text/plain": [
              "<BatchDataset shapes: ((256, 100), (256, 100)), types: (tf.int64, tf.int64)>"
            ]
          },
          "metadata": {
            "tags": []
          },
          "execution_count": 64
        }
      ]
    },
    {
      "cell_type": "code",
      "metadata": {
        "colab": {
          "base_uri": "https://localhost:8080/"
        },
        "id": "ZIgVBdEkqdmO",
        "outputId": "904a6c07-cdeb-4341-9256-69c9d7b6bef0"
      },
      "source": [
        "model = build_model(\n",
        "    vocab_size = len(vocab),\n",
        "    embedding_dim=embedding_dim,\n",
        "    rnn_units=rnn_units,\n",
        "    batch_size=BATCH_SIZE)\n",
        "model.summary()"
      ],
      "execution_count": null,
      "outputs": [
        {
          "output_type": "stream",
          "text": [
            "Model: \"sequential_3\"\n",
            "_________________________________________________________________\n",
            "Layer (type)                 Output Shape              Param #   \n",
            "=================================================================\n",
            "embedding_3 (Embedding)      (256, None, 64)           2560      \n",
            "_________________________________________________________________\n",
            "gru_6 (GRU)                  (256, None, 512)          887808    \n",
            "_________________________________________________________________\n",
            "gru_7 (GRU)                  (256, None, 512)          1575936   \n",
            "_________________________________________________________________\n",
            "dense_3 (Dense)              (256, None, 40)           20520     \n",
            "=================================================================\n",
            "Total params: 2,486,824\n",
            "Trainable params: 2,486,824\n",
            "Non-trainable params: 0\n",
            "_________________________________________________________________\n"
          ],
          "name": "stdout"
        }
      ]
    },
    {
      "cell_type": "code",
      "metadata": {
        "colab": {
          "base_uri": "https://localhost:8080/"
        },
        "id": "4ZDG1haeqdrx",
        "outputId": "c6aafcda-838b-4a13-c95f-3b1fdc4652b5"
      },
      "source": [
        "for input_example_batch, target_example_batch in dataset.take(1):\n",
        "    example_batch_predictions = model(input_example_batch)\n",
        "    print(example_batch_predictions.shape, \"# (batch_size, sequence_length, vocab_size)\")"
      ],
      "execution_count": null,
      "outputs": [
        {
          "output_type": "stream",
          "text": [
            "(256, 100, 40) # (batch_size, sequence_length, vocab_size)\n"
          ],
          "name": "stdout"
        }
      ]
    },
    {
      "cell_type": "code",
      "metadata": {
        "colab": {
          "base_uri": "https://localhost:8080/"
        },
        "id": "vF3i3Npdqdzs",
        "outputId": "7265bd6c-87ed-4419-b654-be33aab5037c"
      },
      "source": [
        "model.summary()"
      ],
      "execution_count": null,
      "outputs": [
        {
          "output_type": "stream",
          "text": [
            "Model: \"sequential_3\"\n",
            "_________________________________________________________________\n",
            "Layer (type)                 Output Shape              Param #   \n",
            "=================================================================\n",
            "embedding_3 (Embedding)      (256, None, 64)           2560      \n",
            "_________________________________________________________________\n",
            "gru_6 (GRU)                  (256, None, 512)          887808    \n",
            "_________________________________________________________________\n",
            "gru_7 (GRU)                  (256, None, 512)          1575936   \n",
            "_________________________________________________________________\n",
            "dense_3 (Dense)              (256, None, 40)           20520     \n",
            "=================================================================\n",
            "Total params: 2,486,824\n",
            "Trainable params: 2,486,824\n",
            "Non-trainable params: 0\n",
            "_________________________________________________________________\n"
          ],
          "name": "stdout"
        }
      ]
    },
    {
      "cell_type": "code",
      "metadata": {
        "id": "JodcXA55qd8F"
      },
      "source": [
        "sampled_indices = tf.random.categorical(example_batch_predictions[0], num_samples=1)\n",
        "sampled_indices = tf.squeeze(sampled_indices,axis=-1).numpy()"
      ],
      "execution_count": null,
      "outputs": []
    },
    {
      "cell_type": "code",
      "metadata": {
        "colab": {
          "base_uri": "https://localhost:8080/"
        },
        "id": "B2UsrFwWqd5e",
        "outputId": "0a4923f5-f4ca-44cb-b765-2abda68f5f14"
      },
      "source": [
        "sampled_indices"
      ],
      "execution_count": null,
      "outputs": [
        {
          "output_type": "execute_result",
          "data": {
            "text/plain": [
              "array([19, 34, 20, 21, 36,  8, 23,  3, 23,  3, 19, 33, 26, 36, 14, 28, 21,\n",
              "       33,  5,  7, 19, 32, 39, 15, 24, 12,  1, 36, 28, 24, 25,  6,  3, 17,\n",
              "       18, 33, 15, 33,  9,  7, 23, 33, 34, 26, 25, 27, 39, 37, 12, 13, 30,\n",
              "       12, 21, 17, 30, 39, 35, 30,  9, 26, 34, 36, 24, 14, 24, 36, 23, 32,\n",
              "        9, 13, 11, 38, 14, 35, 19, 12, 15, 27, 26, 34, 10, 29, 23, 29, 20,\n",
              "        1, 38, 36,  1, 28, 16, 26, 17, 33, 22,  9,  8, 13, 18, 25])"
            ]
          },
          "metadata": {
            "tags": []
          },
          "execution_count": 70
        }
      ]
    },
    {
      "cell_type": "code",
      "metadata": {
        "colab": {
          "base_uri": "https://localhost:8080/"
        },
        "id": "AgItwrzRqd38",
        "outputId": "2a665c0c-930e-4605-8ae9-da12de3e64ff"
      },
      "source": [
        "print(\"Input: \\n\", repr(\"\".join(idx2char[input_example_batch[0]])))\n",
        "print()\n",
        "print(\"Next Char Predictions: \\n\", repr(\"\".join(idx2char[sampled_indices ])))"
      ],
      "execution_count": null,
      "outputs": [
        {
          "output_type": "stream",
          "text": [
            "Input: \n",
            " 's  spy satellite system  together  the former classmates encounter shootouts  espionage and double c'\n",
            "\n",
            "Next Char Predictions: \n",
            " 'fughw7j2j2ftmwaoht46fszbkS0wokl52detbt86jtumlnzxS`qShdqzvq8muwkakwjs8`DyavfSbnmu9pjpg0yw0ocmdti87`el'\n"
          ],
          "name": "stdout"
        }
      ]
    },
    {
      "cell_type": "code",
      "metadata": {
        "id": "hvK2zpmLqdxo"
      },
      "source": [
        "# Función de perdida para optimizar el modelo\n",
        "def loss(labels, logits):\n",
        "      return tf.keras.losses.sparse_categorical_crossentropy(labels, logits, from_logits=True)"
      ],
      "execution_count": null,
      "outputs": []
    },
    {
      "cell_type": "code",
      "metadata": {
        "id": "B6UN8opqsTwn"
      },
      "source": [
        "model.compile(optimizer='adam', loss=loss)\n"
      ],
      "execution_count": null,
      "outputs": []
    },
    {
      "cell_type": "code",
      "metadata": {
        "id": "2i3h0XefsT8Z"
      },
      "source": [
        "# Directory where the checkpoints will be saved\n",
        "checkpoint_dir = 'training_checkpoints/'\n",
        "# Name of the checkpoint files\n",
        "checkpoint_prefix = os.path.join(checkpoint_dir, \"ckpt_{epoch}\")\n",
        "\n",
        "checkpoint_callback=tf.keras.callbacks.ModelCheckpoint(\n",
        "        filepath=checkpoint_prefix,\n",
        "        save_weights_only=True)"
      ],
      "execution_count": null,
      "outputs": []
    },
    {
      "cell_type": "code",
      "metadata": {
        "colab": {
          "base_uri": "https://localhost:8080/"
        },
        "id": "YLXBcpK4sT6G",
        "outputId": "72f55af3-6483-416e-e108-3de799f2531d"
      },
      "source": [
        "# Una epoca es la cantidad de pasos completos en el conjunto de datos de entrenamiento\n",
        "EPOCHS=100\n",
        "model.load_weights(tf.train.latest_checkpoint(checkpoint_dir)) # Comentar esta linea la primera vez \n",
        "history = model.fit(dataset, epochs=EPOCHS, callbacks=[checkpoint_callback])"
      ],
      "execution_count": null,
      "outputs": [
        {
          "output_type": "stream",
          "text": [
            "Epoch 1/100\n",
            "2/2 [==============================] - 8s 4s/step - loss: 0.2140\n",
            "Epoch 2/100\n",
            "2/2 [==============================] - 8s 4s/step - loss: 0.2163\n",
            "Epoch 3/100\n",
            "2/2 [==============================] - 8s 4s/step - loss: 0.2132\n",
            "Epoch 4/100\n",
            "2/2 [==============================] - 8s 4s/step - loss: 0.2138\n",
            "Epoch 5/100\n",
            "2/2 [==============================] - 8s 4s/step - loss: 0.2120\n",
            "Epoch 6/100\n",
            "2/2 [==============================] - 8s 4s/step - loss: 0.2117\n",
            "Epoch 7/100\n",
            "2/2 [==============================] - 8s 4s/step - loss: 0.2103\n",
            "Epoch 8/100\n",
            "2/2 [==============================] - 9s 4s/step - loss: 0.2056\n",
            "Epoch 9/100\n",
            "2/2 [==============================] - 8s 4s/step - loss: 0.2089\n",
            "Epoch 10/100\n",
            "2/2 [==============================] - 8s 4s/step - loss: 0.2106\n",
            "Epoch 11/100\n",
            "2/2 [==============================] - 8s 4s/step - loss: 0.2096\n",
            "Epoch 12/100\n",
            "2/2 [==============================] - 9s 4s/step - loss: 0.2084\n",
            "Epoch 13/100\n",
            "2/2 [==============================] - 8s 4s/step - loss: 0.2084\n",
            "Epoch 14/100\n",
            "2/2 [==============================] - 8s 4s/step - loss: 0.2054\n",
            "Epoch 15/100\n",
            "2/2 [==============================] - 8s 4s/step - loss: 0.2051\n",
            "Epoch 16/100\n",
            "2/2 [==============================] - 8s 4s/step - loss: 0.2042\n",
            "Epoch 17/100\n",
            "2/2 [==============================] - 8s 4s/step - loss: 0.2030\n",
            "Epoch 18/100\n",
            "2/2 [==============================] - 9s 4s/step - loss: 0.2028\n",
            "Epoch 19/100\n",
            "2/2 [==============================] - 8s 4s/step - loss: 0.2024\n",
            "Epoch 20/100\n",
            "2/2 [==============================] - 8s 4s/step - loss: 0.2008\n",
            "Epoch 21/100\n",
            "2/2 [==============================] - 9s 4s/step - loss: 0.2014\n",
            "Epoch 22/100\n",
            "2/2 [==============================] - 8s 4s/step - loss: 0.2002\n",
            "Epoch 23/100\n",
            "2/2 [==============================] - 8s 4s/step - loss: 0.1968\n",
            "Epoch 24/100\n",
            "2/2 [==============================] - 8s 4s/step - loss: 0.2007\n",
            "Epoch 25/100\n",
            "2/2 [==============================] - 8s 4s/step - loss: 0.2001\n",
            "Epoch 26/100\n",
            "2/2 [==============================] - 8s 4s/step - loss: 0.1963\n",
            "Epoch 27/100\n",
            "2/2 [==============================] - 8s 4s/step - loss: 0.1943\n",
            "Epoch 28/100\n",
            "2/2 [==============================] - 8s 4s/step - loss: 0.1995\n",
            "Epoch 29/100\n",
            "2/2 [==============================] - 8s 4s/step - loss: 0.2006\n",
            "Epoch 30/100\n",
            "2/2 [==============================] - 8s 4s/step - loss: 0.1942\n",
            "Epoch 31/100\n",
            "2/2 [==============================] - 8s 4s/step - loss: 0.1971\n",
            "Epoch 32/100\n",
            "2/2 [==============================] - 8s 4s/step - loss: 0.1966\n",
            "Epoch 33/100\n",
            "2/2 [==============================] - 8s 4s/step - loss: 0.1945\n",
            "Epoch 34/100\n",
            "2/2 [==============================] - 9s 4s/step - loss: 0.1960\n",
            "Epoch 35/100\n",
            "2/2 [==============================] - 8s 4s/step - loss: 0.1952\n",
            "Epoch 36/100\n",
            "2/2 [==============================] - 8s 4s/step - loss: 0.1949\n",
            "Epoch 37/100\n",
            "2/2 [==============================] - 8s 4s/step - loss: 0.1956\n",
            "Epoch 38/100\n",
            "2/2 [==============================] - 8s 4s/step - loss: 0.1944\n",
            "Epoch 39/100\n",
            "2/2 [==============================] - 8s 4s/step - loss: 0.1897\n",
            "Epoch 40/100\n",
            "2/2 [==============================] - 8s 4s/step - loss: 0.1919\n",
            "Epoch 41/100\n",
            "2/2 [==============================] - 8s 4s/step - loss: 0.1962\n",
            "Epoch 42/100\n",
            "2/2 [==============================] - 8s 4s/step - loss: 0.1908\n",
            "Epoch 43/100\n",
            "2/2 [==============================] - 8s 4s/step - loss: 0.1869\n",
            "Epoch 44/100\n",
            "2/2 [==============================] - 8s 4s/step - loss: 0.1909\n",
            "Epoch 45/100\n",
            "2/2 [==============================] - 8s 4s/step - loss: 0.1906\n",
            "Epoch 46/100\n",
            "2/2 [==============================] - 8s 4s/step - loss: 0.1881\n",
            "Epoch 47/100\n",
            "2/2 [==============================] - 8s 4s/step - loss: 0.1907\n",
            "Epoch 48/100\n",
            "2/2 [==============================] - 8s 4s/step - loss: 0.1871\n",
            "Epoch 49/100\n",
            "2/2 [==============================] - 8s 4s/step - loss: 0.1856\n",
            "Epoch 50/100\n",
            "2/2 [==============================] - 8s 4s/step - loss: 0.1873\n",
            "Epoch 51/100\n",
            "2/2 [==============================] - 8s 4s/step - loss: 0.1905\n",
            "Epoch 52/100\n",
            "2/2 [==============================] - 8s 4s/step - loss: 0.1853\n",
            "Epoch 53/100\n",
            "2/2 [==============================] - 8s 4s/step - loss: 0.1875\n",
            "Epoch 54/100\n",
            "2/2 [==============================] - 8s 4s/step - loss: 0.1817\n",
            "Epoch 55/100\n",
            "2/2 [==============================] - 8s 4s/step - loss: 0.1879\n",
            "Epoch 56/100\n",
            "2/2 [==============================] - 8s 4s/step - loss: 0.1874\n",
            "Epoch 57/100\n",
            "2/2 [==============================] - 8s 4s/step - loss: 0.1801\n",
            "Epoch 58/100\n",
            "2/2 [==============================] - 8s 4s/step - loss: 0.1841\n",
            "Epoch 59/100\n",
            "2/2 [==============================] - 9s 4s/step - loss: 0.1790\n",
            "Epoch 60/100\n",
            "2/2 [==============================] - 8s 4s/step - loss: 0.1824\n",
            "Epoch 61/100\n",
            "2/2 [==============================] - 8s 4s/step - loss: 0.1804\n",
            "Epoch 62/100\n",
            "2/2 [==============================] - 8s 4s/step - loss: 0.1833\n",
            "Epoch 63/100\n",
            "2/2 [==============================] - 8s 4s/step - loss: 0.1813\n",
            "Epoch 64/100\n",
            "2/2 [==============================] - 8s 4s/step - loss: 0.1829\n",
            "Epoch 65/100\n",
            "2/2 [==============================] - 8s 4s/step - loss: 0.1802\n",
            "Epoch 66/100\n",
            "2/2 [==============================] - 9s 4s/step - loss: 0.1790\n",
            "Epoch 67/100\n",
            "2/2 [==============================] - 8s 4s/step - loss: 0.1843\n",
            "Epoch 68/100\n",
            "2/2 [==============================] - 8s 4s/step - loss: 0.1788\n",
            "Epoch 69/100\n",
            "2/2 [==============================] - 8s 4s/step - loss: 0.1787\n",
            "Epoch 70/100\n",
            "2/2 [==============================] - 8s 4s/step - loss: 0.1764\n",
            "Epoch 71/100\n",
            "2/2 [==============================] - 8s 4s/step - loss: 0.1786\n",
            "Epoch 72/100\n",
            "2/2 [==============================] - 9s 4s/step - loss: 0.1768\n",
            "Epoch 73/100\n",
            "2/2 [==============================] - 8s 4s/step - loss: 0.1781\n",
            "Epoch 74/100\n",
            "2/2 [==============================] - 8s 4s/step - loss: 0.1773\n",
            "Epoch 75/100\n",
            "2/2 [==============================] - 8s 4s/step - loss: 0.1778\n",
            "Epoch 76/100\n",
            "2/2 [==============================] - 8s 4s/step - loss: 0.1770\n",
            "Epoch 77/100\n",
            "2/2 [==============================] - 9s 4s/step - loss: 0.1757\n",
            "Epoch 78/100\n",
            "2/2 [==============================] - 8s 4s/step - loss: 0.1745\n",
            "Epoch 79/100\n",
            "2/2 [==============================] - 8s 4s/step - loss: 0.1750\n",
            "Epoch 80/100\n",
            "2/2 [==============================] - 8s 4s/step - loss: 0.1730\n",
            "Epoch 81/100\n",
            "2/2 [==============================] - 8s 4s/step - loss: 0.1745\n",
            "Epoch 82/100\n",
            "2/2 [==============================] - 8s 4s/step - loss: 0.1700\n",
            "Epoch 83/100\n",
            "2/2 [==============================] - 8s 4s/step - loss: 0.1723\n",
            "Epoch 84/100\n",
            "2/2 [==============================] - 8s 4s/step - loss: 0.1733\n",
            "Epoch 85/100\n",
            "2/2 [==============================] - 8s 4s/step - loss: 0.1739\n",
            "Epoch 86/100\n",
            "2/2 [==============================] - 8s 4s/step - loss: 0.1730\n",
            "Epoch 87/100\n",
            "2/2 [==============================] - 8s 4s/step - loss: 0.1759\n",
            "Epoch 88/100\n",
            "2/2 [==============================] - 8s 4s/step - loss: 0.1716\n",
            "Epoch 89/100\n",
            "2/2 [==============================] - 9s 4s/step - loss: 0.1723\n",
            "Epoch 90/100\n",
            "2/2 [==============================] - 8s 4s/step - loss: 0.1729\n",
            "Epoch 91/100\n",
            "2/2 [==============================] - 8s 4s/step - loss: 0.1708\n",
            "Epoch 92/100\n",
            "2/2 [==============================] - 8s 4s/step - loss: 0.1726\n",
            "Epoch 93/100\n",
            "2/2 [==============================] - 8s 4s/step - loss: 0.1693\n",
            "Epoch 94/100\n",
            "2/2 [==============================] - 8s 4s/step - loss: 0.1697\n",
            "Epoch 95/100\n",
            "2/2 [==============================] - 9s 4s/step - loss: 0.1719\n",
            "Epoch 96/100\n",
            "2/2 [==============================] - 8s 4s/step - loss: 0.1714\n",
            "Epoch 97/100\n",
            "2/2 [==============================] - 8s 4s/step - loss: 0.1705\n",
            "Epoch 98/100\n",
            "2/2 [==============================] - 9s 4s/step - loss: 0.1685\n",
            "Epoch 99/100\n",
            "2/2 [==============================] - 8s 4s/step - loss: 0.1682\n",
            "Epoch 100/100\n",
            "2/2 [==============================] - 8s 4s/step - loss: 0.1689\n"
          ],
          "name": "stdout"
        }
      ]
    },
    {
      "cell_type": "code",
      "metadata": {
        "colab": {
          "base_uri": "https://localhost:8080/"
        },
        "id": "9gTxNGb8sT3N",
        "outputId": "59887cdd-b849-47fe-aa2b-3f329f648362"
      },
      "source": [
        "p_model = build_model(vocab_size, embedding_dim, rnn_units, batch_size=1)\n",
        "p_model.load_weights(tf.train.latest_checkpoint(checkpoint_dir))\n",
        "p_model.build(tf.TensorShape([1, None]))"
      ],
      "execution_count": null,
      "outputs": [
        {
          "output_type": "stream",
          "text": [
            "WARNING:tensorflow:Unresolved object in checkpoint: (root).optimizer\n",
            "WARNING:tensorflow:Unresolved object in checkpoint: (root).optimizer.iter\n",
            "WARNING:tensorflow:Unresolved object in checkpoint: (root).optimizer.beta_1\n",
            "WARNING:tensorflow:Unresolved object in checkpoint: (root).optimizer.beta_2\n",
            "WARNING:tensorflow:Unresolved object in checkpoint: (root).optimizer.decay\n",
            "WARNING:tensorflow:Unresolved object in checkpoint: (root).optimizer.learning_rate\n",
            "WARNING:tensorflow:Unresolved object in checkpoint: (root).optimizer's state 'm' for (root).layer_with_weights-0.embeddings\n",
            "WARNING:tensorflow:Unresolved object in checkpoint: (root).optimizer's state 'm' for (root).layer_with_weights-3.kernel\n",
            "WARNING:tensorflow:Unresolved object in checkpoint: (root).optimizer's state 'm' for (root).layer_with_weights-3.bias\n",
            "WARNING:tensorflow:Unresolved object in checkpoint: (root).optimizer's state 'm' for (root).layer_with_weights-1.cell.kernel\n",
            "WARNING:tensorflow:Unresolved object in checkpoint: (root).optimizer's state 'm' for (root).layer_with_weights-1.cell.recurrent_kernel\n",
            "WARNING:tensorflow:Unresolved object in checkpoint: (root).optimizer's state 'm' for (root).layer_with_weights-1.cell.bias\n",
            "WARNING:tensorflow:Unresolved object in checkpoint: (root).optimizer's state 'm' for (root).layer_with_weights-2.cell.kernel\n",
            "WARNING:tensorflow:Unresolved object in checkpoint: (root).optimizer's state 'm' for (root).layer_with_weights-2.cell.recurrent_kernel\n",
            "WARNING:tensorflow:Unresolved object in checkpoint: (root).optimizer's state 'm' for (root).layer_with_weights-2.cell.bias\n",
            "WARNING:tensorflow:Unresolved object in checkpoint: (root).optimizer's state 'v' for (root).layer_with_weights-0.embeddings\n",
            "WARNING:tensorflow:Unresolved object in checkpoint: (root).optimizer's state 'v' for (root).layer_with_weights-3.kernel\n",
            "WARNING:tensorflow:Unresolved object in checkpoint: (root).optimizer's state 'v' for (root).layer_with_weights-3.bias\n",
            "WARNING:tensorflow:Unresolved object in checkpoint: (root).optimizer's state 'v' for (root).layer_with_weights-1.cell.kernel\n",
            "WARNING:tensorflow:Unresolved object in checkpoint: (root).optimizer's state 'v' for (root).layer_with_weights-1.cell.recurrent_kernel\n",
            "WARNING:tensorflow:Unresolved object in checkpoint: (root).optimizer's state 'v' for (root).layer_with_weights-1.cell.bias\n",
            "WARNING:tensorflow:Unresolved object in checkpoint: (root).optimizer's state 'v' for (root).layer_with_weights-2.cell.kernel\n",
            "WARNING:tensorflow:Unresolved object in checkpoint: (root).optimizer's state 'v' for (root).layer_with_weights-2.cell.recurrent_kernel\n",
            "WARNING:tensorflow:Unresolved object in checkpoint: (root).optimizer's state 'v' for (root).layer_with_weights-2.cell.bias\n",
            "WARNING:tensorflow:A checkpoint was restored (e.g. tf.train.Checkpoint.restore or tf.keras.Model.load_weights) but not all checkpointed values were used. See above for specific issues. Use expect_partial() on the load status object, e.g. tf.train.Checkpoint.restore(...).expect_partial(), to silence these warnings, or use assert_consumed() to make the check explicit. See https://www.tensorflow.org/guide/checkpoint#loading_mechanics for details.\n"
          ],
          "name": "stdout"
        }
      ]
    },
    {
      "cell_type": "code",
      "metadata": {
        "id": "oPri6Z0DsT00"
      },
      "source": [
        "def generate_text(model, start_string):\n",
        "    # Evaluation step (generating text using the learned model)\n",
        "\n",
        "    # Number of characters to generate\n",
        "    num_generate = 1000\n",
        "\n",
        "    # Converting our start string to numbers (vectorizing)\n",
        "    input_eval = [char2idx[s] for s in start_string]\n",
        "    input_eval = tf.expand_dims(input_eval, 0)\n",
        "\n",
        "    # Empty string to store our results\n",
        "    text_generated = []\n",
        "\n",
        "    # Low temperatures results in more predictable text.\n",
        "    # Higher temperatures results in more surprising text.\n",
        "    # Experiment to find the best setting.\n",
        "    temperature = 1.0\n",
        "\n",
        "    # Here batch size == 1\n",
        "    model.reset_states()\n",
        "    for i in range(num_generate):\n",
        "        predictions = model(input_eval)\n",
        "        # remove the batch dimension\n",
        "        predictions = tf.squeeze(predictions, 0)\n",
        "\n",
        "        # using a categorical distribution to predict the word returned by the model\n",
        "        predictions = predictions / temperature\n",
        "        predicted_id = tf.random.categorical(predictions, num_samples=1)[-1,0].numpy()\n",
        "\n",
        "        # We pass the predicted word as the next input to the model\n",
        "        # along with the previous hidden state\n",
        "        input_eval = tf.expand_dims([predicted_id], 0)\n",
        "\n",
        "        text_generated.append(idx2char[predicted_id])\n",
        "\n",
        "    return(start_string + ''.join(text_generated))"
      ],
      "execution_count": null,
      "outputs": []
    },
    {
      "cell_type": "code",
      "metadata": {
        "colab": {
          "base_uri": "https://localhost:8080/"
        },
        "id": "hm9_aYNusTuK",
        "outputId": "a2052b8e-d8f2-439b-f283-0706ec22be25"
      },
      "source": [
        "print(generate_text(p_model, start_string=u\"fantasy\"))"
      ],
      "execution_count": null,
      "outputs": [
        {
          "output_type": "stream",
          "text": [
            "fantasy with a treasury agent  j k  simmoned to the help of smiritide masterpite e chen fancy    are anger to take a hart the thistr  he surkers than one of the greatest wonders of the world s friends must also cope with their own challenges  eric  kevin james  must face his ultimate fear  known as the four horsemen find themselves in more trouble in macau  china  devious tech wizard war work together to stone everyone survives and returns homel wright   boster  the two adventurers travel to the metropolis to uncover its misint war chis best friend snoopy embarks on an epic adventure in a fatthe mis who contimain in at humal caile  an durpergly  the death of the best selling  goosebumps  series  when zach accidentally raused the wak  the rebellious and mischievous boy discovers his true destiny  becoming the hero forever  ncipions a rusised to a smail tolngen in a siless  leo the assignmbak  himself vaces whan it s be a d first each other ly stown s  prosoppitict camby finding openations is a\n"
          ],
          "name": "stdout"
        }
      ]
    },
    {
      "cell_type": "code",
      "metadata": {
        "colab": {
          "base_uri": "https://localhost:8080/"
        },
        "id": "Qo-gafqqsTq6",
        "outputId": "6870553b-c568-4bc6-98cd-5b7cf2b20242"
      },
      "source": [
        "print(generate_text(p_model, start_string=u\"horror\"))"
      ],
      "execution_count": null,
      "outputs": [
        {
          "output_type": "stream",
          "text": [
            "horrory  tasus aftered the witch s beauty  a milk white cow  hair as yellow as corn  darine jount on the couple s fifth wedding anniversary  nick he s on ariss his friends embark on a journey to the sea of monsters to sandy patters into a just  nico confrontation  for the loeton for his he destroying e iiinistible allies and dangeroriconnass  sylvester stallone  co founded the expendables with conrad stonebants  to  a7s take of being an adtain for his cavers a take for the fate of humanity in flint s handed only hope with a hatikn s micad has goco above all else  hotever  e criminals for the one to bring everyone swonve his new partner  nich enger with an unusual dream  to nejaves an only supuries  arly when their wild night leads to atlanta s most notwort from a seemingly invincible enemy bullied as a teenn becomes  was to ims he takes a pad takes themamy and strengan  knows best peespecially if youly days alound the space race and galvanized the wif organization  withol king xerxes of pers\n"
          ],
          "name": "stdout"
        }
      ]
    },
    {
      "cell_type": "code",
      "metadata": {
        "colab": {
          "base_uri": "https://localhost:8080/"
        },
        "id": "LiBQuzuKqdv_",
        "outputId": "df1c8dba-381b-42cf-8f94-e5d5500f5feb"
      },
      "source": [
        "print(generate_text(p_model, start_string=u\"hero\"))"
      ],
      "execution_count": null,
      "outputs": [
        {
          "output_type": "stream",
          "text": [
            "herous  old school dad  mel brooks  paysage a bit the same ace brown len doves an incredible 3970  and ashy red haired girl moves into his neighborhood  charlie brown dedeave like and sursenderavel the mystery of nightshade and help them save themselves   and the world a drug add president benjamin asher  aaron eckhart  and his slate to creathergs the demendes   my setither  the e    serve as the brains behind one of the greatest operations in his poop teams when he accidentally s must jains hope to end wit  still then ice  freya teaches her youngs and bla  the tanker discovers the u s  continute rocks hannan s gomont of helovercome an urms  upbut witch has two weeks left before his mission ends and he joins hos to prestudation their commander in chief from a horrible fate young kujon fighters to teerity complem  and their three children are comfortably settled in the long on a journey to rescue her friends  their missing intermated final is crathingance their crewon for king leopold  devi\n"
          ],
          "name": "stdout"
        }
      ]
    },
    {
      "cell_type": "code",
      "metadata": {
        "colab": {
          "base_uri": "https://localhost:8080/"
        },
        "id": "uCPTM_ngqdpT",
        "outputId": "550ab979-4fb7-4c02-dc61-686acd89ed63"
      },
      "source": [
        "print(generate_text(p_model, start_string=u\"super\"))"
      ],
      "execution_count": null,
      "outputs": [
        {
          "output_type": "stream",
          "text": [
            "super  tares as a shock when he learns that jack is actually working undercover to protect komaroven and back  an unexpected turn of events creates an altered timeline  instead of dollars  the bod souns down butch cavendishaps  as this mismatched duo corming fard war  a mysterious criminal organization plans to use nuclear weapons and technology to upsethe condlown as peternifying fasiin  however  d likes with atags  connor coven as bohe to raine  a lauge and private  chinary plankton  mr  lawrence  an asher allies in april o new york langlen  after stonebanks  louis  althoond hin 20 sainsfrick  new m st peth police accounty of nmakes force atts faced with decisions that begin to frobe the warrens discover the happy  and his comrades mesmerize during a rost other  spurtakin the persian armada new york lawyer carly whitten  cameron divided by the pirate partakities  a sed findly humal cbiel three childre  richael brital busites his team decide not to kill them  jounnty warrick and growing fr\n"
          ],
          "name": "stdout"
        }
      ]
    },
    {
      "cell_type": "code",
      "metadata": {
        "colab": {
          "base_uri": "https://localhost:8080/"
        },
        "id": "HoRgUEWCqda2",
        "outputId": "d2a67910-fea0-4b71-fb4b-b07911d00913"
      },
      "source": [
        "print(generate_text(p_model, start_string=u\"magic\"))"
      ],
      "execution_count": null,
      "outputs": [
        {
          "output_type": "stream",
          "text": [
            "magic bravery  jeff galfopfiem crash  day be wiped the heart of contains as a habriant minds during world war ii  the naziss and criminals from the streets of blu since jales  it s up to banning to save his commander in chief from a horrible fate young kubo s  art particular  and the oter  however  jason since  tries to convince his cohorts that he knows a way out tris prior  shailene woodley  lives in a sublen workingsuluntend  but withtork  jonner  war air brings him to defeat the turks   but cost him his humanity as a comes as a shocthe better  hosed obly to abt and gurblint word uit rocky balbo  sately gods on maumial rusns work together to stop the evildoers in their trackst seemingly impossible odds mr  meacham  robert redford  a woodcarver  delighting fiand and ching workens quink to gove myates a pateon for his handers a dawicaly midask an johnner  with gime aced minds during world war ii  the nazis steal countless pieces of a tay to fent the unlikeliest of heroes   and tell the tru\n"
          ],
          "name": "stdout"
        }
      ]
    },
    {
      "cell_type": "code",
      "metadata": {
        "colab": {
          "base_uri": "https://localhost:8080/"
        },
        "id": "fbmopSWaUuiJ",
        "outputId": "74b64895-efee-4b9f-8f4e-8b391a2dd3bd"
      },
      "source": [
        "print(generate_text(p_model, start_string=u\"travel\")) "
      ],
      "execution_count": null,
      "outputs": [
        {
          "output_type": "stream",
          "text": [
            "travel the discovery about their supposedly worked for a spy organization  lives in a south london housing estate and seems headed for a life brilliant mires  tarthy in love  as kmom to san rest of the tourists from an all out  prehistoric assault Sin Datos when tony stanking repairman  and the rest of the jous conture awaits as he meets new friend james hook  into the authur father  mark wahlies john glaber  with his beloved wife  mirena  sanahory progors about of the galactic empire  the galaxy fates a quester  more her  take  emalown as he gets tow mukine engrand in hisdon disgory persian arcadeline johnshool   is life around and channel ruins  melistanes life is good for all the food iiver with and greatest search for inner peace but legandha bount along with his son and museum friends  must travel the mystery of nightshade and her clipo to take down donovan as he battles an oppontend burswitate  and friendship  together  engroney a mexia  seiz tomntawimately arrivis best friend snoopy e\n"
          ],
          "name": "stdout"
        }
      ]
    }
  ]
}