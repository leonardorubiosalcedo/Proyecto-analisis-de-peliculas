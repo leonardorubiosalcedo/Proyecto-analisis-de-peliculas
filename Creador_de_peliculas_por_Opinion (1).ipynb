{
  "nbformat": 4,
  "nbformat_minor": 0,
  "metadata": {
    "colab": {
      "name": "Creador de peliculas_por_Opinion.ipynb",
      "provenance": [],
      "collapsed_sections": []
    },
    "kernelspec": {
      "name": "python3",
      "display_name": "Python 3"
    }
  },
  "cells": [
    {
      "cell_type": "code",
      "metadata": {
        "id": "zVwKcBO7yInJ"
      },
      "source": [
        "from __future__ import absolute_import, division, print_function, unicode_literals\n",
        "import os\n",
        "import re\n",
        "import time\n",
        "import numpy as np\n",
        "import pandas as pd"
      ],
      "execution_count": 3,
      "outputs": []
    },
    {
      "cell_type": "code",
      "metadata": {
        "id": "rCNmVsOToT5x"
      },
      "source": [
        "import tensorflow as tf"
      ],
      "execution_count": 4,
      "outputs": []
    },
    {
      "cell_type": "code",
      "metadata": {
        "id": "2roD1QHG4dJB",
        "colab": {
          "base_uri": "https://localhost:8080/",
          "height": 448
        },
        "outputId": "062972b2-9340-42fd-a94a-7ea8fb7de13e"
      },
      "source": [
        "df2 = pd.read_excel('data_final_consolidada_movies.xlsx')\n",
        "df=df2[df2['mean_sentimiento']>0.3] \n",
        "df.head()"
      ],
      "execution_count": 128,
      "outputs": [
        {
          "output_type": "execute_result",
          "data": {
            "text/html": [
              "<div>\n",
              "<style scoped>\n",
              "    .dataframe tbody tr th:only-of-type {\n",
              "        vertical-align: middle;\n",
              "    }\n",
              "\n",
              "    .dataframe tbody tr th {\n",
              "        vertical-align: top;\n",
              "    }\n",
              "\n",
              "    .dataframe thead th {\n",
              "        text-align: right;\n",
              "    }\n",
              "</style>\n",
              "<table border=\"1\" class=\"dataframe\">\n",
              "  <thead>\n",
              "    <tr style=\"text-align: right;\">\n",
              "      <th></th>\n",
              "      <th>name</th>\n",
              "      <th>promedio_ganancia_x</th>\n",
              "      <th>calificacion1_dec_x</th>\n",
              "      <th>calificacion2_dec_x</th>\n",
              "      <th>cluster</th>\n",
              "      <th>pp</th>\n",
              "      <th>Nombre_closter</th>\n",
              "      <th>budget</th>\n",
              "      <th>company</th>\n",
              "      <th>country</th>\n",
              "      <th>director</th>\n",
              "      <th>genre</th>\n",
              "      <th>gross</th>\n",
              "      <th>rating</th>\n",
              "      <th>day_released</th>\n",
              "      <th>month_released</th>\n",
              "      <th>year_released</th>\n",
              "      <th>released</th>\n",
              "      <th>runtime</th>\n",
              "      <th>score</th>\n",
              "      <th>star</th>\n",
              "      <th>votes</th>\n",
              "      <th>writer</th>\n",
              "      <th>year</th>\n",
              "      <th>hashtag</th>\n",
              "      <th>name_roten</th>\n",
              "      <th>calificacion1</th>\n",
              "      <th>calificacion2</th>\n",
              "      <th>synopsis</th>\n",
              "      <th>ruta</th>\n",
              "      <th>promedio_ganancia_y</th>\n",
              "      <th>calificacion1_dec_y</th>\n",
              "      <th>calificacion2_dec_y</th>\n",
              "      <th>max_sentimiento</th>\n",
              "      <th>min_sentimiento</th>\n",
              "      <th>mean_sentimiento</th>\n",
              "      <th>sentimiento</th>\n",
              "      <th>prueba</th>\n",
              "    </tr>\n",
              "  </thead>\n",
              "  <tbody>\n",
              "    <tr>\n",
              "      <th>4</th>\n",
              "      <td>Now You See Me</td>\n",
              "      <td>1</td>\n",
              "      <td>3.0</td>\n",
              "      <td>4.0</td>\n",
              "      <td>2</td>\n",
              "      <td>['charismatic', 'magician', 'atlas', 'jesse', ...</td>\n",
              "      <td>Cluster_3</td>\n",
              "      <td>75000000</td>\n",
              "      <td>Summit Entertainment</td>\n",
              "      <td>USA</td>\n",
              "      <td>Louis Leterrier</td>\n",
              "      <td>Crime</td>\n",
              "      <td>117723989</td>\n",
              "      <td>PG-13</td>\n",
              "      <td>31</td>\n",
              "      <td>5</td>\n",
              "      <td>2013</td>\n",
              "      <td>2013-05-31</td>\n",
              "      <td>115</td>\n",
              "      <td>7.3</td>\n",
              "      <td>Jesse Eisenberg</td>\n",
              "      <td>505432</td>\n",
              "      <td>Ed Solomon</td>\n",
              "      <td>2013</td>\n",
              "      <td>#NowYouSeeMe</td>\n",
              "      <td>now_you_see_me</td>\n",
              "      <td>51.0</td>\n",
              "      <td>70.0</td>\n",
              "      <td>charismatic magician atlas  jesse eisenberg  l...</td>\n",
              "      <td>https://www.rottentomatoes.com/m/now_you_see_me</td>\n",
              "      <td>1</td>\n",
              "      <td>3.0</td>\n",
              "      <td>4.0</td>\n",
              "      <td>0.9455</td>\n",
              "      <td>-0.7345</td>\n",
              "      <td>0.359890</td>\n",
              "      <td>Neutro</td>\n",
              "      <td>['see']</td>\n",
              "    </tr>\n",
              "    <tr>\n",
              "      <th>8</th>\n",
              "      <td>Blue Is the Warmest Color</td>\n",
              "      <td>0</td>\n",
              "      <td>4.0</td>\n",
              "      <td>4.0</td>\n",
              "      <td>0</td>\n",
              "      <td>['french', 'teen', 'ad', 'le', 'exarchopoulos'...</td>\n",
              "      <td>Cluster_1</td>\n",
              "      <td>0</td>\n",
              "      <td>Quat'sous Films</td>\n",
              "      <td>France</td>\n",
              "      <td>Abdellatif Kechiche</td>\n",
              "      <td>Drama</td>\n",
              "      <td>2199675</td>\n",
              "      <td>NC-17</td>\n",
              "      <td>14</td>\n",
              "      <td>2</td>\n",
              "      <td>2014</td>\n",
              "      <td>2014-02-14</td>\n",
              "      <td>180</td>\n",
              "      <td>7.8</td>\n",
              "      <td>Léa Seydoux</td>\n",
              "      <td>107119</td>\n",
              "      <td>Abdellatif Kechiche</td>\n",
              "      <td>2013</td>\n",
              "      <td>#BlueIstheWarmestColor</td>\n",
              "      <td>blue_is_the_warmest_color</td>\n",
              "      <td>89.0</td>\n",
              "      <td>85.0</td>\n",
              "      <td>a french teen  ad le exarchopoulos  forms a de...</td>\n",
              "      <td>https://www.rottentomatoes.com/m/blue_is_the_w...</td>\n",
              "      <td>0</td>\n",
              "      <td>4.0</td>\n",
              "      <td>4.0</td>\n",
              "      <td>0.9291</td>\n",
              "      <td>-0.6551</td>\n",
              "      <td>0.397327</td>\n",
              "      <td>Neutro</td>\n",
              "      <td>['blue', 'warmest', 'color']</td>\n",
              "    </tr>\n",
              "    <tr>\n",
              "      <th>32</th>\n",
              "      <td>Beautiful Creatures</td>\n",
              "      <td>3</td>\n",
              "      <td>2.0</td>\n",
              "      <td>2.0</td>\n",
              "      <td>0</td>\n",
              "      <td>['abused', 'boyfriend', 'tony', 'iain', 'glen'...</td>\n",
              "      <td>Cluster_1</td>\n",
              "      <td>60000000</td>\n",
              "      <td>Alcon Entertainment</td>\n",
              "      <td>USA</td>\n",
              "      <td>Richard LaGravenese</td>\n",
              "      <td>Drama</td>\n",
              "      <td>19452138</td>\n",
              "      <td>PG-13</td>\n",
              "      <td>14</td>\n",
              "      <td>2</td>\n",
              "      <td>2013</td>\n",
              "      <td>2013-02-14</td>\n",
              "      <td>124</td>\n",
              "      <td>6.2</td>\n",
              "      <td>Alice Englert</td>\n",
              "      <td>73570</td>\n",
              "      <td>Richard LaGravenese</td>\n",
              "      <td>2013</td>\n",
              "      <td>#BeautifulCreatures</td>\n",
              "      <td>beautiful_creatures</td>\n",
              "      <td>38.0</td>\n",
              "      <td>32.0</td>\n",
              "      <td>after being abused by her boyfriend  tony  iai...</td>\n",
              "      <td>https://www.rottentomatoes.com/m/beautiful_cre...</td>\n",
              "      <td>3</td>\n",
              "      <td>2.0</td>\n",
              "      <td>2.0</td>\n",
              "      <td>0.9701</td>\n",
              "      <td>-0.1860</td>\n",
              "      <td>0.647653</td>\n",
              "      <td>Positivo</td>\n",
              "      <td>['beautiful', 'creatures']</td>\n",
              "    </tr>\n",
              "    <tr>\n",
              "      <th>36</th>\n",
              "      <td>Elysium</td>\n",
              "      <td>1</td>\n",
              "      <td>NaN</td>\n",
              "      <td>NaN</td>\n",
              "      <td>2</td>\n",
              "      <td>['sin', 'datos']</td>\n",
              "      <td>Cluster_3</td>\n",
              "      <td>115000000</td>\n",
              "      <td>TriStar Pictures</td>\n",
              "      <td>USA</td>\n",
              "      <td>Neill Blomkamp</td>\n",
              "      <td>Action</td>\n",
              "      <td>93050117</td>\n",
              "      <td>R</td>\n",
              "      <td>9</td>\n",
              "      <td>8</td>\n",
              "      <td>2013</td>\n",
              "      <td>2013-08-9</td>\n",
              "      <td>109</td>\n",
              "      <td>6.6</td>\n",
              "      <td>Matt Damon</td>\n",
              "      <td>366674</td>\n",
              "      <td>Neill Blomkamp</td>\n",
              "      <td>2013</td>\n",
              "      <td>#Elysium</td>\n",
              "      <td>elysium</td>\n",
              "      <td>NaN</td>\n",
              "      <td>NaN</td>\n",
              "      <td>Sin Datos</td>\n",
              "      <td>https://www.rottentomatoes.com/m/elysium</td>\n",
              "      <td>1</td>\n",
              "      <td>NaN</td>\n",
              "      <td>NaN</td>\n",
              "      <td>0.9726</td>\n",
              "      <td>-0.7959</td>\n",
              "      <td>0.302127</td>\n",
              "      <td>Neutro</td>\n",
              "      <td>['elysium']</td>\n",
              "    </tr>\n",
              "    <tr>\n",
              "      <th>39</th>\n",
              "      <td>The Family</td>\n",
              "      <td>1</td>\n",
              "      <td>1.0</td>\n",
              "      <td>2.0</td>\n",
              "      <td>0</td>\n",
              "      <td>['ratting', 'mafia', 'cohorts', 'giovanni', 'm...</td>\n",
              "      <td>Cluster_1</td>\n",
              "      <td>30000000</td>\n",
              "      <td>EuropaCorp</td>\n",
              "      <td>USA</td>\n",
              "      <td>Luc Besson</td>\n",
              "      <td>Comedy</td>\n",
              "      <td>36918811</td>\n",
              "      <td>R</td>\n",
              "      <td>13</td>\n",
              "      <td>9</td>\n",
              "      <td>2013</td>\n",
              "      <td>2013-09-13</td>\n",
              "      <td>111</td>\n",
              "      <td>6.3</td>\n",
              "      <td>Robert De Niro</td>\n",
              "      <td>95229</td>\n",
              "      <td>Luc Besson</td>\n",
              "      <td>2013</td>\n",
              "      <td>#TheFamily</td>\n",
              "      <td>the_family</td>\n",
              "      <td>28.0</td>\n",
              "      <td>41.0</td>\n",
              "      <td>after ratting out his mafia cohorts  giovanni ...</td>\n",
              "      <td>https://www.rottentomatoes.com/m/the_family_2013</td>\n",
              "      <td>1</td>\n",
              "      <td>1.0</td>\n",
              "      <td>2.0</td>\n",
              "      <td>0.9875</td>\n",
              "      <td>-0.9022</td>\n",
              "      <td>0.345277</td>\n",
              "      <td>Neutro</td>\n",
              "      <td>['family']</td>\n",
              "    </tr>\n",
              "  </tbody>\n",
              "</table>\n",
              "</div>"
            ],
            "text/plain": [
              "                         name  ...                        prueba\n",
              "4              Now You See Me  ...                       ['see']\n",
              "8   Blue Is the Warmest Color  ...  ['blue', 'warmest', 'color']\n",
              "32        Beautiful Creatures  ...    ['beautiful', 'creatures']\n",
              "36                    Elysium  ...                   ['elysium']\n",
              "39                 The Family  ...                    ['family']\n",
              "\n",
              "[5 rows x 38 columns]"
            ]
          },
          "metadata": {
            "tags": []
          },
          "execution_count": 128
        }
      ]
    },
    {
      "cell_type": "code",
      "metadata": {
        "id": "PAKdwYbQ4dMJ"
      },
      "source": [
        "text = df.synopsis.str.cat(sep=\" \")"
      ],
      "execution_count": 129,
      "outputs": []
    },
    {
      "cell_type": "code",
      "metadata": {
        "colab": {
          "base_uri": "https://localhost:8080/"
        },
        "id": "uqpl9grron52",
        "outputId": "9d767f0b-96d8-4075-cf00-0758458ceada"
      },
      "source": [
        "vocab = sorted(set(text))\n",
        "print(f'{len(vocab):,.0f} caracteres únicos')"
      ],
      "execution_count": 130,
      "outputs": [
        {
          "output_type": "stream",
          "text": [
            "39 caracteres únicos\n"
          ],
          "name": "stdout"
        }
      ]
    },
    {
      "cell_type": "code",
      "metadata": {
        "colab": {
          "base_uri": "https://localhost:8080/",
          "height": 104
        },
        "id": "Yd3qFcQqyDSy",
        "outputId": "669d3418-c58d-4e21-ec87-2b147d62f090"
      },
      "source": [
        "text"
      ],
      "execution_count": 131,
      "outputs": [
        {
          "output_type": "execute_result",
          "data": {
            "application/vnd.google.colaboratory.intrinsic+json": {
              "type": "string"
            },
            "text/plain": [
              "'charismatic magician atlas  jesse eisenberg  leads a team of talented illusionists called the four horsemen  atlas and his comrades mesmerize audiences with a pair of amazing magic shows that drain the bank accounts of the corrupt and funnel the money to audience members  a federal agent  mark ruffalo  and an interpol detective  m lanie laurent  intend to rein in the horsemen before their next caper  and they turn to thaddeus  morgan freeman  a famous debunker  for help a french teen  ad le exarchopoulos  forms a deep emotional and sexual connection with an older art student  l a seydoux  she met in a lesbian bar after being abused by her boyfriend  tony  iain glen  dorothy  susan lynch  leaves him  at a bus station  she sees petula  rachel weisz  being attacked by her boyfriend  brian  tom mannion  and knocks him out  the girls drag him to petula s apartment  where he dies  panicked  the pair fakes a kidnapping to get a ransom from brian s psychotic brother  ronnie  maurice ro ves  when corrupt inspector hepburn  alex norton  is sent to investigate  he forces the women to cut him in on their scheme Sin Datos after ratting out his mafia cohorts  giovanni manzioni  robert de niro  and his family enter the witness protection program and relocate to a french town  despite the best efforts of their handler  tommy lee jones  to keep them in line  giovanni  now called fred blake  his wife  michelle pfeiffer  and children  dianna agron  john d leo  can t help but resort to doing things the  family  way  however  their dependence on such old habits places everyone in danger from vengeful mobsters katie feldman  julianne hough  moves to a small town on the north carolina coast  determined to make a new life for herself  she takes a job as a waitress and keeps a low profile  but she is soon won over by the warmth and caring of the close knit community  especially that of widower alex  josh duhamel  with the help of alex and his children  katie learns to love and trust again   but when a mysterious stranger arrives and starts asking questions  katie s dark past threatens to reclaim her a terrible plague has left the planet s population divided between zombies and humans  an unusual zombie named r  nicholas hoult  sees his walking dead brethren attacking a living woman named julie  teresa palmer  and rescues her  julie sees that r is different from the other zombies  and the pair embark on an unusual relationship  as their bond grows and r becomes more and more human  a chain of events unfolds that could transform the entire lifeless world when shady circus magician oscar diggs  james franco  is hurled away from kansas into the wonderful land of oz  he thinks that fame and fortune are his for the taking  however  three witches   theodora  mila kunis  evanora  rachel weisz  and glinda  michelle williams    remain unconvinced that oscar is the great wizard that the inhabitants of oz need and expect  reluctantly drawn into oz s epic problems  oscar must find out who is good and who is evil before it s too late duncan  liam james  is an awkward teen who must spend the summer at a beach house with his mother  toni collette  her boyfriend  trent  steve carell  and trent s obnoxious daughter  trent can t resist badgering duncan  so the youth steals away to a water park and gets a job that will help him stay off trent s radar  as duncan tends to the slides and pools of the aging park  he finds a father figure in wisecracking park manager owen  sam rockwell  at a time when he desperately needs one veteran lawman roy pulsifer  jeff bridges  works for the r i p d  a legendary police force charged with finding monstrous spirits who are disguised as ordinary people but are trying to avoid their final judgment by hiding out among the living  when roy and his new partner  nick walker  ryan reynolds  uncover a plot that could end all life  they must discover a way to restore the cosmic balance or else watch the tunnel to the afterlife start sending angry souls back to the world of the living isabelle  marine vacth  a 17 year old student  loses her virginity during a quick holiday romance  when she returns home  she begins a secret life as a prostitute for a year the illegitimate  mixed race daughter  gugu mbatha raw  of a british admiral plays an important role in the campaign to abolish slavery in england in 1952  irish teenager philomena  judi dench  became pregnant out of wedlock and was sent to a convent  when her baby  anthony  was a toddler  the nuns took philomena s child away from her and put him up for adoption in the united states  for the next 50 years  she searched tirelessly for her son  when former bbc correspondent martin sixsmith  steve coogan  learns of the story  he becomes her ally  they travel together to america to find anthony and become unexpectedly close in the process his genius finally recognized by his idol chester v  inventor flint lockwood  bill hader  gets to join chester s company  where he can work full time on technologies to help mankind  however  flint soon discovers that his most famous machine  which turns water into food  is still operating but now creates animal vegetable hybrids  with the fate of humanity in flint s hands  he and his friends set out to save the world from tacodiles  shrimpanzees and other deliciously dangerous creatures the discovery of an illicit love affair leads two young angelenos on a violent  sexually charged tour through the dark side of human nature during the last two years of her life  princess diana  naomi watts  campaigns against the use of land mines and has a secret love affair with a pakistani heart surgeon  naveen andrews found footage reveals the events surrounding an investigative team s visit to a remote commune  led by a dangerous fanatic who maintains an iron grip on his followers a woman  kathryn hahn  takes her husband to a strip club to spice up their marriage  after she gets a private dance from a sexy blond dancer  juno temple  she invites the gal to work for her as a live in nanny a bookseller  woody allen  hires out his friend  john turturro  an unassuming florist  as a male escort for a pair of lonely women  sharon stone  vanessa paradis an explosive teenager runs into his equally violent father after being switched to an adult prison from a facility for juveniles the remarkable life of south african revolutionary  president and world icon nelson mandela  idris elba  takes center stage  though he had humble beginnings as a herd boy in a rural village  mandela became involved in the anti apartheid movement and co founded the african national congress youth league  his activities eventually led to his imprisonment on robben island from 1964 to 1990  in 1994  mandela became the first president of democratic south africa Sin Datos nearly 15 years after they were last together as a group  college friends lance  morris chestnut  harper  taye diggs  candace  regina hall  quentin  terrence howard  robyn  sanaa lathan  jordan  nia long  murch  harold perrineau  and mia  monica calhoun  finally reunite over the christmas holidays  though much has changed in their lives  the friends discover just how easy it is for long forgotten rivalries and passionate romances to be reignited in the 1930s  the grand budapest hotel is a popular european ski resort  presided over by concierge gustave h   ralph fiennes  zero  a junior lobby boy  becomes gustave s friend and protege  gustave prides himself on providing first class service to the hotel s guests  including satisfying the sexual needs of the many elderly women who stay there  when one of gustave s lovers dies mysteriously  gustave finds himself the recipient of a priceless painting and the chief suspect in her murder Sin Datos confident in his powers as spider man  peter parker  andrew garfield  embraces his new role as a hero and spends time with gwen stacy  emma stone  in between protecting new york from criminals  however  his greatest battle yet is about to begin  with the emergence of electro  jamie foxx  peter must confront an enemy far more powerful than he is  and when his old friend harry osborn  dane dehaan  returns  peter comes to realize that all his enemies have one thing in common  oscorp robotics prodigy hiro  ryan potter  lives in the city of san fransokyo  next to his older brother  tadashi  hiro s closest companion is baymax  scott adsit  a robot whose sole purpose is to take care of people  when a devastating turn of events throws hiro into the middle of a dangerous plot  he transforms baymax and his other friends  go go tamago  jamie chung  wasabi  damon wayans jr  honey lemon  genesis rodriguez  and fred  t j  miller  into a band of high tech heroes recently divorced mom lauren  drew barrymore  and widowed dad jim  adam sandler  let their friends push them into a blind date  which goes disastrously wrong  unsurprisingly  neither wants to see the other ever again  however  fate intervenes when both jim and lauren  unbeknown to each other  purchase one half of the same vacation package at a south african resort  they and their children are forced to share the same suite and participate in a slew of family activities together amanda  michelle monaghan  and dawson  james marsden  were once high school sweethearts  they have a bittersweet reunion when they return to their hometown for the funeral of a mutual  beloved friend  seeing each other again after 20 years apart reignites the love they ve never forgotten  but amanda and dawson soon discover that the forces that drove them apart when they were younger pose even more threats today  based on the novel by nicholas sparks the joys and pitfalls of growing up are seen through the eyes of a child named mason  ellar coltrane  his parents  patricia arquette  ethan hawke  and his sister  lorelei linklater  vignettes  filmed with the same cast over the course of 12 years  capture family meals  road trips  birthday parties  graduations and other important milestones  songs from coldplay  arcade fire and other artists capture the time period  directed by richard linklater in a california beach community  private detective larry  doc  sportello  joaquin phoenix  tends to work his cases through a smoky haze of marijuana  one day  shasta  a former lover  arrives out of the blue to plead for doc s help  it seems that shasta s current beau  rich real estate tycoon mickey wolfmann  has a wife who may be plotting to commit him to a mental hospital  when mickey and shasta both disappear  doc navigates a psychedelic world of surfers  stoners and cops to solve the case a string of mysterious deaths leads a teenager to become suspicious of a soldier  dan stevens  who showed up on her family s doorstep and claimed to be a friend of her dead brother one night per year  the government sanctions a 12 hour period in which citizens can commit any crime they wish   including murder   without fear of punishment or imprisonment  leo  a sergeant who lost his son  plans a vigilante mission of revenge during the mayhem  however  instead of a death dealing avenger  he becomes the unexpected protector of four innocent strangers who desperately need his help if they are to survive the night ever since a vicious attack nearly claimed her life  christine lucas  nicole kidman  has suffered from anterograde amnesia and is unable to form new memories  every morning  she becomes reacquainted with her husband  ben  colin firth  and the other constants in her life  in accordance with her doctor s  mark strong  instructions  christine keeps a video diary  as christine starts to uncover terrifying truths about her past  she begins to question everything   and everyone   around her parental disapproval of two teenage lovers  brooke shields  martin hewitt  causes a confusion of arson  death and insanity in the 1920s  magician stanley crawford  colin firth  enjoys widespread acclaim as chinese conjurer wei ling soo  his stage persona  as arrogant as he is talented  stanley despises claims by phony spiritualists that they can perform real magic  at the behest of his friend  stanley travels to the c te d azur mansion of the catledge family to expose a young medium named sophie  emma stone  however  stanley is left surprised and shaken by evidence that sophie s gifts may be real hassan kadam  manish dayal  is an extraordinarily talented and largely self taught culinary novice  when he and his family are displaced from their native india and settle in a quaint french village  they decide to open an indian eatery  however  madame mallory  helen mirren  the proprietress of an acclaimed restaurant just 100 feet away  strongly objects  war erupts between the two establishments  until mallory recognizes kadam s impressive epicurean gifts and takes him under her wing matt scudder  liam neeson  formerly part of the nypd  now works as an unlicensed private detective  his latest client is a drug trafficker  dan stevens  whose wife was kidnapped and brutally murdered  and as scudder delves deeper  he finds that the crime s sequence is the modus operandi of the perpetrators  before they can strike again and destroy other lives  scudder races through the back streets of new york to catch the killers  blurring the lines between lawful and criminal as he goes struggling to build relationships with others  a teenage math prodigy  asa butterfield  develops a budding friendship with a young girl  jo yang  while competing at the international mathematics olympiad two centuries after dr  frankenstein assembles and reanimates his creature  adam  aaron eckhart  is still living  he becomes embroiled in a war between two immortal races  gargoyles  the traditional protectors of mankind  and evil demons  since adam is neither human nor demon  gargoyle queen leonore  miranda otto  and demon prince naberius  bill nighy  each want him for their own purposes  it is up to adam to discover his inner humanity and the reason for his continued existence american chess legend bobby fischer  tobey maguire  and soviet grandmaster boris spassky  liev schreiber  enthrall the world with their intense battle of wills and strategy during the 1972 world chess championship a young heroin addict  arielle holmes  roams the streets of new york to panhandle and get her next fix  while her unstable boyfriend  caleb landry jones  drifts in and out of her life at random in the late 1960s  the beach boys  brian wilson stops touring  produces  pet sounds  and begins to lose his grip on reality  by the 1980s  wilson  john cusack  under the sway of a controlling therapist  finds a savior in melinda ledbetter a couple  mark duplass  elisabeth moss  whose marriage is crumbling have a surreal experience during a weekend getaway at a house recommended by their therapist  ted danson when a young surfer  josh hutcherson  begins a relationship with the niece of drug kingpin pablo escobar  benicio del toro  he finds his life on the line after being pulled into the dangerous world of the escobar family business in the 1960s  four scrappy young men from new jersey   frankie valli  john lloyd young  bob gaudio  erich bergen  nick massi  michael lomenda  and tommy devito  vincent piazza    have the magic sound that propels them from singing under streetlights to singing in spotlights  with songs like  sherry   big girls don t cry  and  walk like a man  the quartet finds itself at the top of the charts  however  personal and professional problems threaten to tear the group apart aidan bloom  zach braff  a struggling actor  lives in los angeles with his wife  kate hudson  and two children  grace and tucker  up until now  aidan s father  gabe  mandy patinkin  has been paying for the children s schooling  but he is now gravely ill  thus  aidan attempts to home school his offspring  as his chaotic curriculum leads to some surprising self discoveries for his family  aidan must reassess his career  his relationships and his faith when 28 year old megan  keira knightley  attends her 10 year high school reunion  she realizes that very little in her life has changed  an unexpected marriage proposal from her boyfriend sparks a panic in megan  causing her to wander off into the night  she meets 16 year old annika  chlo  grace moretz  who is with friends and proceeds to get drunk with the teens  deciding she needs a break from her unfulfilling life  she tells her boyfriend she s going to a seminar but hangs with annika though she s been groomed for stardom all her life by an overbearing mother  minnie driver  singer noni  gugu mbatha raw  is having trouble dealing with her success  feeling unable to cope any longer  noni tries to kill herself  but luckily kaz  nate parker  the police officer assigned to be her bodyguard  thwarts her suicide attempt  noni and kaz feel an instant attraction  but those in their orbit oppose the romance for fear the pair will stray from the course planned out for both of them though he began in stand up comedy  andre allen  chris rock  hit the big time as the star of a trilogy of action comedies about a talking bear  andre is forced to spend the day with chelsea  rosario dawson  a profile writer for the new york times  whose film critic has just panned andre s passion project about the haitian revolution  unexpectedly  andre opens up to chelsea  and as they wind their way across new york  andre tries to get back in touch with his comedic roots Sin Datos small town businessman  pastor and volunteer firefighter todd burpo  greg kinnear  and his wife  sonja  kelly reilly  are struggling to make ends meet during a tough year  after their young son  colton  connor corum  undergoes emergency surgery  todd and sonja are overjoyed at the child s miraculous recovery  however  the burpos are unprepared for what happens next   colton says that he went to heaven and back  and tells his parents things that he couldn t possibly know a pharmacist s uneventful life spirals out of control when he has an affair with a trophy wife who enjoys sex  drugs and murder in 2001  editor marty baron of the boston globe assigns a team of journalists to investigate allegations against john geoghan  an unfrocked priest accused of molesting more than 80 boys  led by editor walter  robby  robinson  michael keaton  reporters michael rezendes  mark ruffalo  matt carroll and sacha pfeiffer interview victims and try to unseal sensitive documents  the reporters make it their mission to provide proof of a cover up of sexual abuse within the roman catholic church it s been three years since the barden bellas  anna kendrick  rebel wilson  became the first all female group to win a national title  all seems well until a botched lincoln center performance for the president leads to a scandal that strips them of their performing duties  causing internal tension and strife  with the world championships on the horizon in copenhagen  denmark  the women must get their act together for their one and only shot at redemption Sin Datos while attending a dinner party at his former house  a man  logan marshall green  starts to believe that his ex wife  tammy blanchard  and her new husband  michiel huisman  have sinister plans for the guests frumpy high school senior bianca  mae whitman  has a rude awakening when she learns that her classmates secretly know her as the duff   designated ugly fat friend   to her prettier and more popular pals  desperate to reinvent herself  bianca enlists the aid of wesley  robbie amell  a charming jock  in order to save her senior year from becoming a complete disaster  bianca must find the confidence to overthrow a judgmental student  bella thorne  and revolutionize the school s social order when married couple simon  jason bateman  and robyn  rebecca hall  unexpectedly encounter gordo  joel edgerton  an acquaintance from simon s past  little do they know that their perfect lives will be thrown into a terrifying tailspin  at first  simon doesn t recognize gordo  but after a troubling series of uninvited encounters and mysterious gifts  a horrifying secret emerges  as robyn learns what really happened between simon and gordo  she begins to question how well she knows her spouse scientist reed richards  ioan gruffudd  persuades his arrogant former classmate  victor von doom  julian mcmahon  to fund his experiments with cosmic energy  on von doom s space station  the crew   including astronaut ben grimm  michael chiklis  researcher sue storm  jessica alba  and pilot johnny storm  chris evans    are exposed to a mysterious cosmic storm that bestows super powers upon them  as they cope with their transformations  von doom vows his revenge in 1820  crewmen  chris hemsworth  benjamin walker  cillian murphy  aboard the new england vessel essex face a harrowing battle for survival when a whale of mammoth size and strength attacks with force  crippling their ship and leaving them adrift in the ocean  pushed to their limits and facing storms  starvation  panic and despair  the survivors must resort to the unthinkable to stay alive  their incredible tale ultimately inspires author herman melville to write  moby dick Sin Datos in 1970s san francisco  a precocious 15 year old  bel powley  embarks on an enthusiastic sexual odyssey  beginning with her mother s current lover  alexander skarsg rd Sin Datos a los angeles screenwriter  christian bale  indulges his wild side with a stripper  teresa palmer  a model  freida pinto  and a married woman  natalie portman luckily for young arlo  his parents  jeffrey wright  frances mcdormand  and his two siblings  the mighty dinosaurs were not wiped out 65 million years ago  when a rainstorm washes poor arlo  raymond ochoa  downriver  he ends up bruised  battered and miles away from home  good fortune shines on the frightened dino when he meets spot  jack bright  a neanderthal boy who offers his help and friendship  together  the unlikely duo embark on an epic adventure to reunite arlo with his beloved family as a boy  philippe petit dreams of performing daring feats for dazzled crowds  as an adult  joseph gordon levitt  his life s ambition comes true when he becomes a high wire artist who stares death in the face with every step  under the guidance of mentor papa rudy  the french daredevil devises a plan to walk on a tightrope attached to the north and south towers of the world trade center  with help from his team and against all odds  petit attempts the seemingly impossible stunt on aug  7  1974 new york times journalist michael finkel  jonah hill  loses his job when it s revealed that he was not entirely truthful in a cover story he wrote on contemporary slave trading in africa  his world collapses even further when he learns he s a victim of identity theft  a man named christian longo  james franco  assumed finkel s name and stood accused of murdering his own family  seeing a way to rebuild his shattered reputation  finkel meets with longo to hear his story socially awkward doug harris  josh gad  is two weeks from marrying the gal  kaley cuoco sweeting  of his dreams  but he has a problem  he doesn t have any groomsmen for the occasion  desperate and running out of time  doug calls upon jimmy callahan  kevin hart  owner and operator of best man inc  a company that provides attendants for friendless grooms  as doug tries to pull off the con  a bromance unexpectedly blossoms between jimmy and himself young cole carter  zac efron  dreams of hitting the big time as a hollywood disc jockey  spending his days and nights hanging with buddies and working on the one track that will set the world on fire  opportunity comes knocking when he meets james reed  a charismatic dj who takes the 23 year old under his wing  soon  his seemingly clear path to success gets complicated when he starts falling for his mentor s girlfriend  jeopardizing his new friendship and the future he seems destined to fulfill when their parents decide to sell their home  siblings maura  amy poehler  and kate  tina fey  learn that they have one weekend to clean out the junk from their old bedroom  unhappy with the news  the recently divorced maura and her hotheaded sister make plans to throw one final bash to recapture their glory days with their former classmates  as the raging party begins to spiral out of control  the gals soon realize that there may not be a house left once the dust settles Sin Datos charismatic british aristocrat and part time shady art dealer charlie mortdecai  johnny depp  suffers from a constant lack of funds to support his lush lifestyle  so when alistair maitland  ewan mcgregor  a college friend and officer in mi5  asks him to find a stolen goya painting  he accepts  but charlie s not the only one with designs on the painting  an american heiress and a revolutionary want it too  for the artwork is rumored to contain the code to a bank account filled with nazi gold the aviator introduces a girl to a world where she rediscovers her childhood and learns that it s human connections that matter most  and that it is only with heart that one can see rightly  what is essential is invisible to the eye travel writer bill bryson  robert redford  takes a long lost old friend  nick nolte  for a hike along the appalachian trail  which stretches more than 2 000 miles from georgia to maine in early 20th century britain  the growing suffragette movement forever changes the life of working wife and mother maud watts  carey mulligan  galvanized by political activist emmeline pankhurst  meryl streep  watts joins a diverse group of women who fight for equality and the right to vote  faced with increasing police action  maud and her dedicated suffragettes must play a dangerous game of cat and mouse  risking their jobs  homes  family and lives for a just cause track coach jim white  kevin costner  is a newcomer to a predominantly latino high school in california s central valley  coach white and his new students find that they have much to learn about one another  but things begin to change when white realizes the boys  exceptional running ability  more than just physical prowess drives the teens to succeed  their strong family ties  incredible work ethic and commitment to their team all play a factor in forging these novice runners into champions tensions rise at a thanksgiving gathering when a troubled woman  krisha fairchild  reunites with the extended family that she abandoned years earlier for their annual christmas eve celebration  sam cooper  john goodman  and his wife charlotte  diane keaton  welcome four generations of extended family  including son hank  ed helms  daughter eleanor  olivia wilde  and charlotte s father  bucky  alan arkin  sam and charlotte are separating after 40 years of marriage  while hank is in the middle of a divorce  as the guests reveal their respective problems  they also rediscover the importance of kinship and the spirit of the holiday life always seems complicated for good ol  charlie brown  noah schnapp  the boy who always tries his best against seemingly impossible odds  when the little red haired girl moves into his neighborhood  charlie brown develops a crush on her  meanwhile  his best friend snoopy embarks on an epic adventure in a fantasy world  as a world war i flying ace  the lovable beagle pursues his nemesis  the red baron  while also trying to win the heart of a beautiful poodle named fifi  kristin chenoweth Sin Datos with a fulfilling career and a loving relationship  lobbyist leah vaughn  sanaa lathan  seems to have it all  things come crashing down when dave  her long term boyfriend  questions her future plans for marriage and a family  the resulting breakup leaves leah heartbroken  until she meets the charming and handsome carter duncan  michael ealy  soon  the budding romance turns dangerous as carter reveals his volatile nature  forcing leah to turn the tables on the man she thought was mr  right convinced that his newfound friend  ryan reynolds  is a good luck charm  a gambling addict  ben mendelsohn  takes the man on a road trip to a high stakes poker game in new orleans as his marriage to sunaina draws near  sonny sets his eye on opening a second residence for the elderly  but finds the project requires more time than he can spare  meanwhile  evelyn and douglas wonder where their relationship is going  norman and carol try to remain exclusive  madge juggles two rich suitors  and the single remaining vacancy poses a problem for two new arrivals  as the demands of sonny s traditional indian wedding threaten to overwhelm them all  an unexpected solution appears pronounced dead by rescue workers after a car accident  texas pastor don piper  hayden christensen  believes that he visited heaven before springing back to life 90 minutes later the year is 1926  and newt scamander  eddie redmayne  has just completed a global excursion to find and document an extraordinary array of magical creatures  arriving in new york for a brief stopover  he might have come and gone without incident  were it not for a no maj  american for muggle  named jacob  a misplaced magical case  and the escape of some of newt s fantastic beasts  which could spell trouble for both the wizarding and no maj worlds filmmaker robert j  flaherty spends a year living in a village in samoa documenting the life of the villagers looking to mine for gold  greedy industrialist bartholomew bogue seizes control of the old west town of rose creek  with their lives in jeopardy  emma cullen and other desperate residents turn to bounty hunter sam chisolm  denzel washington  for help  chisolm recruits an eclectic group of gunslingers to take on bogue and his ruthless henchmen  with a deadly showdown on the horizon  the seven mercenaries soon find themselves fighting for more than just money once the bullets start to fly it s been nearly two years since superman s  henry cavill  colossal battle with zod  michael shannon  devastated the city of metropolis  the loss of life and collateral damage left many feeling angry and helpless  including crime fighting billionaire bruce wayne  ben affleck  convinced that superman is now a threat to humanity  batman embarks on a personal vendetta to end his reign on earth  while the conniving lex luthor  jesse eisenberg  launches his own crusade against the man of steel it s been nearly a decade since tarzan  alexander skarsg rd  also known as john clayton iii  left africa to live in victorian england with his wife jane  danger lurks on the horizon as leon rom  christoph waltz  a treacherous envoy for king leopold  devises a scheme that lures the couple to the congo  rom plans to capture tarzan and deliver him to an old enemy in exchange for diamonds  when jane becomes a pawn in his devious plot  tarzan must return to the jungle to save the woman he loves holland march  ryan gosling  is a down on his luck private eye in 1977 los angeles  jackson healy  russell crowe  is a hired enforcer who hurts people for a living  fate turns them into unlikely partners after a young woman named amelia  margaret qualley  mysteriously disappears  healy and march soon learn the hard way that some dangerous people are also looking for amelia  their investigation takes them to dark places as anyone else who gets involved in the case seems to wind up dead a wall street stockbroker  dane dehaan  travels to a remote location in the swiss alps to retrieve his company s ceo  harry groener  from an idyllic but mysterious wellness center  he soon suspects that the miraculous treatments are not what they seem  his sanity is tested when he unravels the spa s terrifying secrets and finds himself diagnosed with the same curious illness that keeps all of the guests there longing for a cure when a mercenary warrior  matt damon  is imprisoned within the great wall  he discovers the mystery behind one of the greatest wonders of the world  as wave after wave of marauding beasts besiege the massive structure  his quest for fortune turns into a journey toward heroism as he joins a huge army of elite warriors to confront the unimaginable and seemingly unstoppable force the survival of mankind hangs in the balance when set  gerard butler  the merciless god of darkness  usurps egypt s throne and plunges the prosperous empire into chaos and conflict  hoping to save the world and rescue his true love  a defiant mortal named bek  brenton thwaites  forms an unlikely alliance with the powerful god horus  nikolaj coster waldau  their battle against set and his henchmen takes them into the afterlife and across the heavens for an epic confrontation life is good for all the food items that occupy the shelves at the local supermarket  frank  seth rogen  the sausage  brenda  kristen wiig  the hot dog bun  teresa taco and sammy bagel jr   edward norton  can t wait to go home with a happy customer  soon  their world comes crashing down as poor frank learns the horrifying truth that he will eventually become a meal  after warning his pals about their similar fate  the panicked perishables devise a plan to escape from their human enemies when a successful new york advertising executive  will smith  suffers a great tragedy  he retreats from life  while his concerned friends try desperately to reconnect with him  he seeks answers from the universe by writing letters to love  time and death  when his notes bring unexpected personal responses  he begins to understand how these constants interlock in a life fully lived and how even the deepest loss can reveal moments of meaning and beauty ben cash  viggo mortensen  his wife leslie and their six children live deep in the wilderness of washington state  isolated from society  ben and leslie devote their existence to raising their kids   educating them to think critically  training them to be physically fit and athletic  guiding them in the wild without technology and demonstrating the beauty of co existing with nature  when leslie dies suddenly  ben must take his sheltered offspring into the outside world for the first time bullied as a teen for being overweight  bob stone  dwayne johnson  shows up to his high school reunion looking fit and muscular  while there  he finds calvin joyner  kevin hart  a fast talking accountant who misses his glory days as a popular athlete  stone is now a lethal cia agent who needs calvin s number skills to help him save the compromised u s  spy satellite system  together  the former classmates encounter shootouts  espionage and double crosses while trying to prevent worldwide chaos a young american in paris works as a personal shopper for a celebrity  she seems to have the ability to communicate with spirits  like her recently deceased twin brother  soon  she starts to receive ambiguous messages from an unknown source life is good for mac radner  seth rogen  and pregnant wife kelly  rose byrne  until the unruly sisters of kappa nu move in next door  as the loud parties threaten the sale of their home  the couple turn to ex neighbor and one time enemy teddy sanders  zac efron  for help  now united with the former college student  the trio devises schemes to get the wild sorority off the block  unfortunately  the rebellious young women refuse to go down without a fight in the early 1950s  eddie mannix is busy at work trying to solve all the problems of the actors and filmmakers at capitol pictures  his latest assignments involve a disgruntled director  a singing cowboy  a beautiful swimmer and a handsome dancer  as if all this wasn t enough  mannix faces his biggest challenge when baird whitlock gets kidnapped while in costume for the swords and sandals epic  hail  caesar  if the studio doesn t pay  100 000  it s the end of the line for the movie star looking for an exciting career  young bobby dorfman leaves new york for the glitz and glamour of 1930s hollywood  after landing a job with his uncle  bobby falls for vonnie  a charming woman who happens to be his employer s mistress  settling for friendship but ultimately heartbroken  bobby returns to the bronx and begins working in a nightclub  everything falls into place when he finds romance with a beautiful socialite  until vonnie walks back into his life and captures his heart once again the government and a group of religious extremists pursue a man  michael shannon  and his son  jaeden lieberher  a young boy who possesses special powers when the ceo  jennifer aniston  tries to close her hard partying brother s  t j  miller  branch  he and his chief technical officer  jason bateman  must rally their co workers and host an epic office christmas party in an effort to impress a potential client and close a sale that will save their jobs Sin Datos on feb  18  1952  a massive storm splits the ss pendleton in two  trapping more than 30 sailors inside the tanker s sinking stern  engineer ray sybert bravely takes charge to organize a strategy for his fellow survivors  as word of the disaster reaches the coast guard in chatham  mass  chief warrant officer daniel cluff orders a daring rescue mission  despite the ferocious weather  coxswain bernie webber takes three men on a lifeboat to try and save the crew against seemingly impossible odds a call center employee struggles to rise through the ranks of the stand up comedy circuit in 1863  mississippi farmer newt knight serves as a medic for the confederate army  opposed to slavery  knight would rather help the wounded than fight the union  after his nephew dies in battle  newt returns home to jones county to safeguard his family but is soon branded an outlaw deserter  forced to flee  he finds refuge with a group of runaway slaves hiding out in the swamps  forging an alliance with the slaves and other farmers  knight leads a rebellion that would forever change history sandy  jennifer aniston  is a stressed out  single mom who learns that her ex husband is marrying a younger woman  her friend jesse  kate hudson  is a fitness freak who doesn t tell her parents that she has a family  bradley is a widower  jason sudeikis  who s trying to raise two daughters on his own  while miranda  julia roberts  is too busy with her career to worry about having children  when their respective problems start coming to a head  the mother s day holiday takes on a special meaning interracial couple richard and mildred loving fell in love and were married in 1958  they grew up in central point  a small town in virginia that was more integrated than surrounding areas in the american south  yet it was the state of virginia  where they were making their home and starting a family  that first jailed and then banished them  richard and mildred relocated with their children to the inner city of washington  d c  but the family ultimately tries to find a way back to virginia a stray ginger cat changes the life of james bowen  luke treadaway  a homeless london street musician and recovering drug addict anna beam  kylie rogers  lives with a rare  incurable disorder that leaves her unable to digest food  despite the dire diagnosis  devoted mom christy  jennifer garner  relentlessly searches for a way to save her beloved daughter  everything changes in an instant when anna tells an amazing story of a visit to heaven after surviving a headlong tumble into a tree  her family and doctors become even more baffled when the young girl begins to show signs of recovering from her fatal condition Sin Datos peter taylor  kevin bacon  his wife bronny and their two children return to los angeles after a fun filled vacation to the grand canyon  strange events soon start to plague the family  including young son michael s increasingly erratic behavior  the taylors learn that michael brought back some mysterious rocks that he discovered inside a cave  unfortunately  something followed them home as the clan now find themselves in a battle with a supernatural force that preys on their worst fears elaine  samantha robinson  a beautiful young witch  is determined to find a man to love her  in her gothic victorian apartment she makes spells and potions  then picks up men and seduces them  however  her spells work too well  and she ends up with a string of hapless victims  when she at last meets the man of her dreams  her desperation to be loved drives her to the brink of insanity and murder publicist edina monsoon and best friend patsy stone are still shopping  drinking and clubbing their way around london s trendiest hot spots  while attending an elite party  they wind up knocking supermodel kate moss into the river thames  her untimely demise creates a media firestorm  leading the paparazzi to relentlessly pursue the hapless duo  seeking refuge  the gals flee to the french riviera where they hatch a plan to make their escape permanent and live the high life forever francisca  kika magalhaes  has been unfazed by death from an early age because her mother  formerly a surgeon in portugal  imbued her with a thorough understanding of the human anatomy  when tragedy shatters her family s idyllic life in the countryside  her deep trauma gradually awakens some unique curiosities  as she grows up  her desire to connect with the world around her takes a distinctly dark form'"
            ]
          },
          "metadata": {
            "tags": []
          },
          "execution_count": 131
        }
      ]
    },
    {
      "cell_type": "code",
      "metadata": {
        "id": "8TlbSYXSyMss"
      },
      "source": [
        "char2idx = {u:i for i, u in enumerate(vocab)}\n",
        "idx2char = np.array(vocab)"
      ],
      "execution_count": 132,
      "outputs": []
    },
    {
      "cell_type": "code",
      "metadata": {
        "id": "Pbkk-ovtqdeA"
      },
      "source": [
        "# Length of the vocabulary in chars\n",
        "vocab_size = len(vocab)\n",
        "\n",
        "# The embedding dimension\n",
        "embedding_dim = 64\n",
        "\n",
        "# Number of RNN units\n",
        "rnn_units = 512"
      ],
      "execution_count": 134,
      "outputs": []
    },
    {
      "cell_type": "code",
      "metadata": {
        "id": "oLq_ZBkAq7SB"
      },
      "source": [
        "def split_input_target(chunk):\n",
        "    input_text = chunk[:-1]\n",
        "    target_text = chunk[1:]\n",
        "    return input_text, target_text"
      ],
      "execution_count": 135,
      "outputs": []
    },
    {
      "cell_type": "code",
      "metadata": {
        "id": "YHu5iQcCrRAL"
      },
      "source": [
        "text_as_int = np.array([char2idx[c] for c in text])"
      ],
      "execution_count": 136,
      "outputs": []
    },
    {
      "cell_type": "code",
      "metadata": {
        "id": "Wutze6msrZCo"
      },
      "source": [
        "seq_length = 100\n",
        "examples_per_epoch = len(text)//(seq_length+1) # división entera"
      ],
      "execution_count": 137,
      "outputs": []
    },
    {
      "cell_type": "code",
      "metadata": {
        "id": "jnDA2E95rMy1"
      },
      "source": [
        "char_dataset = tf.data.Dataset.from_tensor_slices(text_as_int)\n",
        "sequences = char_dataset.batch(seq_length+1, drop_remainder=True)"
      ],
      "execution_count": 138,
      "outputs": []
    },
    {
      "cell_type": "code",
      "metadata": {
        "id": "sDdOEEHAq7WQ"
      },
      "source": [
        "dataset = sequences.map(split_input_target)"
      ],
      "execution_count": 139,
      "outputs": []
    },
    {
      "cell_type": "code",
      "metadata": {
        "id": "RDU_Qe7Eqdh6"
      },
      "source": [
        "def build_model(vocab_size, embedding_dim, rnn_units, batch_size):\n",
        "    model = tf.keras.Sequential([\n",
        "    tf.keras.layers.Embedding(vocab_size, embedding_dim,\n",
        "                              batch_input_shape=[batch_size, None]),\n",
        "    tf.keras.layers.GRU(rnn_units,\n",
        "                        return_sequences=True,\n",
        "                        stateful=True,\n",
        "                        recurrent_initializer='glorot_uniform'),\n",
        "    tf.keras.layers.GRU(rnn_units,\n",
        "                        return_sequences=True,\n",
        "                        stateful=True,\n",
        "                        recurrent_initializer='glorot_uniform'),\n",
        "    tf.keras.layers.Dense(vocab_size)\n",
        "  ])\n",
        "    return model"
      ],
      "execution_count": 140,
      "outputs": []
    },
    {
      "cell_type": "code",
      "metadata": {
        "colab": {
          "base_uri": "https://localhost:8080/"
        },
        "id": "fvzhD4giqxa9",
        "outputId": "253fe445-1653-47a9-852e-dd9e7c18767b"
      },
      "source": [
        "BATCH_SIZE = 256\n",
        "\n",
        "BUFFER_SIZE = 10000\n",
        "\n",
        "dataset = dataset.shuffle(BUFFER_SIZE).batch(BATCH_SIZE, drop_remainder=True)\n",
        "\n",
        "dataset"
      ],
      "execution_count": 141,
      "outputs": [
        {
          "output_type": "execute_result",
          "data": {
            "text/plain": [
              "<BatchDataset shapes: ((256, 100), (256, 100)), types: (tf.int64, tf.int64)>"
            ]
          },
          "metadata": {
            "tags": []
          },
          "execution_count": 141
        }
      ]
    },
    {
      "cell_type": "code",
      "metadata": {
        "colab": {
          "base_uri": "https://localhost:8080/"
        },
        "id": "ZIgVBdEkqdmO",
        "outputId": "c04eed52-acf3-4dd1-f12a-0adcb3d65e55"
      },
      "source": [
        "model = build_model(\n",
        "    vocab_size = len(vocab),\n",
        "    embedding_dim=embedding_dim,\n",
        "    rnn_units=rnn_units,\n",
        "    batch_size=BATCH_SIZE)\n",
        "model.summary()"
      ],
      "execution_count": 142,
      "outputs": [
        {
          "output_type": "stream",
          "text": [
            "Model: \"sequential_7\"\n",
            "_________________________________________________________________\n",
            "Layer (type)                 Output Shape              Param #   \n",
            "=================================================================\n",
            "embedding_7 (Embedding)      (256, None, 64)           2496      \n",
            "_________________________________________________________________\n",
            "gru_14 (GRU)                 (256, None, 512)          887808    \n",
            "_________________________________________________________________\n",
            "gru_15 (GRU)                 (256, None, 512)          1575936   \n",
            "_________________________________________________________________\n",
            "dense_7 (Dense)              (256, None, 39)           20007     \n",
            "=================================================================\n",
            "Total params: 2,486,247\n",
            "Trainable params: 2,486,247\n",
            "Non-trainable params: 0\n",
            "_________________________________________________________________\n"
          ],
          "name": "stdout"
        }
      ]
    },
    {
      "cell_type": "code",
      "metadata": {
        "colab": {
          "base_uri": "https://localhost:8080/"
        },
        "id": "qt_fN-DcXlPj",
        "outputId": "bca44671-88a2-46c6-f85b-8a03eeb029d4"
      },
      "source": [
        "dataset.take(1)"
      ],
      "execution_count": 143,
      "outputs": [
        {
          "output_type": "execute_result",
          "data": {
            "text/plain": [
              "<TakeDataset shapes: ((256, 100), (256, 100)), types: (tf.int64, tf.int64)>"
            ]
          },
          "metadata": {
            "tags": []
          },
          "execution_count": 143
        }
      ]
    },
    {
      "cell_type": "code",
      "metadata": {
        "colab": {
          "base_uri": "https://localhost:8080/"
        },
        "id": "4ZDG1haeqdrx",
        "outputId": "b137ef66-d04a-4805-b6a1-d77482675b74"
      },
      "source": [
        "for input_example_batch, target_example_batch in dataset.take(1):\n",
        "    print(\"entrando\")\n",
        "    example_batch_predictions = model(input_example_batch)\n",
        "    print(example_batch_predictions.shape, \"# (batch_size, sequence_length, vocab_size)\")"
      ],
      "execution_count": 144,
      "outputs": [
        {
          "output_type": "stream",
          "text": [
            "entrando\n",
            "(256, 100, 39) # (batch_size, sequence_length, vocab_size)\n"
          ],
          "name": "stdout"
        }
      ]
    },
    {
      "cell_type": "code",
      "metadata": {
        "colab": {
          "base_uri": "https://localhost:8080/"
        },
        "id": "vF3i3Npdqdzs",
        "outputId": "00c35ecf-e018-437a-8b4f-3f256cc502c6"
      },
      "source": [
        "model.summary()"
      ],
      "execution_count": 87,
      "outputs": [
        {
          "output_type": "stream",
          "text": [
            "Model: \"sequential_4\"\n",
            "_________________________________________________________________\n",
            "Layer (type)                 Output Shape              Param #   \n",
            "=================================================================\n",
            "embedding_4 (Embedding)      (256, None, 64)           2496      \n",
            "_________________________________________________________________\n",
            "gru_8 (GRU)                  (256, None, 512)          887808    \n",
            "_________________________________________________________________\n",
            "gru_9 (GRU)                  (256, None, 512)          1575936   \n",
            "_________________________________________________________________\n",
            "dense_4 (Dense)              (256, None, 39)           20007     \n",
            "=================================================================\n",
            "Total params: 2,486,247\n",
            "Trainable params: 2,486,247\n",
            "Non-trainable params: 0\n",
            "_________________________________________________________________\n"
          ],
          "name": "stdout"
        }
      ]
    },
    {
      "cell_type": "code",
      "metadata": {
        "id": "JodcXA55qd8F"
      },
      "source": [
        "sampled_indices = tf.random.categorical(example_batch_predictions[0], num_samples=1)\n",
        "sampled_indices = tf.squeeze(sampled_indices,axis=-1).numpy()"
      ],
      "execution_count": 145,
      "outputs": []
    },
    {
      "cell_type": "code",
      "metadata": {
        "colab": {
          "base_uri": "https://localhost:8080/"
        },
        "id": "B2UsrFwWqd5e",
        "outputId": "de9839e6-8d8c-4845-eec0-3e19d046cba8"
      },
      "source": [
        "sampled_indices"
      ],
      "execution_count": 147,
      "outputs": [
        {
          "output_type": "execute_result",
          "data": {
            "text/plain": [
              "array([36, 29,  8, 27,  5, 38, 12,  0, 37, 38,  6, 27, 19, 15,  6, 21, 17,\n",
              "       33, 11, 36,  0, 22, 22,  3,  9, 26, 38, 30, 29,  3, 27, 33, 25,  7,\n",
              "       36, 12, 34, 11, 13, 17, 29, 38, 29, 17,  4, 18, 10,  6, 15,  4, 15,\n",
              "       36, 19,  0,  1,  4,  2, 22, 31, 25, 25, 30, 23,  8, 29, 33, 20, 37,\n",
              "        2, 12,  1, 20,  4, 30, 36, 15, 36, 28, 38, 24, 36, 19, 15, 21,  6,\n",
              "       18, 16, 26, 11,  8, 26,  3,  4, 38, 11, 29, 10, 31, 38, 22])"
            ]
          },
          "metadata": {
            "tags": []
          },
          "execution_count": 147
        }
      ]
    },
    {
      "cell_type": "code",
      "metadata": {
        "colab": {
          "base_uri": "https://localhost:8080/"
        },
        "id": "AgItwrzRqd38",
        "outputId": "69623d5d-8ec3-41d4-b7c2-be634279ed02"
      },
      "source": [
        "print(\"Input: \\n\", repr(\"\".join(idx2char[input_example_batch[0]])))\n",
        "print()\n",
        "print(\"Next Char Predictions: \\n\", repr(\"\".join(idx2char[sampled_indices ])))"
      ],
      "execution_count": 149,
      "outputs": [
        {
          "output_type": "stream",
          "text": [
            "Input: \n",
            " 'nds his life on the line after being pulled into the dangerous world of the escobar family business '\n",
            "\n",
            "Next Char Predictions: \n",
            " 'xq7o4zS yz5ogc5ieuDx jj28nzrq2oum6xSvDaeqzqe3f95c3cxg 031jsmmrk7quhy1S0h3rxcxpzlxgci5fdnD7n23zDq9szj'\n"
          ],
          "name": "stdout"
        }
      ]
    },
    {
      "cell_type": "code",
      "metadata": {
        "id": "hvK2zpmLqdxo"
      },
      "source": [
        "# Función de perdida para optimizar el modelo\n",
        "def loss(labels, logits):\n",
        "      return tf.keras.losses.sparse_categorical_crossentropy(labels, logits, from_logits=True)"
      ],
      "execution_count": 150,
      "outputs": []
    },
    {
      "cell_type": "code",
      "metadata": {
        "id": "B6UN8opqsTwn"
      },
      "source": [
        "model.compile(optimizer='adam', loss=loss)\n"
      ],
      "execution_count": 151,
      "outputs": []
    },
    {
      "cell_type": "code",
      "metadata": {
        "id": "2i3h0XefsT8Z"
      },
      "source": [
        "# Directory where the checkpoints will be saved\n",
        "checkpoint_dir = 'training_checkpoints/'\n",
        "# Name of the checkpoint files\n",
        "checkpoint_prefix = os.path.join(checkpoint_dir, \"ckpt_{epoch}\")\n",
        "\n",
        "checkpoint_callback=tf.keras.callbacks.ModelCheckpoint(\n",
        "        filepath=checkpoint_prefix,\n",
        "        save_weights_only=True)"
      ],
      "execution_count": 159,
      "outputs": []
    },
    {
      "cell_type": "code",
      "metadata": {
        "colab": {
          "base_uri": "https://localhost:8080/"
        },
        "id": "YLXBcpK4sT6G",
        "outputId": "0846b553-0d9a-47ae-b805-834ec04f4912"
      },
      "source": [
        "# Una epoca es la cantidad de pasos completos en el conjunto de datos de entrenamiento\n",
        "EPOCHS=200\n",
        "model.load_weights(tf.train.latest_checkpoint(checkpoint_dir)) # Comentar esta linea la primera vez \n",
        "history = model.fit(dataset, epochs=EPOCHS, callbacks=[checkpoint_callback])"
      ],
      "execution_count": 167,
      "outputs": [
        {
          "output_type": "stream",
          "text": [
            "Epoch 1/200\n",
            "1/1 [==============================] - 0s 82ms/step - loss: 0.3732\n",
            "Epoch 2/200\n",
            "1/1 [==============================] - 0s 68ms/step - loss: 0.3724\n",
            "Epoch 3/200\n",
            "1/1 [==============================] - 0s 71ms/step - loss: 0.3688\n",
            "Epoch 4/200\n",
            "1/1 [==============================] - 0s 70ms/step - loss: 0.3606\n",
            "Epoch 5/200\n",
            "1/1 [==============================] - 0s 73ms/step - loss: 0.3615\n",
            "Epoch 6/200\n",
            "1/1 [==============================] - 0s 80ms/step - loss: 0.3560\n",
            "Epoch 7/200\n",
            "1/1 [==============================] - 0s 67ms/step - loss: 0.3638\n",
            "Epoch 8/200\n",
            "1/1 [==============================] - 0s 68ms/step - loss: 0.3487\n",
            "Epoch 9/200\n",
            "1/1 [==============================] - 0s 74ms/step - loss: 0.3524\n",
            "Epoch 10/200\n",
            "1/1 [==============================] - 0s 61ms/step - loss: 0.3433\n",
            "Epoch 11/200\n",
            "1/1 [==============================] - 0s 66ms/step - loss: 0.3443\n",
            "Epoch 12/200\n",
            "1/1 [==============================] - 0s 63ms/step - loss: 0.3398\n",
            "Epoch 13/200\n",
            "1/1 [==============================] - 0s 61ms/step - loss: 0.3460\n",
            "Epoch 14/200\n",
            "1/1 [==============================] - 0s 56ms/step - loss: 0.3419\n",
            "Epoch 15/200\n",
            "1/1 [==============================] - 0s 61ms/step - loss: 0.3258\n",
            "Epoch 16/200\n",
            "1/1 [==============================] - 0s 64ms/step - loss: 0.3334\n",
            "Epoch 17/200\n",
            "1/1 [==============================] - 0s 55ms/step - loss: 0.3250\n",
            "Epoch 18/200\n",
            "1/1 [==============================] - 0s 61ms/step - loss: 0.3275\n",
            "Epoch 19/200\n",
            "1/1 [==============================] - 0s 56ms/step - loss: 0.3201\n",
            "Epoch 20/200\n",
            "1/1 [==============================] - 0s 58ms/step - loss: 0.3158\n",
            "Epoch 21/200\n",
            "1/1 [==============================] - 0s 56ms/step - loss: 0.3188\n",
            "Epoch 22/200\n",
            "1/1 [==============================] - 0s 58ms/step - loss: 0.3123\n",
            "Epoch 23/200\n",
            "1/1 [==============================] - 0s 57ms/step - loss: 0.3138\n",
            "Epoch 24/200\n",
            "1/1 [==============================] - 0s 62ms/step - loss: 0.3106\n",
            "Epoch 25/200\n",
            "1/1 [==============================] - 0s 66ms/step - loss: 0.3105\n",
            "Epoch 26/200\n",
            "1/1 [==============================] - 0s 60ms/step - loss: 0.3112\n",
            "Epoch 27/200\n",
            "1/1 [==============================] - 0s 57ms/step - loss: 0.3067\n",
            "Epoch 28/200\n",
            "1/1 [==============================] - 0s 58ms/step - loss: 0.3038\n",
            "Epoch 29/200\n",
            "1/1 [==============================] - 0s 59ms/step - loss: 0.2994\n",
            "Epoch 30/200\n",
            "1/1 [==============================] - 0s 63ms/step - loss: 0.2983\n",
            "Epoch 31/200\n",
            "1/1 [==============================] - 0s 65ms/step - loss: 0.2949\n",
            "Epoch 32/200\n",
            "1/1 [==============================] - 0s 57ms/step - loss: 0.2939\n",
            "Epoch 33/200\n",
            "1/1 [==============================] - 0s 55ms/step - loss: 0.2931\n",
            "Epoch 34/200\n",
            "1/1 [==============================] - 0s 63ms/step - loss: 0.2944\n",
            "Epoch 35/200\n",
            "1/1 [==============================] - 0s 72ms/step - loss: 0.2875\n",
            "Epoch 36/200\n",
            "1/1 [==============================] - 0s 54ms/step - loss: 0.2897\n",
            "Epoch 37/200\n",
            "1/1 [==============================] - 0s 57ms/step - loss: 0.2876\n",
            "Epoch 38/200\n",
            "1/1 [==============================] - 0s 55ms/step - loss: 0.2834\n",
            "Epoch 39/200\n",
            "1/1 [==============================] - 0s 59ms/step - loss: 0.2865\n",
            "Epoch 40/200\n",
            "1/1 [==============================] - 0s 67ms/step - loss: 0.2851\n",
            "Epoch 41/200\n",
            "1/1 [==============================] - 0s 59ms/step - loss: 0.2787\n",
            "Epoch 42/200\n",
            "1/1 [==============================] - 0s 55ms/step - loss: 0.2780\n",
            "Epoch 43/200\n",
            "1/1 [==============================] - 0s 84ms/step - loss: 0.2770\n",
            "Epoch 44/200\n",
            "1/1 [==============================] - 0s 55ms/step - loss: 0.2703\n",
            "Epoch 45/200\n",
            "1/1 [==============================] - 0s 70ms/step - loss: 0.2693\n",
            "Epoch 46/200\n",
            "1/1 [==============================] - 0s 53ms/step - loss: 0.2732\n",
            "Epoch 47/200\n",
            "1/1 [==============================] - 0s 62ms/step - loss: 0.2696\n",
            "Epoch 48/200\n",
            "1/1 [==============================] - 0s 56ms/step - loss: 0.2677\n",
            "Epoch 49/200\n",
            "1/1 [==============================] - 0s 59ms/step - loss: 0.2682\n",
            "Epoch 50/200\n",
            "1/1 [==============================] - 0s 59ms/step - loss: 0.2671\n",
            "Epoch 51/200\n",
            "1/1 [==============================] - 0s 60ms/step - loss: 0.2608\n",
            "Epoch 52/200\n",
            "1/1 [==============================] - 0s 56ms/step - loss: 0.2602\n",
            "Epoch 53/200\n",
            "1/1 [==============================] - 0s 63ms/step - loss: 0.2603\n",
            "Epoch 54/200\n",
            "1/1 [==============================] - 0s 52ms/step - loss: 0.2617\n",
            "Epoch 55/200\n",
            "1/1 [==============================] - 0s 58ms/step - loss: 0.2619\n",
            "Epoch 56/200\n",
            "1/1 [==============================] - 0s 57ms/step - loss: 0.2573\n",
            "Epoch 57/200\n",
            "1/1 [==============================] - 0s 62ms/step - loss: 0.2621\n",
            "Epoch 58/200\n",
            "1/1 [==============================] - 0s 57ms/step - loss: 0.2566\n",
            "Epoch 59/200\n",
            "1/1 [==============================] - 0s 57ms/step - loss: 0.2585\n",
            "Epoch 60/200\n",
            "1/1 [==============================] - 0s 59ms/step - loss: 0.2571\n",
            "Epoch 61/200\n",
            "1/1 [==============================] - 0s 61ms/step - loss: 0.2513\n",
            "Epoch 62/200\n",
            "1/1 [==============================] - 0s 82ms/step - loss: 0.2492\n",
            "Epoch 63/200\n",
            "1/1 [==============================] - 0s 63ms/step - loss: 0.2569\n",
            "Epoch 64/200\n",
            "1/1 [==============================] - 0s 59ms/step - loss: 0.2528\n",
            "Epoch 65/200\n",
            "1/1 [==============================] - 0s 63ms/step - loss: 0.2527\n",
            "Epoch 66/200\n",
            "1/1 [==============================] - 0s 58ms/step - loss: 0.2486\n",
            "Epoch 67/200\n",
            "1/1 [==============================] - 0s 60ms/step - loss: 0.2425\n",
            "Epoch 68/200\n",
            "1/1 [==============================] - 0s 66ms/step - loss: 0.2394\n",
            "Epoch 69/200\n",
            "1/1 [==============================] - 0s 67ms/step - loss: 0.2417\n",
            "Epoch 70/200\n",
            "1/1 [==============================] - 0s 64ms/step - loss: 0.2485\n",
            "Epoch 71/200\n",
            "1/1 [==============================] - 0s 62ms/step - loss: 0.2435\n",
            "Epoch 72/200\n",
            "1/1 [==============================] - 0s 64ms/step - loss: 0.2379\n",
            "Epoch 73/200\n",
            "1/1 [==============================] - 0s 63ms/step - loss: 0.2425\n",
            "Epoch 74/200\n",
            "1/1 [==============================] - 0s 65ms/step - loss: 0.2449\n",
            "Epoch 75/200\n",
            "1/1 [==============================] - 0s 72ms/step - loss: 0.2405\n",
            "Epoch 76/200\n",
            "1/1 [==============================] - 0s 73ms/step - loss: 0.2372\n",
            "Epoch 77/200\n",
            "1/1 [==============================] - 0s 67ms/step - loss: 0.2377\n",
            "Epoch 78/200\n",
            "1/1 [==============================] - 0s 68ms/step - loss: 0.2314\n",
            "Epoch 79/200\n",
            "1/1 [==============================] - 0s 74ms/step - loss: 0.2338\n",
            "Epoch 80/200\n",
            "1/1 [==============================] - 0s 72ms/step - loss: 0.2394\n",
            "Epoch 81/200\n",
            "1/1 [==============================] - 0s 68ms/step - loss: 0.2357\n",
            "Epoch 82/200\n",
            "1/1 [==============================] - 0s 68ms/step - loss: 0.2323\n",
            "Epoch 83/200\n",
            "1/1 [==============================] - 0s 66ms/step - loss: 0.2307\n",
            "Epoch 84/200\n",
            "1/1 [==============================] - 0s 71ms/step - loss: 0.2357\n",
            "Epoch 85/200\n",
            "1/1 [==============================] - 0s 74ms/step - loss: 0.2290\n",
            "Epoch 86/200\n",
            "1/1 [==============================] - 0s 71ms/step - loss: 0.2274\n",
            "Epoch 87/200\n",
            "1/1 [==============================] - 0s 65ms/step - loss: 0.2311\n",
            "Epoch 88/200\n",
            "1/1 [==============================] - 0s 70ms/step - loss: 0.2238\n",
            "Epoch 89/200\n",
            "1/1 [==============================] - 0s 63ms/step - loss: 0.2219\n",
            "Epoch 90/200\n",
            "1/1 [==============================] - 0s 71ms/step - loss: 0.2270\n",
            "Epoch 91/200\n",
            "1/1 [==============================] - 0s 68ms/step - loss: 0.2248\n",
            "Epoch 92/200\n",
            "1/1 [==============================] - 0s 70ms/step - loss: 0.2252\n",
            "Epoch 93/200\n",
            "1/1 [==============================] - 0s 72ms/step - loss: 0.2215\n",
            "Epoch 94/200\n",
            "1/1 [==============================] - 0s 67ms/step - loss: 0.2211\n",
            "Epoch 95/200\n",
            "1/1 [==============================] - 0s 69ms/step - loss: 0.2226\n",
            "Epoch 96/200\n",
            "1/1 [==============================] - 0s 72ms/step - loss: 0.2212\n",
            "Epoch 97/200\n",
            "1/1 [==============================] - 0s 70ms/step - loss: 0.2227\n",
            "Epoch 98/200\n",
            "1/1 [==============================] - 0s 73ms/step - loss: 0.2253\n",
            "Epoch 99/200\n",
            "1/1 [==============================] - 0s 71ms/step - loss: 0.2180\n",
            "Epoch 100/200\n",
            "1/1 [==============================] - 0s 72ms/step - loss: 0.2179\n",
            "Epoch 101/200\n",
            "1/1 [==============================] - 0s 68ms/step - loss: 0.2168\n",
            "Epoch 102/200\n",
            "1/1 [==============================] - 0s 68ms/step - loss: 0.2164\n",
            "Epoch 103/200\n",
            "1/1 [==============================] - 0s 79ms/step - loss: 0.2124\n",
            "Epoch 104/200\n",
            "1/1 [==============================] - 0s 71ms/step - loss: 0.2178\n",
            "Epoch 105/200\n",
            "1/1 [==============================] - 0s 70ms/step - loss: 0.2189\n",
            "Epoch 106/200\n",
            "1/1 [==============================] - 0s 66ms/step - loss: 0.2119\n",
            "Epoch 107/200\n",
            "1/1 [==============================] - 0s 66ms/step - loss: 0.2131\n",
            "Epoch 108/200\n",
            "1/1 [==============================] - 0s 69ms/step - loss: 0.2142\n",
            "Epoch 109/200\n",
            "1/1 [==============================] - 0s 72ms/step - loss: 0.2103\n",
            "Epoch 110/200\n",
            "1/1 [==============================] - 0s 66ms/step - loss: 0.2133\n",
            "Epoch 111/200\n",
            "1/1 [==============================] - 0s 68ms/step - loss: 0.2042\n",
            "Epoch 112/200\n",
            "1/1 [==============================] - 0s 80ms/step - loss: 0.2112\n",
            "Epoch 113/200\n",
            "1/1 [==============================] - 0s 68ms/step - loss: 0.2106\n",
            "Epoch 114/200\n",
            "1/1 [==============================] - 0s 67ms/step - loss: 0.2062\n",
            "Epoch 115/200\n",
            "1/1 [==============================] - 0s 72ms/step - loss: 0.2174\n",
            "Epoch 116/200\n",
            "1/1 [==============================] - 0s 71ms/step - loss: 0.2104\n",
            "Epoch 117/200\n",
            "1/1 [==============================] - 0s 63ms/step - loss: 0.2081\n",
            "Epoch 118/200\n",
            "1/1 [==============================] - 0s 69ms/step - loss: 0.2098\n",
            "Epoch 119/200\n",
            "1/1 [==============================] - 0s 68ms/step - loss: 0.2085\n",
            "Epoch 120/200\n",
            "1/1 [==============================] - 0s 66ms/step - loss: 0.2043\n",
            "Epoch 121/200\n",
            "1/1 [==============================] - 0s 69ms/step - loss: 0.1999\n",
            "Epoch 122/200\n",
            "1/1 [==============================] - 0s 62ms/step - loss: 0.2044\n",
            "Epoch 123/200\n",
            "1/1 [==============================] - 0s 54ms/step - loss: 0.2038\n",
            "Epoch 124/200\n",
            "1/1 [==============================] - 0s 56ms/step - loss: 0.1989\n",
            "Epoch 125/200\n",
            "1/1 [==============================] - 0s 58ms/step - loss: 0.2041\n",
            "Epoch 126/200\n",
            "1/1 [==============================] - 0s 59ms/step - loss: 0.1977\n",
            "Epoch 127/200\n",
            "1/1 [==============================] - 0s 53ms/step - loss: 0.2036\n",
            "Epoch 128/200\n",
            "1/1 [==============================] - 0s 58ms/step - loss: 0.1993\n",
            "Epoch 129/200\n",
            "1/1 [==============================] - 0s 58ms/step - loss: 0.2034\n",
            "Epoch 130/200\n",
            "1/1 [==============================] - 0s 54ms/step - loss: 0.2079\n",
            "Epoch 131/200\n",
            "1/1 [==============================] - 0s 55ms/step - loss: 0.2010\n",
            "Epoch 132/200\n",
            "1/1 [==============================] - 0s 55ms/step - loss: 0.1953\n",
            "Epoch 133/200\n",
            "1/1 [==============================] - 0s 78ms/step - loss: 0.1982\n",
            "Epoch 134/200\n",
            "1/1 [==============================] - 0s 72ms/step - loss: 0.2026\n",
            "Epoch 135/200\n",
            "1/1 [==============================] - 0s 57ms/step - loss: 0.1971\n",
            "Epoch 136/200\n",
            "1/1 [==============================] - 0s 166ms/step - loss: 0.2007\n",
            "Epoch 137/200\n",
            "1/1 [==============================] - 0s 79ms/step - loss: 0.1950\n",
            "Epoch 138/200\n",
            "1/1 [==============================] - 0s 86ms/step - loss: 0.1948\n",
            "Epoch 139/200\n",
            "1/1 [==============================] - 0s 91ms/step - loss: 0.1974\n",
            "Epoch 140/200\n",
            "1/1 [==============================] - 0s 86ms/step - loss: 0.1985\n",
            "Epoch 141/200\n",
            "1/1 [==============================] - 0s 84ms/step - loss: 0.1956\n",
            "Epoch 142/200\n",
            "1/1 [==============================] - 0s 94ms/step - loss: 0.1916\n",
            "Epoch 143/200\n",
            "1/1 [==============================] - 0s 79ms/step - loss: 0.1954\n",
            "Epoch 144/200\n",
            "1/1 [==============================] - 0s 82ms/step - loss: 0.1996\n",
            "Epoch 145/200\n",
            "1/1 [==============================] - 0s 87ms/step - loss: 0.1955\n",
            "Epoch 146/200\n",
            "1/1 [==============================] - 0s 87ms/step - loss: 0.1928\n",
            "Epoch 147/200\n",
            "1/1 [==============================] - 0s 83ms/step - loss: 0.1913\n",
            "Epoch 148/200\n",
            "1/1 [==============================] - 0s 83ms/step - loss: 0.1924\n",
            "Epoch 149/200\n",
            "1/1 [==============================] - 0s 73ms/step - loss: 0.1920\n",
            "Epoch 150/200\n",
            "1/1 [==============================] - 0s 76ms/step - loss: 0.1924\n",
            "Epoch 151/200\n",
            "1/1 [==============================] - 0s 84ms/step - loss: 0.1889\n",
            "Epoch 152/200\n",
            "1/1 [==============================] - 0s 83ms/step - loss: 0.1906\n",
            "Epoch 153/200\n",
            "1/1 [==============================] - 0s 78ms/step - loss: 0.1910\n",
            "Epoch 154/200\n",
            "1/1 [==============================] - 0s 70ms/step - loss: 0.1924\n",
            "Epoch 155/200\n",
            "1/1 [==============================] - 0s 72ms/step - loss: 0.1935\n",
            "Epoch 156/200\n",
            "1/1 [==============================] - 0s 81ms/step - loss: 0.1905\n",
            "Epoch 157/200\n",
            "1/1 [==============================] - 0s 85ms/step - loss: 0.1938\n",
            "Epoch 158/200\n",
            "1/1 [==============================] - 0s 80ms/step - loss: 0.1897\n",
            "Epoch 159/200\n",
            "1/1 [==============================] - 0s 83ms/step - loss: 0.1827\n",
            "Epoch 160/200\n",
            "1/1 [==============================] - 0s 78ms/step - loss: 0.1907\n",
            "Epoch 161/200\n",
            "1/1 [==============================] - 0s 87ms/step - loss: 0.1882\n",
            "Epoch 162/200\n",
            "1/1 [==============================] - 0s 87ms/step - loss: 0.1841\n",
            "Epoch 163/200\n",
            "1/1 [==============================] - 0s 85ms/step - loss: 0.1848\n",
            "Epoch 164/200\n",
            "1/1 [==============================] - 0s 82ms/step - loss: 0.1833\n",
            "Epoch 165/200\n",
            "1/1 [==============================] - 0s 82ms/step - loss: 0.1843\n",
            "Epoch 166/200\n",
            "1/1 [==============================] - 0s 85ms/step - loss: 0.1819\n",
            "Epoch 167/200\n",
            "1/1 [==============================] - 0s 86ms/step - loss: 0.1772\n",
            "Epoch 168/200\n",
            "1/1 [==============================] - 0s 92ms/step - loss: 0.1848\n",
            "Epoch 169/200\n",
            "1/1 [==============================] - 0s 88ms/step - loss: 0.1862\n",
            "Epoch 170/200\n",
            "1/1 [==============================] - 0s 85ms/step - loss: 0.1857\n",
            "Epoch 171/200\n",
            "1/1 [==============================] - 0s 85ms/step - loss: 0.1836\n",
            "Epoch 172/200\n",
            "1/1 [==============================] - 0s 83ms/step - loss: 0.1807\n",
            "Epoch 173/200\n",
            "1/1 [==============================] - 0s 84ms/step - loss: 0.1868\n",
            "Epoch 174/200\n",
            "1/1 [==============================] - 0s 90ms/step - loss: 0.1804\n",
            "Epoch 175/200\n",
            "1/1 [==============================] - 0s 83ms/step - loss: 0.1817\n",
            "Epoch 176/200\n",
            "1/1 [==============================] - 0s 89ms/step - loss: 0.1820\n",
            "Epoch 177/200\n",
            "1/1 [==============================] - 0s 92ms/step - loss: 0.1809\n",
            "Epoch 178/200\n",
            "1/1 [==============================] - 0s 74ms/step - loss: 0.1829\n",
            "Epoch 179/200\n",
            "1/1 [==============================] - 0s 79ms/step - loss: 0.1790\n",
            "Epoch 180/200\n",
            "1/1 [==============================] - 0s 80ms/step - loss: 0.1825\n",
            "Epoch 181/200\n",
            "1/1 [==============================] - 0s 87ms/step - loss: 0.1818\n",
            "Epoch 182/200\n",
            "1/1 [==============================] - 0s 84ms/step - loss: 0.1838\n",
            "Epoch 183/200\n",
            "1/1 [==============================] - 0s 86ms/step - loss: 0.1852\n",
            "Epoch 184/200\n",
            "1/1 [==============================] - 0s 64ms/step - loss: 0.1804\n",
            "Epoch 185/200\n",
            "1/1 [==============================] - 0s 69ms/step - loss: 0.1772\n",
            "Epoch 186/200\n",
            "1/1 [==============================] - 0s 68ms/step - loss: 0.1823\n",
            "Epoch 187/200\n",
            "1/1 [==============================] - 0s 67ms/step - loss: 0.1763\n",
            "Epoch 188/200\n",
            "1/1 [==============================] - 0s 62ms/step - loss: 0.1783\n",
            "Epoch 189/200\n",
            "1/1 [==============================] - 0s 58ms/step - loss: 0.1716\n",
            "Epoch 190/200\n",
            "1/1 [==============================] - 0s 74ms/step - loss: 0.1796\n",
            "Epoch 191/200\n",
            "1/1 [==============================] - 0s 64ms/step - loss: 0.1737\n",
            "Epoch 192/200\n",
            "1/1 [==============================] - 0s 62ms/step - loss: 0.1747\n",
            "Epoch 193/200\n",
            "1/1 [==============================] - 0s 63ms/step - loss: 0.1721\n",
            "Epoch 194/200\n",
            "1/1 [==============================] - 0s 65ms/step - loss: 0.1744\n",
            "Epoch 195/200\n",
            "1/1 [==============================] - 0s 61ms/step - loss: 0.1748\n",
            "Epoch 196/200\n",
            "1/1 [==============================] - 0s 69ms/step - loss: 0.1768\n",
            "Epoch 197/200\n",
            "1/1 [==============================] - 0s 75ms/step - loss: 0.1725\n",
            "Epoch 198/200\n",
            "1/1 [==============================] - 0s 66ms/step - loss: 0.1741\n",
            "Epoch 199/200\n",
            "1/1 [==============================] - 0s 60ms/step - loss: 0.1791\n",
            "Epoch 200/200\n",
            "1/1 [==============================] - 0s 62ms/step - loss: 0.1764\n"
          ],
          "name": "stdout"
        }
      ]
    },
    {
      "cell_type": "code",
      "metadata": {
        "colab": {
          "base_uri": "https://localhost:8080/"
        },
        "id": "9gTxNGb8sT3N",
        "outputId": "4978cc99-d406-473e-c36f-863e2f810ca5"
      },
      "source": [
        "p_model = build_model(vocab_size, embedding_dim, rnn_units, batch_size=1)\n",
        "p_model.load_weights(tf.train.latest_checkpoint(checkpoint_dir))\n",
        "p_model.build(tf.TensorShape([1, None]))"
      ],
      "execution_count": 168,
      "outputs": [
        {
          "output_type": "stream",
          "text": [
            "WARNING:tensorflow:Unresolved object in checkpoint: (root).optimizer\n",
            "WARNING:tensorflow:Unresolved object in checkpoint: (root).optimizer.iter\n",
            "WARNING:tensorflow:Unresolved object in checkpoint: (root).optimizer.beta_1\n",
            "WARNING:tensorflow:Unresolved object in checkpoint: (root).optimizer.beta_2\n",
            "WARNING:tensorflow:Unresolved object in checkpoint: (root).optimizer.decay\n",
            "WARNING:tensorflow:Unresolved object in checkpoint: (root).optimizer.learning_rate\n",
            "WARNING:tensorflow:Unresolved object in checkpoint: (root).optimizer's state 'm' for (root).layer_with_weights-0.embeddings\n",
            "WARNING:tensorflow:Unresolved object in checkpoint: (root).optimizer's state 'm' for (root).layer_with_weights-3.kernel\n",
            "WARNING:tensorflow:Unresolved object in checkpoint: (root).optimizer's state 'm' for (root).layer_with_weights-3.bias\n",
            "WARNING:tensorflow:Unresolved object in checkpoint: (root).optimizer's state 'm' for (root).layer_with_weights-1.cell.kernel\n",
            "WARNING:tensorflow:Unresolved object in checkpoint: (root).optimizer's state 'm' for (root).layer_with_weights-1.cell.recurrent_kernel\n",
            "WARNING:tensorflow:Unresolved object in checkpoint: (root).optimizer's state 'm' for (root).layer_with_weights-1.cell.bias\n",
            "WARNING:tensorflow:Unresolved object in checkpoint: (root).optimizer's state 'm' for (root).layer_with_weights-2.cell.kernel\n",
            "WARNING:tensorflow:Unresolved object in checkpoint: (root).optimizer's state 'm' for (root).layer_with_weights-2.cell.recurrent_kernel\n",
            "WARNING:tensorflow:Unresolved object in checkpoint: (root).optimizer's state 'm' for (root).layer_with_weights-2.cell.bias\n",
            "WARNING:tensorflow:Unresolved object in checkpoint: (root).optimizer's state 'v' for (root).layer_with_weights-0.embeddings\n",
            "WARNING:tensorflow:Unresolved object in checkpoint: (root).optimizer's state 'v' for (root).layer_with_weights-3.kernel\n",
            "WARNING:tensorflow:Unresolved object in checkpoint: (root).optimizer's state 'v' for (root).layer_with_weights-3.bias\n",
            "WARNING:tensorflow:Unresolved object in checkpoint: (root).optimizer's state 'v' for (root).layer_with_weights-1.cell.kernel\n",
            "WARNING:tensorflow:Unresolved object in checkpoint: (root).optimizer's state 'v' for (root).layer_with_weights-1.cell.recurrent_kernel\n",
            "WARNING:tensorflow:Unresolved object in checkpoint: (root).optimizer's state 'v' for (root).layer_with_weights-1.cell.bias\n",
            "WARNING:tensorflow:Unresolved object in checkpoint: (root).optimizer's state 'v' for (root).layer_with_weights-2.cell.kernel\n",
            "WARNING:tensorflow:Unresolved object in checkpoint: (root).optimizer's state 'v' for (root).layer_with_weights-2.cell.recurrent_kernel\n",
            "WARNING:tensorflow:Unresolved object in checkpoint: (root).optimizer's state 'v' for (root).layer_with_weights-2.cell.bias\n",
            "WARNING:tensorflow:A checkpoint was restored (e.g. tf.train.Checkpoint.restore or tf.keras.Model.load_weights) but not all checkpointed values were used. See above for specific issues. Use expect_partial() on the load status object, e.g. tf.train.Checkpoint.restore(...).expect_partial(), to silence these warnings, or use assert_consumed() to make the check explicit. See https://www.tensorflow.org/guide/checkpoint#loading_mechanics for details.\n"
          ],
          "name": "stdout"
        }
      ]
    },
    {
      "cell_type": "code",
      "metadata": {
        "id": "oPri6Z0DsT00"
      },
      "source": [
        "def generate_text(model, start_string):\n",
        "    # Evaluation step (generating text using the learned model)\n",
        "\n",
        "    # Number of characters to generate\n",
        "    num_generate = 1000\n",
        "\n",
        "    # Converting our start string to numbers (vectorizing)\n",
        "    input_eval = [char2idx[s] for s in start_string]\n",
        "    input_eval = tf.expand_dims(input_eval, 0)\n",
        "\n",
        "    # Empty string to store our results\n",
        "    text_generated = []\n",
        "\n",
        "    # Low temperatures results in more predictable text.\n",
        "    # Higher temperatures results in more surprising text.\n",
        "    # Experiment to find the best setting.\n",
        "    temperature = 1.0\n",
        "\n",
        "    # Here batch size == 1\n",
        "    model.reset_states()\n",
        "    for i in range(num_generate):\n",
        "        predictions = model(input_eval)\n",
        "        # remove the batch dimension\n",
        "        predictions = tf.squeeze(predictions, 0)\n",
        "\n",
        "        # using a categorical distribution to predict the word returned by the model\n",
        "        predictions = predictions / temperature\n",
        "        predicted_id = tf.random.categorical(predictions, num_samples=1)[-1,0].numpy()\n",
        "\n",
        "        # We pass the predicted word as the next input to the model\n",
        "        # along with the previous hidden state\n",
        "        input_eval = tf.expand_dims([predicted_id], 0)\n",
        "\n",
        "        text_generated.append(idx2char[predicted_id])\n",
        "\n",
        "    return(start_string + ''.join(text_generated))"
      ],
      "execution_count": 170,
      "outputs": []
    },
    {
      "cell_type": "code",
      "metadata": {
        "colab": {
          "base_uri": "https://localhost:8080/"
        },
        "id": "hm9_aYNusTuK",
        "outputId": "e95bd5e3-4f11-45fb-d7b6-a075b18f44ff"
      },
      "source": [
        "print(generate_text(p_model, start_string=u\"fantasy\"))"
      ],
      "execution_count": 171,
      "outputs": [
        {
          "output_type": "stream",
          "text": [
            "fantasy manci  radaie  mast rally their cosconer  drends that he couldn t possibly know a phar eve celebrating takes him under her wing matt scudd and march soon learn the hard wayher  his life os the local rufused out of wedly  good arl  an unable to digest food  despite the dire diagnosin  sam rockwell  at a time when he deads 15 venter  livistine siding  when roy and his new partner  1d horizon as leon rom  chisolm rescue   may  a john s cer poise are south  yet it was now en un inbleiather haupson  has rjends to recaise attical prowess drives the teens to succerd finkel  a struge comes through a smoky hearthor herman melvill the too  julia love  a defiant mortal named bee  and kazo  when roy and his new students find that they have one vangious wolln the survival of mankind hangs in the 1920s  raush towers  how erupal battle with zode as a hero and spendful che soon strockily  that there may nomes s comear  college shaten  so the yap br a fants as joche houre to ghat with his wife  kate h\n"
          ],
          "name": "stdout"
        }
      ]
    },
    {
      "cell_type": "code",
      "metadata": {
        "colab": {
          "base_uri": "https://localhost:8080/"
        },
        "id": "Qo-gafqqsTq6",
        "outputId": "343fec25-683f-4863-bed4-5825acb8bc5d"
      },
      "source": [
        "print(generate_text(p_model, start_string=u\"horror\"))"
      ],
      "execution_count": 172,
      "outputs": [
        {
          "output_type": "stream",
          "text": [
            "horrord marrixh  and their relationship is going  norman and carol try to res ut f man of her dead brother oner  until and copel ser  robert her hatpan  his seemingly clear path to success gets complicated when he  naw gravely ill  thus  aidan attempts to home school his offspring  as his chwell new  mifha cath compunity  especially thatul her pore the survival of mankind hangs in the balance when set  bet american heiress and a revolutionary want it op over to receive  her longing a job with his us coseigher wather finker pasker  josh juman  a chain of events unfold gredfie devote their existence to ralis es extwent family ties  incredible work eproc story of a conippant for a prostitht compite  emme action comedican of finder write  mobey wilit fall of their home  the couple to the congo  rom plans to capture tarzan and deliver him to an old enemy in exchnoweethem to gith she s been groomed for stardom all her life by an overbearing mothe magh  requeying a younger woman  her friend jesse  \n"
          ],
          "name": "stdout"
        }
      ]
    },
    {
      "cell_type": "code",
      "metadata": {
        "colab": {
          "base_uri": "https://localhost:8080/"
        },
        "id": "LiBQuzuKqdv_",
        "outputId": "91e6c851-e638-4b17-95aa-d8fccb24996c"
      },
      "source": [
        "print(generate_text(p_model, start_string=u\"hero\"))"
      ],
      "execution_count": 173,
      "outputs": [
        {
          "output_type": "stream",
          "text": [
            "herousm as he joins a huge army of elite warriors to catch the kniversent s time  with her go act setulaging bark  she gets a young a sexy blond dancer  juno temple  she invition to the fright heaves a holm warrior  matt damon  is a wither takes three men on a lifeboat towte  billakn in ender the grading unis of rending actor  lives in tho documend his hem surard of hin dromer to a predoces for ghinger  wa5nerf reunie  harger  julo  s their ore and ollfe  their old relen  but amwer contin  wright  a 17 year old student  loses her virginity zuch a high school sweeter for activities evertheid movement and co somelaghatif  thaughter  gugu mbatha raw  of a british admiral plays an important role in the campaign to abolish sluses and other farmers  knig tims en  that there may not be a treic ot warld in cept a both the will wry to los  jass deadan getara  kaight reaves her unfole be with his molenta cullace  when heran agant  marh lauren  erbeautiful  with the emergence of electroo love in new \n"
          ],
          "name": "stdout"
        }
      ]
    },
    {
      "cell_type": "code",
      "metadata": {
        "colab": {
          "base_uri": "https://localhost:8080/"
        },
        "id": "uCPTM_ngqdpT",
        "outputId": "cb0fda14-f315-49b0-8d64-41838103ae3a"
      },
      "source": [
        "print(generate_text(p_model, start_string=u\"super\"))"
      ],
      "execution_count": 174,
      "outputs": [
        {
          "output_type": "stream",
          "text": [
            "super she learns that her classmates secretly  arexpigate  he forces the women to cut him in on their strips that the crime sparls a jives with a raing the 1972 world chess championship a young american in paris works an un  nalpy fart them tee and poss spett  pake atain  as sod he weekend to clean out the junk friends in the case unexpectedly  afternct his chief technical officer  jason bateman  must rally their co worker from her as a lifeboa makic rovicu  her boyfriend  jro win a national title  all spoute realizes the boys pore interave the woman he lives  the francory  jessiey  as lives will be thrown into a terrifying tailspin  at first  simon doesn t recognize gor a her aloug  mark daugh  who show dis daks and nivily a stripp e ply on the 1960s  eddie mannix is busy at workon storys his life on the line after being pulled into the dangerous world of the escovery boyer  but he has a problem  college friends lance  morris chestnut  harpy spend  a wichard linking parizan batte s past ra\n"
          ],
          "name": "stdout"
        }
      ]
    },
    {
      "cell_type": "code",
      "metadata": {
        "colab": {
          "base_uri": "https://localhost:8080/"
        },
        "id": "HoRgUEWCqda2",
        "outputId": "8ad87f4a-86e4-45c5-aab0-898d6e7760c4"
      },
      "source": [
        "print(generate_text(p_model, start_string=u\"magic\"))"
      ],
      "execution_count": 175,
      "outputs": [
        {
          "output_type": "stream",
          "text": [
            "magic workment  where he began in stand up comedy  andre allen  chris rock  hit the big time as the state of 1924s house  a man  logan marshall grotection s spaces the cound two cruan world chess a just called and ong them adrifting a housed residents of the corrupt and funnel the money to audience members  a federal agent  mark ruffalo  matt mamaud of hem freak who doesn t tell her parental disapprovale  dreach begina travel writer  jah  causin her to the friends dian wilas  the government sunder  ant relocate to uall  he  namee a prostitht have come and gone  which contrition  as chrest battle yet is about to boye in her boyfriend  trent  steven one cares truar  woody allen  hires out his marriage to sunaina draws near  sonnghal and relocate to a french town  despite the bestorts  the hudans  peough when he has an affair with a trobbly women who shakent acle  bat mogel priest accused out of wedlock and wasker hoit papingint a for dark agrion wook will save their jobs Sin Datos on feb mann\n"
          ],
          "name": "stdout"
        }
      ]
    },
    {
      "cell_type": "code",
      "metadata": {
        "colab": {
          "base_uri": "https://localhost:8080/"
        },
        "id": "fbmopSWaUuiJ",
        "outputId": "2e2f6ddb-7582-4880-a55d-ebdbbde98871"
      },
      "source": [
        "print(generate_text(p_model, start_string=u\"travel\")) "
      ],
      "execution_count": 176,
      "outputs": [
        {
          "output_type": "stream",
          "text": [
            "travely takes the charoughter  gugut in cear  with the emergence of electroo  john d leo  can t help but resort to doing things the  family and ldave the world and rescuey his jog when he mistover  his lifes parter  at a bus station  face  when losh out to save her senior year from becoming ar aca the wonde when he hes and puts after a man  lich strenga  kristing unexpected personal responses  he begins to understand her pare  mandyy patink a herdy way arroged sharres  factor  locess ding ane kecomes the couple to the congo  rom plans to capture tarzan and deliver him to an old enemy in exchange duss into the winawer  liam neeson  formerly part of the noum  a firring murder  with story  however  madal  julianne howard  robyn  sanaa lathan  jordan  nin pasonts t foo hot him  as the brefore  nthel heart surper  forced to flen he inner cipy of a soviet for the takes a loc  and the chief suspect  they have in enriar with  they wind up knocking supermones  shatress inner humanity and the reasonal\n"
          ],
          "name": "stdout"
        }
      ]
    }
  ]
}